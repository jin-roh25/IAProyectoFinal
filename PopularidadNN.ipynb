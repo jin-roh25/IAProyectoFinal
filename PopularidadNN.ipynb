{
 "cells": [
  {
   "cell_type": "code",
   "execution_count": 43,
   "id": "a05d9d9d",
   "metadata": {},
   "outputs": [],
   "source": [
    "import torch\n",
    "import matplotlib.pyplot as plt\n",
    "import numpy as np\n",
    "import pandas as pd\n",
    "from torch import nn\n",
    "from torch.utils.data import Dataset, DataLoader\n",
    "from tqdm import tqdm\n",
    "from sklearn.model_selection import train_test_split\n",
    "from sklearn.preprocessing import MinMaxScaler\n",
    "from sklearn.metrics import classification_report, confusion_matrix, ConfusionMatrixDisplay\n",
    "\n",
    "df = pd.read_parquet('../data/songs_optimized.parquet')"
   ]
  },
  {
   "cell_type": "markdown",
   "id": "0370545f",
   "metadata": {
    "vscode": {
     "languageId": "html"
    }
   },
   "source": [
    "# Pre-procesado del dataframe"
   ]
  },
  {
   "cell_type": "code",
   "execution_count": 95,
   "id": "55d53642",
   "metadata": {},
   "outputs": [
    {
     "data": {
      "text/html": [
       "<div>\n",
       "<style scoped>\n",
       "    .dataframe tbody tr th:only-of-type {\n",
       "        vertical-align: middle;\n",
       "    }\n",
       "\n",
       "    .dataframe tbody tr th {\n",
       "        vertical-align: top;\n",
       "    }\n",
       "\n",
       "    .dataframe thead th {\n",
       "        text-align: right;\n",
       "    }\n",
       "</style>\n",
       "<table border=\"1\" class=\"dataframe\">\n",
       "  <thead>\n",
       "    <tr style=\"text-align: right;\">\n",
       "      <th></th>\n",
       "      <th>Tempo</th>\n",
       "      <th>Loudness (db)</th>\n",
       "      <th>Explicit</th>\n",
       "      <th>Popularity</th>\n",
       "      <th>Energy</th>\n",
       "      <th>Danceability</th>\n",
       "      <th>Positiveness</th>\n",
       "      <th>Speechiness</th>\n",
       "      <th>Liveness</th>\n",
       "      <th>Acousticness</th>\n",
       "      <th>...</th>\n",
       "      <th>Genre_soul</th>\n",
       "      <th>Genre_soundtrack</th>\n",
       "      <th>Genre_swing</th>\n",
       "      <th>Genre_synthpop</th>\n",
       "      <th>Genre_techno</th>\n",
       "      <th>Genre_thrash metal</th>\n",
       "      <th>Genre_trance</th>\n",
       "      <th>Genre_trap</th>\n",
       "      <th>Genre_trip-hop</th>\n",
       "      <th>Genre_worship</th>\n",
       "    </tr>\n",
       "  </thead>\n",
       "  <tbody>\n",
       "    <tr>\n",
       "      <th>0</th>\n",
       "      <td>105</td>\n",
       "      <td>-6.85</td>\n",
       "      <td>0</td>\n",
       "      <td>40</td>\n",
       "      <td>83</td>\n",
       "      <td>71</td>\n",
       "      <td>87</td>\n",
       "      <td>4</td>\n",
       "      <td>16</td>\n",
       "      <td>11</td>\n",
       "      <td>...</td>\n",
       "      <td>0</td>\n",
       "      <td>0</td>\n",
       "      <td>0</td>\n",
       "      <td>0</td>\n",
       "      <td>0</td>\n",
       "      <td>0</td>\n",
       "      <td>0</td>\n",
       "      <td>0</td>\n",
       "      <td>0</td>\n",
       "      <td>0</td>\n",
       "    </tr>\n",
       "    <tr>\n",
       "      <th>1</th>\n",
       "      <td>117</td>\n",
       "      <td>-5.75</td>\n",
       "      <td>0</td>\n",
       "      <td>42</td>\n",
       "      <td>85</td>\n",
       "      <td>70</td>\n",
       "      <td>87</td>\n",
       "      <td>4</td>\n",
       "      <td>32</td>\n",
       "      <td>0</td>\n",
       "      <td>...</td>\n",
       "      <td>0</td>\n",
       "      <td>0</td>\n",
       "      <td>0</td>\n",
       "      <td>0</td>\n",
       "      <td>0</td>\n",
       "      <td>0</td>\n",
       "      <td>0</td>\n",
       "      <td>0</td>\n",
       "      <td>0</td>\n",
       "      <td>0</td>\n",
       "    </tr>\n",
       "    <tr>\n",
       "      <th>2</th>\n",
       "      <td>121</td>\n",
       "      <td>-6.06</td>\n",
       "      <td>0</td>\n",
       "      <td>29</td>\n",
       "      <td>89</td>\n",
       "      <td>71</td>\n",
       "      <td>63</td>\n",
       "      <td>8</td>\n",
       "      <td>64</td>\n",
       "      <td>0</td>\n",
       "      <td>...</td>\n",
       "      <td>0</td>\n",
       "      <td>0</td>\n",
       "      <td>0</td>\n",
       "      <td>0</td>\n",
       "      <td>0</td>\n",
       "      <td>0</td>\n",
       "      <td>0</td>\n",
       "      <td>0</td>\n",
       "      <td>0</td>\n",
       "      <td>0</td>\n",
       "    </tr>\n",
       "    <tr>\n",
       "      <th>3</th>\n",
       "      <td>122</td>\n",
       "      <td>-5.42</td>\n",
       "      <td>0</td>\n",
       "      <td>24</td>\n",
       "      <td>84</td>\n",
       "      <td>78</td>\n",
       "      <td>97</td>\n",
       "      <td>4</td>\n",
       "      <td>12</td>\n",
       "      <td>12</td>\n",
       "      <td>...</td>\n",
       "      <td>0</td>\n",
       "      <td>0</td>\n",
       "      <td>0</td>\n",
       "      <td>0</td>\n",
       "      <td>0</td>\n",
       "      <td>0</td>\n",
       "      <td>0</td>\n",
       "      <td>0</td>\n",
       "      <td>0</td>\n",
       "      <td>0</td>\n",
       "    </tr>\n",
       "    <tr>\n",
       "      <th>4</th>\n",
       "      <td>123</td>\n",
       "      <td>-5.57</td>\n",
       "      <td>0</td>\n",
       "      <td>30</td>\n",
       "      <td>71</td>\n",
       "      <td>77</td>\n",
       "      <td>70</td>\n",
       "      <td>7</td>\n",
       "      <td>10</td>\n",
       "      <td>4</td>\n",
       "      <td>...</td>\n",
       "      <td>0</td>\n",
       "      <td>0</td>\n",
       "      <td>0</td>\n",
       "      <td>0</td>\n",
       "      <td>0</td>\n",
       "      <td>0</td>\n",
       "      <td>0</td>\n",
       "      <td>0</td>\n",
       "      <td>0</td>\n",
       "      <td>0</td>\n",
       "    </tr>\n",
       "  </tbody>\n",
       "</table>\n",
       "<p>5 rows × 151 columns</p>\n",
       "</div>"
      ],
      "text/plain": [
       "   Tempo  Loudness (db)  Explicit  Popularity  Energy  Danceability  \\\n",
       "0    105          -6.85         0          40      83            71   \n",
       "1    117          -5.75         0          42      85            70   \n",
       "2    121          -6.06         0          29      89            71   \n",
       "3    122          -5.42         0          24      84            78   \n",
       "4    123          -5.57         0          30      71            77   \n",
       "\n",
       "   Positiveness  Speechiness  Liveness  Acousticness  ...  Genre_soul  \\\n",
       "0            87            4        16            11  ...           0   \n",
       "1            87            4        32             0  ...           0   \n",
       "2            63            8        64             0  ...           0   \n",
       "3            97            4        12            12  ...           0   \n",
       "4            70            7        10             4  ...           0   \n",
       "\n",
       "   Genre_soundtrack  Genre_swing  Genre_synthpop  Genre_techno  \\\n",
       "0                 0            0               0             0   \n",
       "1                 0            0               0             0   \n",
       "2                 0            0               0             0   \n",
       "3                 0            0               0             0   \n",
       "4                 0            0               0             0   \n",
       "\n",
       "   Genre_thrash metal  Genre_trance  Genre_trap  Genre_trip-hop  Genre_worship  \n",
       "0                   0             0           0               0              0  \n",
       "1                   0             0           0               0              0  \n",
       "2                   0             0           0               0              0  \n",
       "3                   0             0           0               0              0  \n",
       "4                   0             0           0               0              0  \n",
       "\n",
       "[5 rows x 151 columns]"
      ]
     },
     "execution_count": 95,
     "metadata": {},
     "output_type": "execute_result"
    }
   ],
   "source": [
    "df.head()"
   ]
  },
  {
   "cell_type": "code",
   "execution_count": 96,
   "id": "897eba5b",
   "metadata": {},
   "outputs": [
    {
     "data": {
      "text/plain": [
       "Tempo                   int64\n",
       "Loudness (db)         float64\n",
       "Explicit                int64\n",
       "Popularity              uint8\n",
       "Energy                  uint8\n",
       "                       ...   \n",
       "Genre_thrash metal      int64\n",
       "Genre_trance            int64\n",
       "Genre_trap              int64\n",
       "Genre_trip-hop          int64\n",
       "Genre_worship           int64\n",
       "Length: 151, dtype: object"
      ]
     },
     "execution_count": 96,
     "metadata": {},
     "output_type": "execute_result"
    }
   ],
   "source": [
    "df.dtypes"
   ]
  },
  {
   "cell_type": "code",
   "execution_count": 97,
   "id": "0cf0ad27",
   "metadata": {},
   "outputs": [
    {
     "ename": "KeyError",
     "evalue": "'song'",
     "output_type": "error",
     "traceback": [
      "\u001b[31m---------------------------------------------------------------------------\u001b[39m",
      "\u001b[31mKeyError\u001b[39m                                  Traceback (most recent call last)",
      "\u001b[36mFile \u001b[39m\u001b[32mc:\\Users\\sebag\\AppData\\Local\\Programs\\Python\\Python313\\Lib\\site-packages\\pandas\\core\\indexes\\base.py:3805\u001b[39m, in \u001b[36mIndex.get_loc\u001b[39m\u001b[34m(self, key)\u001b[39m\n\u001b[32m   3804\u001b[39m \u001b[38;5;28;01mtry\u001b[39;00m:\n\u001b[32m-> \u001b[39m\u001b[32m3805\u001b[39m     \u001b[38;5;28;01mreturn\u001b[39;00m \u001b[38;5;28;43mself\u001b[39;49m\u001b[43m.\u001b[49m\u001b[43m_engine\u001b[49m\u001b[43m.\u001b[49m\u001b[43mget_loc\u001b[49m\u001b[43m(\u001b[49m\u001b[43mcasted_key\u001b[49m\u001b[43m)\u001b[49m\n\u001b[32m   3806\u001b[39m \u001b[38;5;28;01mexcept\u001b[39;00m \u001b[38;5;167;01mKeyError\u001b[39;00m \u001b[38;5;28;01mas\u001b[39;00m err:\n",
      "\u001b[36mFile \u001b[39m\u001b[32mindex.pyx:167\u001b[39m, in \u001b[36mpandas._libs.index.IndexEngine.get_loc\u001b[39m\u001b[34m()\u001b[39m\n",
      "\u001b[36mFile \u001b[39m\u001b[32mindex.pyx:196\u001b[39m, in \u001b[36mpandas._libs.index.IndexEngine.get_loc\u001b[39m\u001b[34m()\u001b[39m\n",
      "\u001b[36mFile \u001b[39m\u001b[32mpandas\\\\_libs\\\\hashtable_class_helper.pxi:7081\u001b[39m, in \u001b[36mpandas._libs.hashtable.PyObjectHashTable.get_item\u001b[39m\u001b[34m()\u001b[39m\n",
      "\u001b[36mFile \u001b[39m\u001b[32mpandas\\\\_libs\\\\hashtable_class_helper.pxi:7089\u001b[39m, in \u001b[36mpandas._libs.hashtable.PyObjectHashTable.get_item\u001b[39m\u001b[34m()\u001b[39m\n",
      "\u001b[31mKeyError\u001b[39m: 'song'",
      "\nThe above exception was the direct cause of the following exception:\n",
      "\u001b[31mKeyError\u001b[39m                                  Traceback (most recent call last)",
      "\u001b[36mCell\u001b[39m\u001b[36m \u001b[39m\u001b[32mIn[97]\u001b[39m\u001b[32m, line 2\u001b[39m\n\u001b[32m      1\u001b[39m \u001b[38;5;66;03m#guardar nombre de las canciones, para la validación?\u001b[39;00m\n\u001b[32m----> \u001b[39m\u001b[32m2\u001b[39m nameSongs = \u001b[43mdf\u001b[49m\u001b[43m[\u001b[49m\u001b[33;43m'\u001b[39;49m\u001b[33;43msong\u001b[39;49m\u001b[33;43m'\u001b[39;49m\u001b[43m]\u001b[49m\n",
      "\u001b[36mFile \u001b[39m\u001b[32mc:\\Users\\sebag\\AppData\\Local\\Programs\\Python\\Python313\\Lib\\site-packages\\pandas\\core\\frame.py:4102\u001b[39m, in \u001b[36mDataFrame.__getitem__\u001b[39m\u001b[34m(self, key)\u001b[39m\n\u001b[32m   4100\u001b[39m \u001b[38;5;28;01mif\u001b[39;00m \u001b[38;5;28mself\u001b[39m.columns.nlevels > \u001b[32m1\u001b[39m:\n\u001b[32m   4101\u001b[39m     \u001b[38;5;28;01mreturn\u001b[39;00m \u001b[38;5;28mself\u001b[39m._getitem_multilevel(key)\n\u001b[32m-> \u001b[39m\u001b[32m4102\u001b[39m indexer = \u001b[38;5;28;43mself\u001b[39;49m\u001b[43m.\u001b[49m\u001b[43mcolumns\u001b[49m\u001b[43m.\u001b[49m\u001b[43mget_loc\u001b[49m\u001b[43m(\u001b[49m\u001b[43mkey\u001b[49m\u001b[43m)\u001b[49m\n\u001b[32m   4103\u001b[39m \u001b[38;5;28;01mif\u001b[39;00m is_integer(indexer):\n\u001b[32m   4104\u001b[39m     indexer = [indexer]\n",
      "\u001b[36mFile \u001b[39m\u001b[32mc:\\Users\\sebag\\AppData\\Local\\Programs\\Python\\Python313\\Lib\\site-packages\\pandas\\core\\indexes\\base.py:3812\u001b[39m, in \u001b[36mIndex.get_loc\u001b[39m\u001b[34m(self, key)\u001b[39m\n\u001b[32m   3807\u001b[39m     \u001b[38;5;28;01mif\u001b[39;00m \u001b[38;5;28misinstance\u001b[39m(casted_key, \u001b[38;5;28mslice\u001b[39m) \u001b[38;5;129;01mor\u001b[39;00m (\n\u001b[32m   3808\u001b[39m         \u001b[38;5;28misinstance\u001b[39m(casted_key, abc.Iterable)\n\u001b[32m   3809\u001b[39m         \u001b[38;5;129;01mand\u001b[39;00m \u001b[38;5;28many\u001b[39m(\u001b[38;5;28misinstance\u001b[39m(x, \u001b[38;5;28mslice\u001b[39m) \u001b[38;5;28;01mfor\u001b[39;00m x \u001b[38;5;129;01min\u001b[39;00m casted_key)\n\u001b[32m   3810\u001b[39m     ):\n\u001b[32m   3811\u001b[39m         \u001b[38;5;28;01mraise\u001b[39;00m InvalidIndexError(key)\n\u001b[32m-> \u001b[39m\u001b[32m3812\u001b[39m     \u001b[38;5;28;01mraise\u001b[39;00m \u001b[38;5;167;01mKeyError\u001b[39;00m(key) \u001b[38;5;28;01mfrom\u001b[39;00m\u001b[38;5;250m \u001b[39m\u001b[34;01merr\u001b[39;00m\n\u001b[32m   3813\u001b[39m \u001b[38;5;28;01mexcept\u001b[39;00m \u001b[38;5;167;01mTypeError\u001b[39;00m:\n\u001b[32m   3814\u001b[39m     \u001b[38;5;66;03m# If we have a listlike key, _check_indexing_error will raise\u001b[39;00m\n\u001b[32m   3815\u001b[39m     \u001b[38;5;66;03m#  InvalidIndexError. Otherwise we fall through and re-raise\u001b[39;00m\n\u001b[32m   3816\u001b[39m     \u001b[38;5;66;03m#  the TypeError.\u001b[39;00m\n\u001b[32m   3817\u001b[39m     \u001b[38;5;28mself\u001b[39m._check_indexing_error(key)\n",
      "\u001b[31mKeyError\u001b[39m: 'song'"
     ]
    }
   ],
   "source": [
    "#guardar nombre de las canciones, para la validación?\n",
    "nameSongs = df['song']"
   ]
  },
  {
   "cell_type": "code",
   "execution_count": null,
   "id": "8fb04633",
   "metadata": {},
   "outputs": [],
   "source": [
    "#columnas a eliminar que no tienen relevancia para predecir la popularidad\n",
    "columnas_innecesarias = ['Artist(s)', 'text', 'Similar Artist 1', 'Similar Song 1', 'Similar Artist 2', 'Similar Song 2',\n",
    "                         'Similar Artist 3', 'Similar Song 3', 'Similarity Score 1', 'Similarity Score 2', 'Similarity Score 3',\n",
    "                         'song', 'Album']\n",
    "\n",
    "#eliminar release date??"
   ]
  },
  {
   "cell_type": "code",
   "execution_count": null,
   "id": "a240203b",
   "metadata": {},
   "outputs": [],
   "source": [
    "#eliminar columnas\n",
    "df.drop(columns = columnas_innecesarias, inplace = True)"
   ]
  },
  {
   "cell_type": "code",
   "execution_count": null,
   "id": "56bb1087",
   "metadata": {},
   "outputs": [
    {
     "data": {
      "text/plain": [
       "Length                              object\n",
       "emotion                           category\n",
       "Genre                             category\n",
       "Release Date                        object\n",
       "Key                               category\n",
       "Tempo                                int64\n",
       "Loudness (db)                       object\n",
       "Time signature                    category\n",
       "Explicit                              bool\n",
       "Popularity                           uint8\n",
       "Energy                               uint8\n",
       "Danceability                         uint8\n",
       "Positiveness                         uint8\n",
       "Speechiness                          uint8\n",
       "Liveness                             uint8\n",
       "Acousticness                         uint8\n",
       "Instrumentalness                     uint8\n",
       "Good for Party                        bool\n",
       "Good for Work/Study                   bool\n",
       "Good for Relaxation/Meditation        bool\n",
       "Good for Exercise                     bool\n",
       "Good for Running                      bool\n",
       "Good for Yoga/Stretching              bool\n",
       "Good for Driving                      bool\n",
       "Good for Social Gatherings            bool\n",
       "Good for Morning Routine              bool\n",
       "dtype: object"
      ]
     },
     "execution_count": 49,
     "metadata": {},
     "output_type": "execute_result"
    }
   ],
   "source": [
    "df.dtypes"
   ]
  },
  {
   "cell_type": "code",
   "execution_count": null,
   "id": "84166582",
   "metadata": {},
   "outputs": [
    {
     "data": {
      "text/plain": [
       "Length                            0\n",
       "emotion                           0\n",
       "Genre                             0\n",
       "Release Date                      0\n",
       "Key                               0\n",
       "Tempo                             0\n",
       "Loudness (db)                     0\n",
       "Time signature                    8\n",
       "Explicit                          0\n",
       "Popularity                        0\n",
       "Energy                            0\n",
       "Danceability                      0\n",
       "Positiveness                      0\n",
       "Speechiness                       0\n",
       "Liveness                          0\n",
       "Acousticness                      0\n",
       "Instrumentalness                  0\n",
       "Good for Party                    0\n",
       "Good for Work/Study               0\n",
       "Good for Relaxation/Meditation    0\n",
       "Good for Exercise                 0\n",
       "Good for Running                  0\n",
       "Good for Yoga/Stretching          0\n",
       "Good for Driving                  0\n",
       "Good for Social Gatherings        0\n",
       "Good for Morning Routine          0\n",
       "dtype: int64"
      ]
     },
     "execution_count": 50,
     "metadata": {},
     "output_type": "execute_result"
    }
   ],
   "source": [
    "#ver si faltan datos\n",
    "df.isnull().sum()"
   ]
  },
  {
   "cell_type": "code",
   "execution_count": null,
   "id": "bc5135af",
   "metadata": {},
   "outputs": [],
   "source": [
    "#en las siguientes líneas de código se van a formatear\n",
    "#todas las columnas para que tengan entradas numéricas"
   ]
  },
  {
   "cell_type": "code",
   "execution_count": null,
   "id": "c6952b69",
   "metadata": {},
   "outputs": [],
   "source": [
    "#convertir duración de la canción a segundos\n",
    "df['Duration_sec'] = df['Length'].str.split(':').apply(lambda x: int(x[0])*60 + int(x[1]))\n",
    "df.drop(columns=['Length'], inplace=True)  # eliminar la columna original"
   ]
  },
  {
   "cell_type": "code",
   "execution_count": null,
   "id": "ee884694",
   "metadata": {},
   "outputs": [],
   "source": [
    "#convertir Loudness a valor numérico (quitar db y que no sea object)\n",
    "df['Loudness (db)'] = df['Loudness (db)'].str.replace('db', '', regex=False).str.strip()\n",
    "df['Loudness (db)'] = pd.to_numeric(df['Loudness (db)'], errors='coerce')"
   ]
  },
  {
   "cell_type": "code",
   "execution_count": null,
   "id": "8c268397",
   "metadata": {},
   "outputs": [
    {
     "name": "stdout",
     "output_type": "stream",
     "text": [
      "Valores NaN en Loudness (db): 0\n"
     ]
    }
   ],
   "source": [
    "#confirmar si se hizo bien la conversión\n",
    "print(f\"Valores NaN en Loudness (db): {df['Loudness (db)'].isna().sum()}\")"
   ]
  },
  {
   "cell_type": "code",
   "execution_count": null,
   "id": "c682e116",
   "metadata": {},
   "outputs": [
    {
     "name": "stdout",
     "output_type": "stream",
     "text": [
      "0   -6.85\n",
      "1   -5.75\n",
      "2   -6.06\n",
      "3   -5.42\n",
      "4   -5.57\n",
      "Name: Loudness (db), dtype: float64\n"
     ]
    }
   ],
   "source": [
    "print(df['Loudness (db)'].head())\n"
   ]
  },
  {
   "cell_type": "code",
   "execution_count": null,
   "id": "7f9d95e9",
   "metadata": {},
   "outputs": [],
   "source": [
    "#convertir columnas booleanas a valor 0 y 1\n",
    "#identificar las columnas\n",
    "bool_cols = df.select_dtypes(include='bool').columns\n",
    "#hacer conversión\n",
    "df[bool_cols] = df[bool_cols].astype(int)"
   ]
  },
  {
   "cell_type": "code",
   "execution_count": null,
   "id": "3299ec04",
   "metadata": {},
   "outputs": [
    {
     "name": "stdout",
     "output_type": "stream",
     "text": [
      "   Explicit  Good for Party  Good for Work/Study  \\\n",
      "0         0               0                    0   \n",
      "1         0               0                    0   \n",
      "2         0               0                    0   \n",
      "3         0               0                    0   \n",
      "4         0               0                    0   \n",
      "\n",
      "   Good for Relaxation/Meditation  Good for Exercise  Good for Running  \\\n",
      "0                               0                  0                 0   \n",
      "1                               0                  0                 0   \n",
      "2                               0                  1                 0   \n",
      "3                               0                  1                 0   \n",
      "4                               0                  1                 0   \n",
      "\n",
      "   Good for Yoga/Stretching  Good for Driving  Good for Social Gatherings  \\\n",
      "0                         0                 0                           0   \n",
      "1                         0                 0                           0   \n",
      "2                         0                 0                           0   \n",
      "3                         0                 0                           0   \n",
      "4                         0                 0                           0   \n",
      "\n",
      "   Good for Morning Routine  \n",
      "0                         0  \n",
      "1                         0  \n",
      "2                         0  \n",
      "3                         0  \n",
      "4                         0  \n"
     ]
    }
   ],
   "source": [
    "#ver datos\n",
    "print(df[bool_cols].head())"
   ]
  },
  {
   "cell_type": "code",
   "execution_count": null,
   "id": "a0273d33",
   "metadata": {},
   "outputs": [
    {
     "data": {
      "text/plain": [
       "emotion                           category\n",
       "Genre                             category\n",
       "Release Date                        object\n",
       "Key                               category\n",
       "Tempo                                int64\n",
       "Loudness (db)                      float64\n",
       "Time signature                    category\n",
       "Explicit                             int64\n",
       "Popularity                           uint8\n",
       "Energy                               uint8\n",
       "Danceability                         uint8\n",
       "Positiveness                         uint8\n",
       "Speechiness                          uint8\n",
       "Liveness                             uint8\n",
       "Acousticness                         uint8\n",
       "Instrumentalness                     uint8\n",
       "Good for Party                       int64\n",
       "Good for Work/Study                  int64\n",
       "Good for Relaxation/Meditation       int64\n",
       "Good for Exercise                    int64\n",
       "Good for Running                     int64\n",
       "Good for Yoga/Stretching             int64\n",
       "Good for Driving                     int64\n",
       "Good for Social Gatherings           int64\n",
       "Good for Morning Routine             int64\n",
       "Duration_sec                         int64\n",
       "dtype: object"
      ]
     },
     "execution_count": 58,
     "metadata": {},
     "output_type": "execute_result"
    }
   ],
   "source": [
    "df.dtypes"
   ]
  },
  {
   "cell_type": "code",
   "execution_count": null,
   "id": "5dccdc2f",
   "metadata": {},
   "outputs": [
    {
     "data": {
      "text/plain": [
       "3097"
      ]
     },
     "execution_count": 59,
     "metadata": {},
     "output_type": "execute_result"
    }
   ],
   "source": [
    "#ver cantidad de valores distintos\n",
    "df['emotion'].nunique()\n",
    "df['Genre'].nunique()"
   ]
  },
  {
   "cell_type": "code",
   "execution_count": null,
   "id": "1215e985",
   "metadata": {},
   "outputs": [],
   "source": [
    "#hacer one hot encodig para las columnas de tipo category\n",
    "from sklearn.preprocessing import OneHotEncoder\n",
    "colTypeCategory = ['emotion', 'Key', 'Time signature']\n",
    "encoder = OneHotEncoder(sparse_output = False) #retorne un array denso\n",
    "encoded = encoder.fit_transform(df[colTypeCategory]) #aplicar encoder a las columnas\n",
    "\n",
    "#convertir el array a un dataframe\n",
    "encoded_df = pd.DataFrame(encoded, columns=encoder.get_feature_names_out(colTypeCategory))\n",
    "#eliminar columnas de tipo category\n",
    "df = df.drop(colTypeCategory, axis=1)\n",
    "#añadir columnas de encoded_df al df original\n",
    "df = pd.concat([df.reset_index(drop=True), encoded_df.reset_index(drop=True)], axis=1)\n"
   ]
  },
  {
   "cell_type": "code",
   "execution_count": null,
   "id": "e897daaa",
   "metadata": {},
   "outputs": [
    {
     "data": {
      "text/plain": [
       "Genre                 category\n",
       "Release Date            object\n",
       "Tempo                    int64\n",
       "Loudness (db)          float64\n",
       "Explicit                 int64\n",
       "                        ...   \n",
       "Time signature_1/4     float64\n",
       "Time signature_3/4     float64\n",
       "Time signature_4/4     float64\n",
       "Time signature_5/4     float64\n",
       "Time signature_nan     float64\n",
       "Length: 65, dtype: object"
      ]
     },
     "execution_count": 61,
     "metadata": {},
     "output_type": "execute_result"
    }
   ],
   "source": [
    "df.dtypes"
   ]
  },
  {
   "cell_type": "code",
   "execution_count": null,
   "id": "a8865ecd",
   "metadata": {},
   "outputs": [
    {
     "name": "stdout",
     "output_type": "stream",
     "text": [
      "['Time signature_1/4', 'Time signature_3/4', 'Time signature_4/4', 'Time signature_5/4', 'Time signature_nan']\n"
     ]
    }
   ],
   "source": [
    "timeSignature_cols = [col for col in df.columns if col.startswith('Time signature')]\n",
    "print(timeSignature_cols)"
   ]
  },
  {
   "cell_type": "code",
   "execution_count": null,
   "id": "dae05a98",
   "metadata": {},
   "outputs": [
    {
     "name": "stdout",
     "output_type": "stream",
     "text": [
      "Categorías de key codificadas: ['Key_A Maj', 'Key_A min', 'Key_A# Maj', 'Key_A# min', 'Key_B Maj', 'Key_B min', 'Key_C Maj', 'Key_C min', 'Key_C# Maj', 'Key_C# min', 'Key_D Maj', 'Key_D min', 'Key_D# Maj', 'Key_D# min', 'Key_E Maj', 'Key_E min', 'Key_F Maj', 'Key_F min', 'Key_F# Maj', 'Key_F# min', 'Key_G Maj', 'Key_G min', 'Key_G# Maj', 'Key_G# min']\n"
     ]
    }
   ],
   "source": [
    "key_cols = [col for col in df.columns if col.startswith('Key_')]\n",
    "print(\"Categorías de key codificadas:\", key_cols)"
   ]
  },
  {
   "cell_type": "code",
   "execution_count": null,
   "id": "305c9733",
   "metadata": {},
   "outputs": [
    {
     "name": "stdout",
     "output_type": "stream",
     "text": [
      "Categorías de emotion codificadas: ['emotion_Love', 'emotion_True', 'emotion_anger', 'emotion_angry', 'emotion_confusion', 'emotion_fear', 'emotion_interest', 'emotion_joy', 'emotion_love', 'emotion_pink', 'emotion_sadness', 'emotion_surprise', 'emotion_thirst']\n"
     ]
    }
   ],
   "source": [
    "emotion_cols = [col for col in df.columns if col.startswith('emotion_')]\n",
    "print(\"Categorías de emotion codificadas:\", emotion_cols)"
   ]
  },
  {
   "cell_type": "code",
   "execution_count": null,
   "id": "4ce1a0ac",
   "metadata": {},
   "outputs": [],
   "source": [
    "#con genre no era conveniente hace One Hot coding, porque creaba una columna por cada\n",
    "#combinación de géneros que tenía una canción, y se quiere una columna por cada género único\n",
    "from sklearn.preprocessing import MultiLabelBinarizer #para hacer la conversión\n",
    "\n",
    "#crear lista con los géneros presentes en el dataset\n",
    "df['listaGeneros'] = df['Genre'].str.split(',')\n",
    "#apra usar el codificador\n",
    "mlb = MultiLabelBinarizer()\n",
    "#asignación de 0 y 1 por cada lista de géneros en Genre por canción\n",
    "listaGenreBinario = pd.DataFrame(mlb.fit_transform(df['listaGeneros']),\n",
    "                             columns=[f'Genre_{g.strip()}' for g in mlb.classes_],\n",
    "                             index=df.index)\n",
    "#agregar las columnnas por cada género al df\n",
    "df = pd.concat([df, listaGenreBinario], axis=1)\n",
    "\n",
    "#sacar las columnas que no se necesitan\n",
    "df.drop(columns=['Genre', 'listaGeneros'], inplace=True)"
   ]
  },
  {
   "cell_type": "code",
   "execution_count": null,
   "id": "8a16c659",
   "metadata": {},
   "outputs": [
    {
     "data": {
      "text/plain": [
       "Release Date           object\n",
       "Tempo                   int64\n",
       "Loudness (db)         float64\n",
       "Explicit                int64\n",
       "Popularity              uint8\n",
       "                       ...   \n",
       "Genre_thrash metal      int64\n",
       "Genre_trance            int64\n",
       "Genre_trap              int64\n",
       "Genre_trip-hop          int64\n",
       "Genre_worship           int64\n",
       "Length: 152, dtype: object"
      ]
     },
     "execution_count": 66,
     "metadata": {},
     "output_type": "execute_result"
    }
   ],
   "source": [
    "df.dtypes"
   ]
  },
  {
   "cell_type": "code",
   "execution_count": null,
   "id": "eabd1aff",
   "metadata": {},
   "outputs": [
    {
     "name": "stdout",
     "output_type": "stream",
     "text": [
      "['Genre_acoustic', 'Genre_alt-country', 'Genre_alternative', 'Genre_alternative rock', 'Genre_ambient', 'Genre_black metal', 'Genre_blues', 'Genre_britpop', 'Genre_chillout', 'Genre_chillwave', 'Genre_christian', 'Genre_classic rock', 'Genre_classical', 'Genre_cloud rap', 'Genre_comedy', 'Genre_country', 'Genre_dance', 'Genre_dancehall', 'Genre_death metal', 'Genre_deathcore', 'Genre_disco', 'Genre_doom metal', 'Genre_dream pop', 'Genre_drum and bass', 'Genre_dub', 'Genre_dubstep', 'Genre_electro', 'Genre_electronic', 'Genre_electropop', 'Genre_emo', 'Genre_emo rap', 'Genre_experimental', 'Genre_folk', 'Genre_funk', 'Genre_garage rock', 'Genre_gospel', 'Genre_grime', 'Genre_grunge', 'Genre_hard rock', 'Genre_hardcore', 'Genre_heavy metal', 'Genre_hip hop', 'Genre_hip-hop', 'Genre_house', 'Genre_indie', 'Genre_indie pop', 'Genre_indie rock', 'Genre_industrial', 'Genre_j-pop', 'Genre_jazz', 'Genre_k-pop', 'Genre_latin', 'Genre_lo-fi', 'Genre_math rock', 'Genre_melodic death metal', 'Genre_metal', 'Genre_metalcore', 'Genre_new wave', 'Genre_nu metal', 'Genre_pop', 'Genre_pop punk', 'Genre_pop rock', 'Genre_post-hardcore', 'Genre_post-punk', 'Genre_power metal', 'Genre_progressive metal', 'Genre_progressive rock', 'Genre_psychedelic', 'Genre_psychedelic rock', 'Genre_punk', 'Genre_punk rock', 'Genre_rap', 'Genre_reggae', 'Genre_reggaeton', 'Genre_rnb', 'Genre_rock', 'Genre_screamo', 'Genre_shoegaze', 'Genre_soul', 'Genre_soundtrack', 'Genre_swing', 'Genre_synthpop', 'Genre_techno', 'Genre_thrash metal', 'Genre_trance', 'Genre_trap', 'Genre_trip-hop', 'Genre_worship']\n"
     ]
    }
   ],
   "source": [
    "genre_cols = [col for col in df.columns if col.startswith('Genre_')]\n",
    "print(genre_cols)"
   ]
  },
  {
   "cell_type": "code",
   "execution_count": null,
   "id": "7a1349c6",
   "metadata": {},
   "outputs": [
    {
     "name": "stdout",
     "output_type": "stream",
     "text": [
      "['Release Date', 'Tempo', 'Loudness (db)', 'Explicit', 'Popularity', 'Energy', 'Danceability', 'Positiveness', 'Speechiness', 'Liveness', 'Acousticness', 'Instrumentalness', 'Good for Party', 'Good for Work/Study', 'Good for Relaxation/Meditation', 'Good for Exercise', 'Good for Running', 'Good for Yoga/Stretching', 'Good for Driving', 'Good for Social Gatherings', 'Good for Morning Routine', 'Duration_sec', 'emotion_Love', 'emotion_True', 'emotion_anger', 'emotion_angry', 'emotion_confusion', 'emotion_fear', 'emotion_interest', 'emotion_joy', 'emotion_love', 'emotion_pink', 'emotion_sadness', 'emotion_surprise', 'emotion_thirst', 'Key_A Maj', 'Key_A min', 'Key_A# Maj', 'Key_A# min', 'Key_B Maj', 'Key_B min', 'Key_C Maj', 'Key_C min', 'Key_C# Maj', 'Key_C# min', 'Key_D Maj', 'Key_D min', 'Key_D# Maj', 'Key_D# min', 'Key_E Maj', 'Key_E min', 'Key_F Maj', 'Key_F min', 'Key_F# Maj', 'Key_F# min', 'Key_G Maj', 'Key_G min', 'Key_G# Maj', 'Key_G# min', 'Time signature_1/4', 'Time signature_3/4', 'Time signature_4/4', 'Time signature_5/4', 'Time signature_nan', 'Genre_acoustic', 'Genre_alt-country', 'Genre_alternative', 'Genre_alternative rock', 'Genre_ambient', 'Genre_black metal', 'Genre_blues', 'Genre_britpop', 'Genre_chillout', 'Genre_chillwave', 'Genre_christian', 'Genre_classic rock', 'Genre_classical', 'Genre_cloud rap', 'Genre_comedy', 'Genre_country', 'Genre_dance', 'Genre_dancehall', 'Genre_death metal', 'Genre_deathcore', 'Genre_disco', 'Genre_doom metal', 'Genre_dream pop', 'Genre_drum and bass', 'Genre_dub', 'Genre_dubstep', 'Genre_electro', 'Genre_electronic', 'Genre_electropop', 'Genre_emo', 'Genre_emo rap', 'Genre_experimental', 'Genre_folk', 'Genre_funk', 'Genre_garage rock', 'Genre_gospel', 'Genre_grime', 'Genre_grunge', 'Genre_hard rock', 'Genre_hardcore', 'Genre_heavy metal', 'Genre_hip hop', 'Genre_hip-hop', 'Genre_house', 'Genre_indie', 'Genre_indie pop', 'Genre_indie rock', 'Genre_industrial', 'Genre_j-pop', 'Genre_jazz', 'Genre_k-pop', 'Genre_latin', 'Genre_lo-fi', 'Genre_math rock', 'Genre_melodic death metal', 'Genre_metal', 'Genre_metalcore', 'Genre_new wave', 'Genre_nu metal', 'Genre_pop', 'Genre_pop punk', 'Genre_pop rock', 'Genre_post-hardcore', 'Genre_post-punk', 'Genre_power metal', 'Genre_progressive metal', 'Genre_progressive rock', 'Genre_psychedelic', 'Genre_psychedelic rock', 'Genre_punk', 'Genre_punk rock', 'Genre_rap', 'Genre_reggae', 'Genre_reggaeton', 'Genre_rnb', 'Genre_rock', 'Genre_screamo', 'Genre_shoegaze', 'Genre_soul', 'Genre_soundtrack', 'Genre_swing', 'Genre_synthpop', 'Genre_techno', 'Genre_thrash metal', 'Genre_trance', 'Genre_trap', 'Genre_trip-hop', 'Genre_worship']\n",
      "<class 'pandas.core.frame.DataFrame'>\n",
      "RangeIndex: 551443 entries, 0 to 551442\n",
      "Columns: 152 entries, Release Date to Genre_worship\n",
      "dtypes: float64(43), int64(100), object(1), uint8(8)\n",
      "memory usage: 610.0+ MB\n",
      "None\n"
     ]
    }
   ],
   "source": [
    "print(df.columns.tolist())\n",
    "print(df.info())"
   ]
  },
  {
   "cell_type": "code",
   "execution_count": null,
   "id": "931b0fde",
   "metadata": {},
   "outputs": [],
   "source": [
    "df.drop(columns=['Release Date'], inplace=True)\n"
   ]
  },
  {
   "cell_type": "code",
   "execution_count": null,
   "id": "5eb5fe0c",
   "metadata": {},
   "outputs": [
    {
     "data": {
      "text/html": [
       "<div>\n",
       "<style scoped>\n",
       "    .dataframe tbody tr th:only-of-type {\n",
       "        vertical-align: middle;\n",
       "    }\n",
       "\n",
       "    .dataframe tbody tr th {\n",
       "        vertical-align: top;\n",
       "    }\n",
       "\n",
       "    .dataframe thead th {\n",
       "        text-align: right;\n",
       "    }\n",
       "</style>\n",
       "<table border=\"1\" class=\"dataframe\">\n",
       "  <thead>\n",
       "    <tr style=\"text-align: right;\">\n",
       "      <th></th>\n",
       "      <th>Tempo</th>\n",
       "      <th>Loudness (db)</th>\n",
       "      <th>Explicit</th>\n",
       "      <th>Popularity</th>\n",
       "      <th>Energy</th>\n",
       "      <th>Danceability</th>\n",
       "      <th>Positiveness</th>\n",
       "      <th>Speechiness</th>\n",
       "      <th>Liveness</th>\n",
       "      <th>Acousticness</th>\n",
       "      <th>...</th>\n",
       "      <th>Genre_soul</th>\n",
       "      <th>Genre_soundtrack</th>\n",
       "      <th>Genre_swing</th>\n",
       "      <th>Genre_synthpop</th>\n",
       "      <th>Genre_techno</th>\n",
       "      <th>Genre_thrash metal</th>\n",
       "      <th>Genre_trance</th>\n",
       "      <th>Genre_trap</th>\n",
       "      <th>Genre_trip-hop</th>\n",
       "      <th>Genre_worship</th>\n",
       "    </tr>\n",
       "  </thead>\n",
       "  <tbody>\n",
       "    <tr>\n",
       "      <th>0</th>\n",
       "      <td>105</td>\n",
       "      <td>-6.85</td>\n",
       "      <td>0</td>\n",
       "      <td>40</td>\n",
       "      <td>83</td>\n",
       "      <td>71</td>\n",
       "      <td>87</td>\n",
       "      <td>4</td>\n",
       "      <td>16</td>\n",
       "      <td>11</td>\n",
       "      <td>...</td>\n",
       "      <td>0</td>\n",
       "      <td>0</td>\n",
       "      <td>0</td>\n",
       "      <td>0</td>\n",
       "      <td>0</td>\n",
       "      <td>0</td>\n",
       "      <td>0</td>\n",
       "      <td>0</td>\n",
       "      <td>0</td>\n",
       "      <td>0</td>\n",
       "    </tr>\n",
       "    <tr>\n",
       "      <th>1</th>\n",
       "      <td>117</td>\n",
       "      <td>-5.75</td>\n",
       "      <td>0</td>\n",
       "      <td>42</td>\n",
       "      <td>85</td>\n",
       "      <td>70</td>\n",
       "      <td>87</td>\n",
       "      <td>4</td>\n",
       "      <td>32</td>\n",
       "      <td>0</td>\n",
       "      <td>...</td>\n",
       "      <td>0</td>\n",
       "      <td>0</td>\n",
       "      <td>0</td>\n",
       "      <td>0</td>\n",
       "      <td>0</td>\n",
       "      <td>0</td>\n",
       "      <td>0</td>\n",
       "      <td>0</td>\n",
       "      <td>0</td>\n",
       "      <td>0</td>\n",
       "    </tr>\n",
       "    <tr>\n",
       "      <th>2</th>\n",
       "      <td>121</td>\n",
       "      <td>-6.06</td>\n",
       "      <td>0</td>\n",
       "      <td>29</td>\n",
       "      <td>89</td>\n",
       "      <td>71</td>\n",
       "      <td>63</td>\n",
       "      <td>8</td>\n",
       "      <td>64</td>\n",
       "      <td>0</td>\n",
       "      <td>...</td>\n",
       "      <td>0</td>\n",
       "      <td>0</td>\n",
       "      <td>0</td>\n",
       "      <td>0</td>\n",
       "      <td>0</td>\n",
       "      <td>0</td>\n",
       "      <td>0</td>\n",
       "      <td>0</td>\n",
       "      <td>0</td>\n",
       "      <td>0</td>\n",
       "    </tr>\n",
       "    <tr>\n",
       "      <th>3</th>\n",
       "      <td>122</td>\n",
       "      <td>-5.42</td>\n",
       "      <td>0</td>\n",
       "      <td>24</td>\n",
       "      <td>84</td>\n",
       "      <td>78</td>\n",
       "      <td>97</td>\n",
       "      <td>4</td>\n",
       "      <td>12</td>\n",
       "      <td>12</td>\n",
       "      <td>...</td>\n",
       "      <td>0</td>\n",
       "      <td>0</td>\n",
       "      <td>0</td>\n",
       "      <td>0</td>\n",
       "      <td>0</td>\n",
       "      <td>0</td>\n",
       "      <td>0</td>\n",
       "      <td>0</td>\n",
       "      <td>0</td>\n",
       "      <td>0</td>\n",
       "    </tr>\n",
       "    <tr>\n",
       "      <th>4</th>\n",
       "      <td>123</td>\n",
       "      <td>-5.57</td>\n",
       "      <td>0</td>\n",
       "      <td>30</td>\n",
       "      <td>71</td>\n",
       "      <td>77</td>\n",
       "      <td>70</td>\n",
       "      <td>7</td>\n",
       "      <td>10</td>\n",
       "      <td>4</td>\n",
       "      <td>...</td>\n",
       "      <td>0</td>\n",
       "      <td>0</td>\n",
       "      <td>0</td>\n",
       "      <td>0</td>\n",
       "      <td>0</td>\n",
       "      <td>0</td>\n",
       "      <td>0</td>\n",
       "      <td>0</td>\n",
       "      <td>0</td>\n",
       "      <td>0</td>\n",
       "    </tr>\n",
       "    <tr>\n",
       "      <th>...</th>\n",
       "      <td>...</td>\n",
       "      <td>...</td>\n",
       "      <td>...</td>\n",
       "      <td>...</td>\n",
       "      <td>...</td>\n",
       "      <td>...</td>\n",
       "      <td>...</td>\n",
       "      <td>...</td>\n",
       "      <td>...</td>\n",
       "      <td>...</td>\n",
       "      <td>...</td>\n",
       "      <td>...</td>\n",
       "      <td>...</td>\n",
       "      <td>...</td>\n",
       "      <td>...</td>\n",
       "      <td>...</td>\n",
       "      <td>...</td>\n",
       "      <td>...</td>\n",
       "      <td>...</td>\n",
       "      <td>...</td>\n",
       "      <td>...</td>\n",
       "    </tr>\n",
       "    <tr>\n",
       "      <th>551438</th>\n",
       "      <td>140</td>\n",
       "      <td>-10.00</td>\n",
       "      <td>1</td>\n",
       "      <td>31</td>\n",
       "      <td>82</td>\n",
       "      <td>83</td>\n",
       "      <td>19</td>\n",
       "      <td>16</td>\n",
       "      <td>9</td>\n",
       "      <td>39</td>\n",
       "      <td>...</td>\n",
       "      <td>0</td>\n",
       "      <td>0</td>\n",
       "      <td>0</td>\n",
       "      <td>0</td>\n",
       "      <td>0</td>\n",
       "      <td>0</td>\n",
       "      <td>0</td>\n",
       "      <td>0</td>\n",
       "      <td>0</td>\n",
       "      <td>0</td>\n",
       "    </tr>\n",
       "    <tr>\n",
       "      <th>551439</th>\n",
       "      <td>128</td>\n",
       "      <td>-9.68</td>\n",
       "      <td>0</td>\n",
       "      <td>29</td>\n",
       "      <td>43</td>\n",
       "      <td>39</td>\n",
       "      <td>26</td>\n",
       "      <td>3</td>\n",
       "      <td>10</td>\n",
       "      <td>54</td>\n",
       "      <td>...</td>\n",
       "      <td>0</td>\n",
       "      <td>0</td>\n",
       "      <td>0</td>\n",
       "      <td>0</td>\n",
       "      <td>0</td>\n",
       "      <td>0</td>\n",
       "      <td>0</td>\n",
       "      <td>0</td>\n",
       "      <td>0</td>\n",
       "      <td>0</td>\n",
       "    </tr>\n",
       "    <tr>\n",
       "      <th>551440</th>\n",
       "      <td>75</td>\n",
       "      <td>-4.67</td>\n",
       "      <td>0</td>\n",
       "      <td>21</td>\n",
       "      <td>79</td>\n",
       "      <td>56</td>\n",
       "      <td>41</td>\n",
       "      <td>5</td>\n",
       "      <td>19</td>\n",
       "      <td>0</td>\n",
       "      <td>...</td>\n",
       "      <td>0</td>\n",
       "      <td>0</td>\n",
       "      <td>0</td>\n",
       "      <td>0</td>\n",
       "      <td>0</td>\n",
       "      <td>0</td>\n",
       "      <td>0</td>\n",
       "      <td>0</td>\n",
       "      <td>0</td>\n",
       "      <td>0</td>\n",
       "    </tr>\n",
       "    <tr>\n",
       "      <th>551441</th>\n",
       "      <td>126</td>\n",
       "      <td>-3.93</td>\n",
       "      <td>0</td>\n",
       "      <td>5</td>\n",
       "      <td>90</td>\n",
       "      <td>59</td>\n",
       "      <td>69</td>\n",
       "      <td>4</td>\n",
       "      <td>7</td>\n",
       "      <td>27</td>\n",
       "      <td>...</td>\n",
       "      <td>0</td>\n",
       "      <td>0</td>\n",
       "      <td>0</td>\n",
       "      <td>0</td>\n",
       "      <td>0</td>\n",
       "      <td>0</td>\n",
       "      <td>0</td>\n",
       "      <td>0</td>\n",
       "      <td>0</td>\n",
       "      <td>0</td>\n",
       "    </tr>\n",
       "    <tr>\n",
       "      <th>551442</th>\n",
       "      <td>100</td>\n",
       "      <td>-14.55</td>\n",
       "      <td>0</td>\n",
       "      <td>0</td>\n",
       "      <td>67</td>\n",
       "      <td>77</td>\n",
       "      <td>66</td>\n",
       "      <td>6</td>\n",
       "      <td>7</td>\n",
       "      <td>2</td>\n",
       "      <td>...</td>\n",
       "      <td>0</td>\n",
       "      <td>0</td>\n",
       "      <td>0</td>\n",
       "      <td>0</td>\n",
       "      <td>0</td>\n",
       "      <td>0</td>\n",
       "      <td>0</td>\n",
       "      <td>0</td>\n",
       "      <td>0</td>\n",
       "      <td>0</td>\n",
       "    </tr>\n",
       "  </tbody>\n",
       "</table>\n",
       "<p>551443 rows × 151 columns</p>\n",
       "</div>"
      ],
      "text/plain": [
       "        Tempo  Loudness (db)  Explicit  Popularity  Energy  Danceability  \\\n",
       "0         105          -6.85         0          40      83            71   \n",
       "1         117          -5.75         0          42      85            70   \n",
       "2         121          -6.06         0          29      89            71   \n",
       "3         122          -5.42         0          24      84            78   \n",
       "4         123          -5.57         0          30      71            77   \n",
       "...       ...            ...       ...         ...     ...           ...   \n",
       "551438    140         -10.00         1          31      82            83   \n",
       "551439    128          -9.68         0          29      43            39   \n",
       "551440     75          -4.67         0          21      79            56   \n",
       "551441    126          -3.93         0           5      90            59   \n",
       "551442    100         -14.55         0           0      67            77   \n",
       "\n",
       "        Positiveness  Speechiness  Liveness  Acousticness  ...  Genre_soul  \\\n",
       "0                 87            4        16            11  ...           0   \n",
       "1                 87            4        32             0  ...           0   \n",
       "2                 63            8        64             0  ...           0   \n",
       "3                 97            4        12            12  ...           0   \n",
       "4                 70            7        10             4  ...           0   \n",
       "...              ...          ...       ...           ...  ...         ...   \n",
       "551438            19           16         9            39  ...           0   \n",
       "551439            26            3        10            54  ...           0   \n",
       "551440            41            5        19             0  ...           0   \n",
       "551441            69            4         7            27  ...           0   \n",
       "551442            66            6         7             2  ...           0   \n",
       "\n",
       "        Genre_soundtrack  Genre_swing  Genre_synthpop  Genre_techno  \\\n",
       "0                      0            0               0             0   \n",
       "1                      0            0               0             0   \n",
       "2                      0            0               0             0   \n",
       "3                      0            0               0             0   \n",
       "4                      0            0               0             0   \n",
       "...                  ...          ...             ...           ...   \n",
       "551438                 0            0               0             0   \n",
       "551439                 0            0               0             0   \n",
       "551440                 0            0               0             0   \n",
       "551441                 0            0               0             0   \n",
       "551442                 0            0               0             0   \n",
       "\n",
       "        Genre_thrash metal  Genre_trance  Genre_trap  Genre_trip-hop  \\\n",
       "0                        0             0           0               0   \n",
       "1                        0             0           0               0   \n",
       "2                        0             0           0               0   \n",
       "3                        0             0           0               0   \n",
       "4                        0             0           0               0   \n",
       "...                    ...           ...         ...             ...   \n",
       "551438                   0             0           0               0   \n",
       "551439                   0             0           0               0   \n",
       "551440                   0             0           0               0   \n",
       "551441                   0             0           0               0   \n",
       "551442                   0             0           0               0   \n",
       "\n",
       "        Genre_worship  \n",
       "0                   0  \n",
       "1                   0  \n",
       "2                   0  \n",
       "3                   0  \n",
       "4                   0  \n",
       "...               ...  \n",
       "551438              0  \n",
       "551439              0  \n",
       "551440              0  \n",
       "551441              0  \n",
       "551442              0  \n",
       "\n",
       "[551443 rows x 151 columns]"
      ]
     },
     "execution_count": 70,
     "metadata": {},
     "output_type": "execute_result"
    }
   ],
   "source": [
    "df"
   ]
  },
  {
   "cell_type": "markdown",
   "id": "96d76da5",
   "metadata": {},
   "source": [
    "# Modelo de Red Neuronal MLP"
   ]
  },
  {
   "cell_type": "markdown",
   "id": "312156eb",
   "metadata": {},
   "source": [
    "## Modelo"
   ]
  },
  {
   "cell_type": "code",
   "execution_count": 174,
   "id": "664ad0fd",
   "metadata": {},
   "outputs": [],
   "source": [
    "#Modelo de red neuronal\n",
    "class MLP(nn.Module):\n",
    "    def __init__(self, hidden_size=10, input_size=1):\n",
    "        super().__init__()\n",
    "        self.hidden_size = hidden_size\n",
    "        self.input_size = input_size\n",
    "        self.h1 = nn.Linear(in_features=input_size,out_features=self.hidden_size)\n",
    "        self.h2 = nn.Linear(in_features=self.hidden_size,out_features=self.hidden_size)\n",
    "        self.out = nn.Linear(in_features=self.hidden_size,out_features=1)\n",
    "\n",
    "        self.act = nn.Sigmoid()\n",
    "    def forward(self, x):\n",
    "        l1 = self.h1(x)  #de entrada a capa oculta\n",
    "        l2 = self.h2(l1)  #de capa oculta a capa oculta\n",
    "        l2 = self.act(l2)     #activación\n",
    "        output = self.out(l2)   #salida\n",
    "        return output"
   ]
  },
  {
   "cell_type": "markdown",
   "id": "62ac870f",
   "metadata": {},
   "source": [
    "## División del dataset"
   ]
  },
  {
   "cell_type": "code",
   "execution_count": 175,
   "id": "7c609efb",
   "metadata": {},
   "outputs": [],
   "source": [
    "train_df, val_df = train_test_split(df, test_size=0.3, random_state=42, shuffle=False)\n",
    "val_df, test_df = train_test_split(val_df, test_size=0.5, random_state=42, shuffle=False)\n"
   ]
  },
  {
   "cell_type": "code",
   "execution_count": 176,
   "id": "3ff50e23",
   "metadata": {},
   "outputs": [
    {
     "data": {
      "text/plain": [
       "((82716, 151), (82717, 151), (386010, 151))"
      ]
     },
     "execution_count": 176,
     "metadata": {},
     "output_type": "execute_result"
    }
   ],
   "source": [
    "val_df.shape, test_df.shape, train_df.shape"
   ]
  },
  {
   "cell_type": "markdown",
   "id": "4c0a973a",
   "metadata": {},
   "source": [
    "## Modelo popularidad general"
   ]
  },
  {
   "cell_type": "markdown",
   "id": "0b9fd4fe",
   "metadata": {},
   "source": [
    "### Pre-procesado de datos"
   ]
  },
  {
   "cell_type": "code",
   "execution_count": null,
   "id": "f6a46d56",
   "metadata": {},
   "outputs": [],
   "source": [
    "# Normalizar la columna 'Popularity' entre 0 y 1\n",
    "scaler = MinMaxScaler()\n",
    "train_df['Popularity'] = scaler.fit_transform(train_df[['Popularity']])\n",
    "val_df['Popularity'] = scaler.transform(val_df[['Popularity']])\n",
    "test_df['Popularity'] = scaler.transform(test_df[['Popularity']])\n",
    "\n",
    "# Convertir el DataFrame a tensores de PyTorch\n",
    "X_train = torch.tensor(train_df.drop(columns=['Popularity']).values, dtype=torch.float32)  \n",
    "X_train = DataLoader(X_train, batch_size=8578, shuffle=False)  # Crear DataLoader para el conjunto de entrenamiento\n",
    "y_train = torch.tensor(train_df['Popularity'].values, dtype=torch.float32).view(-1, 1)  # Asegurarse de que y tenga la forma correcta\n",
    "y_train = DataLoader(y_train, batch_size=8578, shuffle=False)  # Crear DataLoader para las etiquetas de entrenamiento\n",
    "\n",
    "X_val = torch.tensor(val_df.drop(columns=['Popularity']).values, dtype=torch.float32)\n",
    "X_val = DataLoader(X_val, batch_size=3938, shuffle=False)  # Crear DataLoader para el conjunto de validación\n",
    "y_val = torch.tensor(val_df['Popularity'].values, dtype=torch.float32).view(-1, 1)\n",
    "y_val = DataLoader(y_val, batch_size=3938, shuffle=False)  # Crear DataLoader para las etiquetas de validación\n",
    "\n",
    "\n",
    "X_test = torch.tensor(test_df.drop(columns=['Popularity']).values, dtype=torch.float32)\n",
    "X_test = DataLoader(X_test, batch_size=3939, shuffle=False)  # Crear DataLoader para el conjunto de prueba\n",
    "y_test = torch.tensor(test_df['Popularity'].values, dtype=torch.float32).view(-1, 1)\n",
    "y_test = DataLoader(y_test, batch_size=3939, shuffle=False)  # Crear DataLoader para las etiquetas de prueba\n"
   ]
  },
  {
   "cell_type": "code",
   "execution_count": 178,
   "id": "e01a544e",
   "metadata": {},
   "outputs": [
    {
     "data": {
      "text/plain": [
       "(45, 22, 21)"
      ]
     },
     "execution_count": 178,
     "metadata": {},
     "output_type": "execute_result"
    }
   ],
   "source": [
    "len(X_train), len(X_val), len(X_test)"
   ]
  },
  {
   "cell_type": "markdown",
   "id": "5f6b9442",
   "metadata": {},
   "source": [
    "### Inicialización del modelo"
   ]
  },
  {
   "cell_type": "code",
   "execution_count": 179,
   "id": "64bdc09d",
   "metadata": {},
   "outputs": [
    {
     "name": "stdout",
     "output_type": "stream",
     "text": [
      "Parameter containing:\n",
      "tensor([[-0.0573,  0.0364, -0.0734,  ..., -0.0514, -0.0367,  0.0218],\n",
      "        [ 0.0598,  0.0137,  0.0504,  ..., -0.0758, -0.0407,  0.0307],\n",
      "        [-0.0512,  0.0680, -0.0696,  ...,  0.0245,  0.0136, -0.0678],\n",
      "        ...,\n",
      "        [ 0.0055,  0.0153,  0.0408,  ...,  0.0193,  0.0489,  0.0746],\n",
      "        [-0.0377,  0.0431, -0.0252,  ...,  0.0011, -0.0073, -0.0485],\n",
      "        [ 0.0048, -0.0373,  0.0561,  ...,  0.0407,  0.0316,  0.0040]],\n",
      "       requires_grad=True)\n",
      "Parameter containing:\n",
      "tensor([[-2.3539e-01,  8.8217e-02, -1.7676e-01,  4.1319e-02, -3.0148e-01,\n",
      "         -1.6081e-01,  2.5772e-01, -3.9557e-02,  1.7191e-01,  2.5120e-01],\n",
      "        [-1.9684e-01, -4.6663e-02,  2.8974e-01,  2.2644e-01,  2.6875e-01,\n",
      "         -2.7029e-01,  2.4928e-01,  7.4092e-02, -2.2171e-01,  5.7106e-02],\n",
      "        [ 7.2832e-02,  8.7518e-02, -2.9661e-01,  6.6686e-02, -2.3905e-01,\n",
      "          2.7696e-01,  1.9391e-01, -2.0155e-04,  2.0323e-01,  1.6927e-01],\n",
      "        [ 1.4030e-01,  1.2649e-01, -2.7459e-01,  2.9255e-01, -2.7297e-01,\n",
      "          1.7098e-01, -1.5697e-01, -2.8265e-01,  1.7262e-01,  2.7513e-01],\n",
      "        [ 1.1771e-01, -2.3812e-01,  2.7086e-02, -4.9345e-02,  2.6680e-01,\n",
      "          6.5349e-03, -2.3694e-01,  2.5662e-01,  9.4137e-03, -1.9836e-01],\n",
      "        [ 9.2961e-02, -1.8393e-01, -1.2673e-01, -1.8443e-01,  4.2493e-02,\n",
      "          2.2915e-01,  1.2734e-01,  1.0335e-01, -4.6017e-02,  2.0787e-01],\n",
      "        [ 2.7215e-01,  2.2274e-01, -4.8253e-02,  3.5761e-03, -5.2795e-02,\n",
      "         -5.3555e-03, -3.6726e-02,  2.5004e-01,  1.5668e-01, -2.9042e-01],\n",
      "        [ 2.1615e-02,  3.0569e-01,  7.1229e-02, -2.6372e-01, -4.2784e-02,\n",
      "         -2.8628e-01, -5.8053e-02,  1.4274e-01, -1.7815e-02, -1.9130e-01],\n",
      "        [ 3.3866e-02, -1.6205e-01,  1.9819e-01, -2.0085e-01,  1.2364e-01,\n",
      "          4.4919e-02,  1.7398e-01,  1.5739e-01, -2.2371e-01,  2.1652e-01],\n",
      "        [ 1.2713e-01, -1.7125e-02, -3.6916e-02, -9.9927e-02, -2.7051e-01,\n",
      "         -7.3892e-02,  4.2935e-02, -2.9514e-02, -3.0844e-01, -1.5264e-01]],\n",
      "       requires_grad=True)\n",
      "Parameter containing:\n",
      "tensor([[-0.0558, -0.0527, -0.3146, -0.3054, -0.0087, -0.2368, -0.2747, -0.0662,\n",
      "         -0.0214, -0.3104]], requires_grad=True)\n"
     ]
    }
   ],
   "source": [
    "#Instanciar el modelo\n",
    "model = MLP(hidden_size=10, input_size=len(df.columns)-1)  # -1 porque la última columna es la de popularidad\n",
    "\n",
    "# Usar GPU si está disponible\n",
    "device = torch.device(\"cuda\" if torch.cuda.is_available() else \"cpu\")\n",
    "model = model.to(device)\n",
    "\n",
    "# Definir la función de pérdida y el optimizador\n",
    "criterion = nn.MSELoss()  # Mean Squared Error para regresión \n",
    "optimizer = torch.optim.Adam(model.parameters(), lr=0.0005)  # Adam optimizer\n",
    "\n",
    "print(model.h1.weight)\n",
    "print(model.h2.weight)\n",
    "print(model.out.weight)"
   ]
  },
  {
   "cell_type": "markdown",
   "id": "8b7e144f",
   "metadata": {},
   "source": [
    "### Entrenamiento del modelo"
   ]
  },
  {
   "cell_type": "code",
   "execution_count": 172,
   "id": "8123f4d1",
   "metadata": {},
   "outputs": [
    {
     "name": "stderr",
     "output_type": "stream",
     "text": [
      "Epoch 1: 100%|██████████| 45/45 [00:02<00:00, 18.87it/s]\n"
     ]
    },
    {
     "name": "stdout",
     "output_type": "stream",
     "text": [
      "Época 1 | Train Loss: 0.0443 | Val Loss: 0.0338\n",
      "Nuevo mínimo en loss de validación\n"
     ]
    },
    {
     "name": "stderr",
     "output_type": "stream",
     "text": [
      "Epoch 2: 100%|██████████| 45/45 [00:02<00:00, 20.19it/s]\n"
     ]
    },
    {
     "name": "stdout",
     "output_type": "stream",
     "text": [
      "Época 2 | Train Loss: 0.0410 | Val Loss: 0.0327\n",
      "Nuevo mínimo en loss de validación\n"
     ]
    },
    {
     "name": "stderr",
     "output_type": "stream",
     "text": [
      "Epoch 3: 100%|██████████| 45/45 [00:02<00:00, 21.51it/s]\n"
     ]
    },
    {
     "name": "stdout",
     "output_type": "stream",
     "text": [
      "Época 3 | Train Loss: 0.0393 | Val Loss: 0.0322\n",
      "Nuevo mínimo en loss de validación\n"
     ]
    },
    {
     "name": "stderr",
     "output_type": "stream",
     "text": [
      "Epoch 4: 100%|██████████| 45/45 [00:02<00:00, 22.07it/s]\n"
     ]
    },
    {
     "name": "stdout",
     "output_type": "stream",
     "text": [
      "Época 4 | Train Loss: 0.0374 | Val Loss: 0.0316\n",
      "Nuevo mínimo en loss de validación\n"
     ]
    },
    {
     "name": "stderr",
     "output_type": "stream",
     "text": [
      "Epoch 5: 100%|██████████| 45/45 [00:02<00:00, 19.76it/s]\n"
     ]
    },
    {
     "name": "stdout",
     "output_type": "stream",
     "text": [
      "Época 5 | Train Loss: 0.0360 | Val Loss: 0.0307\n",
      "Nuevo mínimo en loss de validación\n"
     ]
    },
    {
     "name": "stderr",
     "output_type": "stream",
     "text": [
      "Epoch 6: 100%|██████████| 45/45 [00:02<00:00, 18.46it/s]\n"
     ]
    },
    {
     "name": "stdout",
     "output_type": "stream",
     "text": [
      "Época 6 | Train Loss: 0.0347 | Val Loss: 0.0304\n",
      "Nuevo mínimo en loss de validación\n"
     ]
    },
    {
     "name": "stderr",
     "output_type": "stream",
     "text": [
      "Epoch 7: 100%|██████████| 45/45 [00:02<00:00, 19.07it/s]\n"
     ]
    },
    {
     "name": "stdout",
     "output_type": "stream",
     "text": [
      "Época 7 | Train Loss: 0.0335 | Val Loss: 0.0302\n",
      "Nuevo mínimo en loss de validación\n"
     ]
    },
    {
     "name": "stderr",
     "output_type": "stream",
     "text": [
      "Epoch 8: 100%|██████████| 45/45 [00:02<00:00, 22.01it/s]\n"
     ]
    },
    {
     "name": "stdout",
     "output_type": "stream",
     "text": [
      "Época 8 | Train Loss: 0.0324 | Val Loss: 0.0299\n",
      "Nuevo mínimo en loss de validación\n"
     ]
    },
    {
     "name": "stderr",
     "output_type": "stream",
     "text": [
      "Epoch 9: 100%|██████████| 45/45 [00:02<00:00, 21.31it/s]\n"
     ]
    },
    {
     "name": "stdout",
     "output_type": "stream",
     "text": [
      "Época 9 | Train Loss: 0.0312 | Val Loss: 0.0297\n",
      "Nuevo mínimo en loss de validación\n"
     ]
    },
    {
     "name": "stderr",
     "output_type": "stream",
     "text": [
      "Epoch 10: 100%|██████████| 45/45 [00:02<00:00, 20.58it/s]\n"
     ]
    },
    {
     "name": "stdout",
     "output_type": "stream",
     "text": [
      "Época 10 | Train Loss: 0.0300 | Val Loss: 0.0296\n",
      "Nuevo mínimo en loss de validación\n"
     ]
    },
    {
     "name": "stderr",
     "output_type": "stream",
     "text": [
      "Epoch 11: 100%|██████████| 45/45 [00:02<00:00, 18.62it/s]\n"
     ]
    },
    {
     "name": "stdout",
     "output_type": "stream",
     "text": [
      "Época 11 | Train Loss: 0.0289 | Val Loss: 0.0294\n",
      "Nuevo mínimo en loss de validación\n"
     ]
    },
    {
     "name": "stderr",
     "output_type": "stream",
     "text": [
      "Epoch 12: 100%|██████████| 45/45 [00:02<00:00, 20.58it/s]\n"
     ]
    },
    {
     "name": "stdout",
     "output_type": "stream",
     "text": [
      "Época 12 | Train Loss: 0.0280 | Val Loss: 0.0294\n",
      "Nuevo mínimo en loss de validación\n"
     ]
    },
    {
     "name": "stderr",
     "output_type": "stream",
     "text": [
      "Epoch 13: 100%|██████████| 45/45 [00:01<00:00, 22.65it/s]\n"
     ]
    },
    {
     "name": "stdout",
     "output_type": "stream",
     "text": [
      "Época 13 | Train Loss: 0.0272 | Val Loss: 0.0293\n",
      "Nuevo mínimo en loss de validación\n"
     ]
    },
    {
     "name": "stderr",
     "output_type": "stream",
     "text": [
      "Epoch 14: 100%|██████████| 45/45 [00:02<00:00, 20.64it/s]\n"
     ]
    },
    {
     "name": "stdout",
     "output_type": "stream",
     "text": [
      "Época 14 | Train Loss: 0.0265 | Val Loss: 0.0293\n"
     ]
    },
    {
     "name": "stderr",
     "output_type": "stream",
     "text": [
      "Epoch 15: 100%|██████████| 45/45 [00:02<00:00, 20.58it/s]\n"
     ]
    },
    {
     "name": "stdout",
     "output_type": "stream",
     "text": [
      "Época 15 | Train Loss: 0.0260 | Val Loss: 0.0292\n",
      "Nuevo mínimo en loss de validación\n"
     ]
    },
    {
     "name": "stderr",
     "output_type": "stream",
     "text": [
      "Epoch 16: 100%|██████████| 45/45 [00:02<00:00, 20.64it/s]\n"
     ]
    },
    {
     "name": "stdout",
     "output_type": "stream",
     "text": [
      "Época 16 | Train Loss: 0.0255 | Val Loss: 0.0293\n"
     ]
    },
    {
     "name": "stderr",
     "output_type": "stream",
     "text": [
      "Epoch 17: 100%|██████████| 45/45 [00:02<00:00, 20.82it/s]\n"
     ]
    },
    {
     "name": "stdout",
     "output_type": "stream",
     "text": [
      "Época 17 | Train Loss: 0.0251 | Val Loss: 0.0292\n"
     ]
    },
    {
     "name": "stderr",
     "output_type": "stream",
     "text": [
      "Epoch 18: 100%|██████████| 45/45 [00:01<00:00, 22.53it/s]\n"
     ]
    },
    {
     "name": "stdout",
     "output_type": "stream",
     "text": [
      "Época 18 | Train Loss: 0.0247 | Val Loss: 0.0296\n"
     ]
    },
    {
     "name": "stderr",
     "output_type": "stream",
     "text": [
      "Epoch 19: 100%|██████████| 45/45 [00:02<00:00, 20.83it/s]\n"
     ]
    },
    {
     "name": "stdout",
     "output_type": "stream",
     "text": [
      "Época 19 | Train Loss: 0.0244 | Val Loss: 0.0297\n"
     ]
    },
    {
     "name": "stderr",
     "output_type": "stream",
     "text": [
      "Epoch 20: 100%|██████████| 45/45 [00:02<00:00, 19.34it/s]\n"
     ]
    },
    {
     "name": "stdout",
     "output_type": "stream",
     "text": [
      "Época 20 | Train Loss: 0.0241 | Val Loss: 0.0299\n"
     ]
    },
    {
     "name": "stderr",
     "output_type": "stream",
     "text": [
      "Epoch 21: 100%|██████████| 45/45 [00:02<00:00, 21.00it/s]\n"
     ]
    },
    {
     "name": "stdout",
     "output_type": "stream",
     "text": [
      "Época 21 | Train Loss: 0.0238 | Val Loss: 0.0300\n"
     ]
    },
    {
     "name": "stderr",
     "output_type": "stream",
     "text": [
      "Epoch 22: 100%|██████████| 45/45 [00:02<00:00, 22.47it/s]\n"
     ]
    },
    {
     "name": "stdout",
     "output_type": "stream",
     "text": [
      "Época 22 | Train Loss: 0.0235 | Val Loss: 0.0303\n"
     ]
    },
    {
     "name": "stderr",
     "output_type": "stream",
     "text": [
      "Epoch 23: 100%|██████████| 45/45 [00:02<00:00, 20.55it/s]\n"
     ]
    },
    {
     "name": "stdout",
     "output_type": "stream",
     "text": [
      "Época 23 | Train Loss: 0.0233 | Val Loss: 0.0307\n"
     ]
    },
    {
     "name": "stderr",
     "output_type": "stream",
     "text": [
      "Epoch 24: 100%|██████████| 45/45 [00:02<00:00, 21.16it/s]\n"
     ]
    },
    {
     "name": "stdout",
     "output_type": "stream",
     "text": [
      "Época 24 | Train Loss: 0.0230 | Val Loss: 0.0310\n"
     ]
    },
    {
     "name": "stderr",
     "output_type": "stream",
     "text": [
      "Epoch 25: 100%|██████████| 45/45 [00:02<00:00, 20.62it/s]\n"
     ]
    },
    {
     "name": "stdout",
     "output_type": "stream",
     "text": [
      "Época 25 | Train Loss: 0.0228 | Val Loss: 0.0315\n",
      "Early stopping triggered\n"
     ]
    }
   ],
   "source": [
    "#Loop de entrenamiento\n",
    "epochs = 300  # Número de épocas para el entrenamiento\n",
    "epoch = 0\n",
    "patience=10\n",
    "\n",
    "batch_size = 8578\n",
    "batchs_per_epoch = 45\n",
    "\n",
    "train_losses = []\n",
    "val_losses = []\n",
    "best_val_loss = float('inf')\n",
    "\n",
    "while epoch < epochs:    \n",
    "    model.train()\n",
    "    running_loss = 0.0\n",
    "    for _ in tqdm(range(batchs_per_epoch), desc=f\"Epoch {epoch+1}\"):\n",
    "        input, labels = next(iter(X_train)), next(iter(y_train))  # Obtener un batch de datos\n",
    "        input, labels = input.to(device), labels.to(device)\n",
    "\n",
    "        optimizer.zero_grad()\n",
    "\n",
    "        # Salidas \n",
    "        output = model(input)\n",
    "\n",
    "        # Pérdida combinada\n",
    "        loss = criterion(output, labels)\n",
    "\n",
    "        loss.backward()\n",
    "        optimizer.step()\n",
    "        running_loss += loss.item()\n",
    "\n",
    "    train_losses.append(running_loss / len(X_train))\n",
    "\n",
    "    # Validación\n",
    "    model.eval()\n",
    "    val_loss = 0.0\n",
    "\n",
    "    with torch.no_grad():\n",
    "        for _ in range(len(X_val)):\n",
    "            input, labels = next(iter(X_val)), next(iter(y_val))\n",
    "            input, labels = input.to(device), labels.to(device)\n",
    "\n",
    "            # Solo predicción principal en validación\n",
    "            outputs = model(input)  \n",
    "            loss = criterion(outputs, labels)\n",
    "            val_loss += loss.item()\n",
    "\n",
    "            preds = torch.sigmoid(outputs).cpu().numpy()\n",
    "\n",
    "    val_losses.append(val_loss / len(X_val))\n",
    "    print(f\"Época {epoch+1} | Train Loss: {train_losses[-1]:.4f} | Val Loss: {val_losses[-1]:.4f}\")\n",
    "    # Early stopping\n",
    "    if best_val_loss > (val_loss / len(X_val)):\n",
    "        patience = 10\n",
    "        best_val_loss = val_loss / len(X_val)\n",
    "        print(f\"Nuevo mínimo en loss de validación\")   \n",
    "    else:\n",
    "        patience -= 1\n",
    "        if patience <= 0:\n",
    "            print(\"Early stopping triggered\")\n",
    "            break\n",
    "    epoch += 1"
   ]
  },
  {
   "cell_type": "code",
   "execution_count": 173,
   "id": "3ccdb754",
   "metadata": {},
   "outputs": [
    {
     "data": {
      "image/png": "[encoded data removed]",
      "text/plain": [
       "<Figure size 640x480 with 1 Axes>"
      ]
     },
     "metadata": {},
     "output_type": "display_data"
    }
   ],
   "source": [
    "plt.plot(train_losses, label='Train Loss')\n",
    "plt.plot(val_losses, label='Val Loss')\n",
    "plt.xlabel('Épocas')\n",
    "plt.ylabel('Pérdida')\n",
    "plt.legend()\n",
    "plt.title('Curva de pérdida')\n",
    "plt.show()"
   ]
  },
  {
   "cell_type": "code",
   "execution_count": null,
   "id": "cee7d587",
   "metadata": {},
   "outputs": [],
   "source": [
    "print(model.h1.weight)\n",
    "print(model.h2.weight)\n",
    "print(model.out.weight)"
   ]
  },
  {
   "cell_type": "markdown",
   "id": "b688b8b3",
   "metadata": {},
   "source": [
    "## Modelo popularidad segmentada"
   ]
  },
  {
   "cell_type": "markdown",
   "id": "ce02ada4",
   "metadata": {},
   "source": [
    "### Pre-procesado de datos"
   ]
  },
  {
   "cell_type": "code",
   "execution_count": null,
   "id": "cc2f1adf",
   "metadata": {},
   "outputs": [],
   "source": [
    "# Normalizar la columna 'Popularity' entre 0 y 1\n",
    "scaler = MinMaxScaler()\n",
    "train_df['Popularity'] = scaler.fit_transform(train_df[['Popularity']])\n",
    "val_df['Popularity'] = scaler.transform(val_df[['Popularity']])\n",
    "test_df['Popularity'] = scaler.transform(test_df[['Popularity']])\n",
    "\n",
    "# Convertir el DataFrame a tensores de PyTorch\n",
    "X_train = torch.tensor(train_df.drop(columns=['Popularity']).values, dtype=torch.float32)  \n",
    "X_train = DataLoader(X_train, batch_size=8578, shuffle=False)  # Crear DataLoader para el conjunto de entrenamiento\n",
    "y_train = torch.tensor(train_df['Popularity'].values, dtype=torch.float32).view(-1, 1)  # Asegurarse de que y tenga la forma correcta\n",
    "y_train = DataLoader(y_train, batch_size=8578, shuffle=False)  # Crear DataLoader para las etiquetas de entrenamiento\n",
    "\n",
    "X_val = torch.tensor(val_df.drop(columns=['Popularity']).values, dtype=torch.float32)\n",
    "X_val = DataLoader(X_val, batch_size=3938, shuffle=False)  # Crear DataLoader para el conjunto de validación\n",
    "y_val = torch.tensor(val_df['Popularity'].values, dtype=torch.float32).view(-1, 1)\n",
    "y_val = DataLoader(y_val, batch_size=3938, shuffle=False)  # Crear DataLoader para las etiquetas de validación\n",
    "\n",
    "\n",
    "X_test = torch.tensor(test_df.drop(columns=['Popularity']).values, dtype=torch.float32)\n",
    "X_test = DataLoader(X_test, batch_size=3939, shuffle=False)  # Crear DataLoader para el conjunto de prueba\n",
    "y_test = torch.tensor(test_df['Popularity'].values, dtype=torch.float32).view(-1, 1)\n",
    "y_test = DataLoader(y_test, batch_size=3939, shuffle=False)  # Crear DataLoader para las etiquetas de prueba\n"
   ]
  },
  {
   "cell_type": "code",
   "execution_count": null,
   "id": "4a1eeff9",
   "metadata": {},
   "outputs": [],
   "source": [
    "len(X_train), len(X_val), len(X_test)"
   ]
  },
  {
   "cell_type": "markdown",
   "id": "82aa17d0",
   "metadata": {},
   "source": [
    "### Inicialización del modelo"
   ]
  },
  {
   "cell_type": "code",
   "execution_count": null,
   "id": "0fb00aba",
   "metadata": {},
   "outputs": [],
   "source": [
    "# Instanciar el modelo\n",
    "model2 = MLP(hidden_size=10, input_size=len(df.columns)-1)  # -1 porque la última columna es la de popularidad\n",
    "\n",
    "# Usar GPU si está disponible\n",
    "device = torch.device(\"cuda\" if torch.cuda.is_available() else \"cpu\")\n",
    "model2 = model2.to(device)\n",
    "\n",
    "# Definir la función de pérdida y el optimizador\n",
    "criterion = nn.MSELoss()  # Mean Squared Error para regresión \n",
    "optimizer = torch.optim.Adam(model2.parameters(), lr=0.001)  # Adam optimizer\n",
    "\n",
    "print(model.h1.weight)\n",
    "print(model.h2.weight)\n",
    "print(model.out.weight)"
   ]
  },
  {
   "cell_type": "markdown",
   "id": "2964ab4b",
   "metadata": {},
   "source": [
    "### Entrenamiento del modelo"
   ]
  },
  {
   "cell_type": "code",
   "execution_count": null,
   "id": "bd263ac6",
   "metadata": {},
   "outputs": [
    {
     "name": "stdout",
     "output_type": "stream",
     "text": [
      "Época 1 | Train Loss: 1388.8176 | Val Loss: 1386.5251\n",
      "Época 2 | Train Loss: 1386.5251 | Val Loss: 1383.2905\n",
      "Época 3 | Train Loss: 1383.2905 | Val Loss: 1379.0564\n",
      "Época 4 | Train Loss: 1379.0564 | Val Loss: 1374.4260\n",
      "Época 5 | Train Loss: 1374.4260 | Val Loss: 1370.4170\n"
     ]
    }
   ],
   "source": [
    "#Loop de entrenamiento\n",
    "epochs = 300  # Número de épocas para el entrenamiento\n",
    "epoch = 0\n",
    "patience=10\n",
    "\n",
    "batch_size = 8578\n",
    "batchs_per_epoch = 45\n",
    "\n",
    "train_losses = []\n",
    "val_losses = []\n",
    "best_val_loss = float('inf')\n",
    "\n",
    "while epoch < epochs:    \n",
    "    model.train()\n",
    "    running_loss = 0.0\n",
    "    for _ in tqdm(range(batchs_per_epoch), desc=f\"Epoch {epoch+1}\"):\n",
    "        input, labels = next(iter(X_train)), next(iter(y_train))  # Obtener un batch de datos\n",
    "        input, labels = input.to(device), labels.to(device)\n",
    "\n",
    "        optimizer.zero_grad()\n",
    "\n",
    "        # Salidas \n",
    "        output = model(input)\n",
    "\n",
    "        # Pérdida combinada\n",
    "        loss = criterion(output, labels)\n",
    "\n",
    "        loss.backward()\n",
    "        optimizer.step()\n",
    "        running_loss += loss.item()\n",
    "\n",
    "    train_losses.append(running_loss / len(X_train))\n",
    "\n",
    "    # Validación\n",
    "    model.eval()\n",
    "    val_loss = 0.0\n",
    "\n",
    "    with torch.no_grad():\n",
    "        for _ in range(len(X_val)):\n",
    "            input, labels = next(iter(X_val)), next(iter(y_val))\n",
    "            input, labels = input.to(device), labels.to(device)\n",
    "\n",
    "            # Solo predicción principal en validación\n",
    "            outputs = model(input)  \n",
    "            loss = criterion(outputs, labels)\n",
    "            val_loss += loss.item()\n",
    "\n",
    "            preds = torch.sigmoid(outputs).cpu().numpy()\n",
    "\n",
    "    val_losses.append(val_loss / len(X_val))\n",
    "    print(f\"Época {epoch+1} | Train Loss: {train_losses[-1]:.4f} | Val Loss: {val_losses[-1]:.4f}\")\n",
    "    # Early stopping\n",
    "    if best_val_loss > (val_loss / len(X_val)):\n",
    "        patience = 10\n",
    "        best_val_loss = val_loss / len(X_val)\n",
    "        print(f\"Nuevo mínimo en loss de validación\")   \n",
    "    else:\n",
    "        patience -= 1\n",
    "        if patience <= 0:\n",
    "            print(\"Early stopping triggered\")\n",
    "            break\n",
    "    epoch += 1"
   ]
  },
  {
   "cell_type": "code",
   "execution_count": null,
   "id": "9f68b639",
   "metadata": {},
   "outputs": [
    {
     "ename": "RuntimeError",
     "evalue": "Can't call numpy() on Tensor that requires grad. Use tensor.detach().numpy() instead.",
     "output_type": "error",
     "traceback": [
      "\u001b[31m---------------------------------------------------------------------------\u001b[39m",
      "\u001b[31mRuntimeError\u001b[39m                              Traceback (most recent call last)",
      "\u001b[36mCell\u001b[39m\u001b[36m \u001b[39m\u001b[32mIn[35]\u001b[39m\u001b[32m, line 1\u001b[39m\n\u001b[32m----> \u001b[39m\u001b[32m1\u001b[39m \u001b[43mplt\u001b[49m\u001b[43m.\u001b[49m\u001b[43mplot\u001b[49m\u001b[43m(\u001b[49m\u001b[43mtrain_losses\u001b[49m\u001b[43m,\u001b[49m\u001b[43m \u001b[49m\u001b[43mlabel\u001b[49m\u001b[43m=\u001b[49m\u001b[33;43m'\u001b[39;49m\u001b[33;43mTrain Loss\u001b[39;49m\u001b[33;43m'\u001b[39;49m\u001b[43m)\u001b[49m\n\u001b[32m      2\u001b[39m plt.plot(val_losses, label=\u001b[33m'\u001b[39m\u001b[33mVal Loss\u001b[39m\u001b[33m'\u001b[39m)\n\u001b[32m      3\u001b[39m plt.xlabel(\u001b[33m'\u001b[39m\u001b[33mÉpocas\u001b[39m\u001b[33m'\u001b[39m)\n",
      "\u001b[36mFile \u001b[39m\u001b[32mc:\\Users\\sebag\\AppData\\Local\\Programs\\Python\\Python313\\Lib\\site-packages\\matplotlib\\pyplot.py:3838\u001b[39m, in \u001b[36mplot\u001b[39m\u001b[34m(scalex, scaley, data, *args, **kwargs)\u001b[39m\n\u001b[32m   3830\u001b[39m \u001b[38;5;129m@_copy_docstring_and_deprecators\u001b[39m(Axes.plot)\n\u001b[32m   3831\u001b[39m \u001b[38;5;28;01mdef\u001b[39;00m\u001b[38;5;250m \u001b[39m\u001b[34mplot\u001b[39m(\n\u001b[32m   3832\u001b[39m     *args: \u001b[38;5;28mfloat\u001b[39m | ArrayLike | \u001b[38;5;28mstr\u001b[39m,\n\u001b[32m   (...)\u001b[39m\u001b[32m   3836\u001b[39m     **kwargs,\n\u001b[32m   3837\u001b[39m ) -> \u001b[38;5;28mlist\u001b[39m[Line2D]:\n\u001b[32m-> \u001b[39m\u001b[32m3838\u001b[39m     \u001b[38;5;28;01mreturn\u001b[39;00m \u001b[43mgca\u001b[49m\u001b[43m(\u001b[49m\u001b[43m)\u001b[49m\u001b[43m.\u001b[49m\u001b[43mplot\u001b[49m\u001b[43m(\u001b[49m\n\u001b[32m   3839\u001b[39m \u001b[43m        \u001b[49m\u001b[43m*\u001b[49m\u001b[43margs\u001b[49m\u001b[43m,\u001b[49m\n\u001b[32m   3840\u001b[39m \u001b[43m        \u001b[49m\u001b[43mscalex\u001b[49m\u001b[43m=\u001b[49m\u001b[43mscalex\u001b[49m\u001b[43m,\u001b[49m\n\u001b[32m   3841\u001b[39m \u001b[43m        \u001b[49m\u001b[43mscaley\u001b[49m\u001b[43m=\u001b[49m\u001b[43mscaley\u001b[49m\u001b[43m,\u001b[49m\n\u001b[32m   3842\u001b[39m \u001b[43m        \u001b[49m\u001b[43m*\u001b[49m\u001b[43m*\u001b[49m\u001b[43m(\u001b[49m\u001b[43m{\u001b[49m\u001b[33;43m\"\u001b[39;49m\u001b[33;43mdata\u001b[39;49m\u001b[33;43m\"\u001b[39;49m\u001b[43m:\u001b[49m\u001b[43m \u001b[49m\u001b[43mdata\u001b[49m\u001b[43m}\u001b[49m\u001b[43m \u001b[49m\u001b[38;5;28;43;01mif\u001b[39;49;00m\u001b[43m \u001b[49m\u001b[43mdata\u001b[49m\u001b[43m \u001b[49m\u001b[38;5;129;43;01mis\u001b[39;49;00m\u001b[43m \u001b[49m\u001b[38;5;129;43;01mnot\u001b[39;49;00m\u001b[43m \u001b[49m\u001b[38;5;28;43;01mNone\u001b[39;49;00m\u001b[43m \u001b[49m\u001b[38;5;28;43;01melse\u001b[39;49;00m\u001b[43m \u001b[49m\u001b[43m{\u001b[49m\u001b[43m}\u001b[49m\u001b[43m)\u001b[49m\u001b[43m,\u001b[49m\n\u001b[32m   3843\u001b[39m \u001b[43m        \u001b[49m\u001b[43m*\u001b[49m\u001b[43m*\u001b[49m\u001b[43mkwargs\u001b[49m\u001b[43m,\u001b[49m\n\u001b[32m   3844\u001b[39m \u001b[43m    \u001b[49m\u001b[43m)\u001b[49m\n",
      "\u001b[36mFile \u001b[39m\u001b[32mc:\\Users\\sebag\\AppData\\Local\\Programs\\Python\\Python313\\Lib\\site-packages\\matplotlib\\axes\\_axes.py:1777\u001b[39m, in \u001b[36mAxes.plot\u001b[39m\u001b[34m(self, scalex, scaley, data, *args, **kwargs)\u001b[39m\n\u001b[32m   1534\u001b[39m \u001b[38;5;250m\u001b[39m\u001b[33;03m\"\"\"\u001b[39;00m\n\u001b[32m   1535\u001b[39m \u001b[33;03mPlot y versus x as lines and/or markers.\u001b[39;00m\n\u001b[32m   1536\u001b[39m \n\u001b[32m   (...)\u001b[39m\u001b[32m   1774\u001b[39m \u001b[33;03m(``'green'``) or hex strings (``'#008000'``).\u001b[39;00m\n\u001b[32m   1775\u001b[39m \u001b[33;03m\"\"\"\u001b[39;00m\n\u001b[32m   1776\u001b[39m kwargs = cbook.normalize_kwargs(kwargs, mlines.Line2D)\n\u001b[32m-> \u001b[39m\u001b[32m1777\u001b[39m lines = [*\u001b[38;5;28mself\u001b[39m._get_lines(\u001b[38;5;28mself\u001b[39m, *args, data=data, **kwargs)]\n\u001b[32m   1778\u001b[39m \u001b[38;5;28;01mfor\u001b[39;00m line \u001b[38;5;129;01min\u001b[39;00m lines:\n\u001b[32m   1779\u001b[39m     \u001b[38;5;28mself\u001b[39m.add_line(line)\n",
      "\u001b[36mFile \u001b[39m\u001b[32mc:\\Users\\sebag\\AppData\\Local\\Programs\\Python\\Python313\\Lib\\site-packages\\matplotlib\\axes\\_base.py:297\u001b[39m, in \u001b[36m_process_plot_var_args.__call__\u001b[39m\u001b[34m(self, axes, data, return_kwargs, *args, **kwargs)\u001b[39m\n\u001b[32m    295\u001b[39m     this += args[\u001b[32m0\u001b[39m],\n\u001b[32m    296\u001b[39m     args = args[\u001b[32m1\u001b[39m:]\n\u001b[32m--> \u001b[39m\u001b[32m297\u001b[39m \u001b[38;5;28;01myield from\u001b[39;00m \u001b[38;5;28;43mself\u001b[39;49m\u001b[43m.\u001b[49m\u001b[43m_plot_args\u001b[49m\u001b[43m(\u001b[49m\n\u001b[32m    298\u001b[39m \u001b[43m    \u001b[49m\u001b[43maxes\u001b[49m\u001b[43m,\u001b[49m\u001b[43m \u001b[49m\u001b[43mthis\u001b[49m\u001b[43m,\u001b[49m\u001b[43m \u001b[49m\u001b[43mkwargs\u001b[49m\u001b[43m,\u001b[49m\u001b[43m \u001b[49m\u001b[43mambiguous_fmt_datakey\u001b[49m\u001b[43m=\u001b[49m\u001b[43mambiguous_fmt_datakey\u001b[49m\u001b[43m,\u001b[49m\n\u001b[32m    299\u001b[39m \u001b[43m    \u001b[49m\u001b[43mreturn_kwargs\u001b[49m\u001b[43m=\u001b[49m\u001b[43mreturn_kwargs\u001b[49m\n\u001b[32m    300\u001b[39m \u001b[43m\u001b[49m\u001b[43m)\u001b[49m\n",
      "\u001b[36mFile \u001b[39m\u001b[32mc:\\Users\\sebag\\AppData\\Local\\Programs\\Python\\Python313\\Lib\\site-packages\\matplotlib\\axes\\_base.py:486\u001b[39m, in \u001b[36m_process_plot_var_args._plot_args\u001b[39m\u001b[34m(self, axes, tup, kwargs, return_kwargs, ambiguous_fmt_datakey)\u001b[39m\n\u001b[32m    484\u001b[39m     y = _check_1d(xy[\u001b[32m1\u001b[39m])\n\u001b[32m    485\u001b[39m \u001b[38;5;28;01melse\u001b[39;00m:\n\u001b[32m--> \u001b[39m\u001b[32m486\u001b[39m     x, y = \u001b[43mindex_of\u001b[49m\u001b[43m(\u001b[49m\u001b[43mxy\u001b[49m\u001b[43m[\u001b[49m\u001b[43m-\u001b[49m\u001b[32;43m1\u001b[39;49m\u001b[43m]\u001b[49m\u001b[43m)\u001b[49m\n\u001b[32m    488\u001b[39m \u001b[38;5;28;01mif\u001b[39;00m axes.xaxis \u001b[38;5;129;01mis\u001b[39;00m \u001b[38;5;129;01mnot\u001b[39;00m \u001b[38;5;28;01mNone\u001b[39;00m:\n\u001b[32m    489\u001b[39m     axes.xaxis.update_units(x)\n",
      "\u001b[36mFile \u001b[39m\u001b[32mc:\\Users\\sebag\\AppData\\Local\\Programs\\Python\\Python313\\Lib\\site-packages\\matplotlib\\cbook.py:1676\u001b[39m, in \u001b[36mindex_of\u001b[39m\u001b[34m(y)\u001b[39m\n\u001b[32m   1674\u001b[39m     \u001b[38;5;28;01mpass\u001b[39;00m\n\u001b[32m   1675\u001b[39m \u001b[38;5;28;01mtry\u001b[39;00m:\n\u001b[32m-> \u001b[39m\u001b[32m1676\u001b[39m     y = \u001b[43m_check_1d\u001b[49m\u001b[43m(\u001b[49m\u001b[43my\u001b[49m\u001b[43m)\u001b[49m\n\u001b[32m   1677\u001b[39m \u001b[38;5;28;01mexcept\u001b[39;00m (VisibleDeprecationWarning, \u001b[38;5;167;01mValueError\u001b[39;00m):\n\u001b[32m   1678\u001b[39m     \u001b[38;5;66;03m# NumPy 1.19 will warn on ragged input, and we can't actually use it.\u001b[39;00m\n\u001b[32m   1679\u001b[39m     \u001b[38;5;28;01mpass\u001b[39;00m\n",
      "\u001b[36mFile \u001b[39m\u001b[32mc:\\Users\\sebag\\AppData\\Local\\Programs\\Python\\Python313\\Lib\\site-packages\\matplotlib\\cbook.py:1368\u001b[39m, in \u001b[36m_check_1d\u001b[39m\u001b[34m(x)\u001b[39m\n\u001b[32m   1362\u001b[39m \u001b[38;5;66;03m# plot requires `shape` and `ndim`.  If passed an\u001b[39;00m\n\u001b[32m   1363\u001b[39m \u001b[38;5;66;03m# object that doesn't provide them, then force to numpy array.\u001b[39;00m\n\u001b[32m   1364\u001b[39m \u001b[38;5;66;03m# Note this will strip unit information.\u001b[39;00m\n\u001b[32m   1365\u001b[39m \u001b[38;5;28;01mif\u001b[39;00m (\u001b[38;5;129;01mnot\u001b[39;00m \u001b[38;5;28mhasattr\u001b[39m(x, \u001b[33m'\u001b[39m\u001b[33mshape\u001b[39m\u001b[33m'\u001b[39m) \u001b[38;5;129;01mor\u001b[39;00m\n\u001b[32m   1366\u001b[39m         \u001b[38;5;129;01mnot\u001b[39;00m \u001b[38;5;28mhasattr\u001b[39m(x, \u001b[33m'\u001b[39m\u001b[33mndim\u001b[39m\u001b[33m'\u001b[39m) \u001b[38;5;129;01mor\u001b[39;00m\n\u001b[32m   1367\u001b[39m         \u001b[38;5;28mlen\u001b[39m(x.shape) < \u001b[32m1\u001b[39m):\n\u001b[32m-> \u001b[39m\u001b[32m1368\u001b[39m     \u001b[38;5;28;01mreturn\u001b[39;00m \u001b[43mnp\u001b[49m\u001b[43m.\u001b[49m\u001b[43matleast_1d\u001b[49m\u001b[43m(\u001b[49m\u001b[43mx\u001b[49m\u001b[43m)\u001b[49m\n\u001b[32m   1369\u001b[39m \u001b[38;5;28;01melse\u001b[39;00m:\n\u001b[32m   1370\u001b[39m     \u001b[38;5;28;01mreturn\u001b[39;00m x\n",
      "\u001b[36mFile \u001b[39m\u001b[32mc:\\Users\\sebag\\AppData\\Local\\Programs\\Python\\Python313\\Lib\\site-packages\\numpy\\_core\\shape_base.py:63\u001b[39m, in \u001b[36matleast_1d\u001b[39m\u001b[34m(*arys)\u001b[39m\n\u001b[32m     23\u001b[39m \u001b[38;5;250m\u001b[39m\u001b[33;03m\"\"\"\u001b[39;00m\n\u001b[32m     24\u001b[39m \u001b[33;03mConvert inputs to arrays with at least one dimension.\u001b[39;00m\n\u001b[32m     25\u001b[39m \n\u001b[32m   (...)\u001b[39m\u001b[32m     60\u001b[39m \n\u001b[32m     61\u001b[39m \u001b[33;03m\"\"\"\u001b[39;00m\n\u001b[32m     62\u001b[39m \u001b[38;5;28;01mif\u001b[39;00m \u001b[38;5;28mlen\u001b[39m(arys) == \u001b[32m1\u001b[39m:\n\u001b[32m---> \u001b[39m\u001b[32m63\u001b[39m     result = \u001b[43masanyarray\u001b[49m\u001b[43m(\u001b[49m\u001b[43marys\u001b[49m\u001b[43m[\u001b[49m\u001b[32;43m0\u001b[39;49m\u001b[43m]\u001b[49m\u001b[43m)\u001b[49m\n\u001b[32m     64\u001b[39m     \u001b[38;5;28;01mif\u001b[39;00m result.ndim == \u001b[32m0\u001b[39m:\n\u001b[32m     65\u001b[39m         result = result.reshape(\u001b[32m1\u001b[39m)\n",
      "\u001b[36mFile \u001b[39m\u001b[32mc:\\Users\\sebag\\AppData\\Local\\Programs\\Python\\Python313\\Lib\\site-packages\\torch\\_tensor.py:1194\u001b[39m, in \u001b[36mTensor.__array__\u001b[39m\u001b[34m(self, dtype)\u001b[39m\n\u001b[32m   1192\u001b[39m     \u001b[38;5;28;01mreturn\u001b[39;00m handle_torch_function(Tensor.__array__, (\u001b[38;5;28mself\u001b[39m,), \u001b[38;5;28mself\u001b[39m, dtype=dtype)\n\u001b[32m   1193\u001b[39m \u001b[38;5;28;01mif\u001b[39;00m dtype \u001b[38;5;129;01mis\u001b[39;00m \u001b[38;5;28;01mNone\u001b[39;00m:\n\u001b[32m-> \u001b[39m\u001b[32m1194\u001b[39m     \u001b[38;5;28;01mreturn\u001b[39;00m \u001b[38;5;28;43mself\u001b[39;49m\u001b[43m.\u001b[49m\u001b[43mnumpy\u001b[49m\u001b[43m(\u001b[49m\u001b[43m)\u001b[49m\n\u001b[32m   1195\u001b[39m \u001b[38;5;28;01melse\u001b[39;00m:\n\u001b[32m   1196\u001b[39m     \u001b[38;5;28;01mreturn\u001b[39;00m \u001b[38;5;28mself\u001b[39m.numpy().astype(dtype, copy=\u001b[38;5;28;01mFalse\u001b[39;00m)\n",
      "\u001b[31mRuntimeError\u001b[39m: Can't call numpy() on Tensor that requires grad. Use tensor.detach().numpy() instead."
     ]
    },
    {
     "data": {
      "image/png": "[encoded data removed]",
      "text/plain": [
       "<Figure size 640x480 with 1 Axes>"
      ]
     },
     "metadata": {},
     "output_type": "display_data"
    }
   ],
   "source": [
    "plt.plot(train_losses, label='Train Loss')\n",
    "plt.plot(val_losses, label='Val Loss')\n",
    "plt.xlabel('Épocas')\n",
    "plt.ylabel('Pérdida')\n",
    "plt.legend()\n",
    "plt.title('Curva de pérdida')\n",
    "plt.show()"
   ]
  },
  {
   "cell_type": "markdown",
   "id": "7df7a2f2",
   "metadata": {},
   "source": [
    "print(model.h1.weight)\n",
    "print(model.h2.weight)\n",
    "print(model.out.weight)"
   ]
  }
 ],
 "metadata": {
  "kernelspec": {
   "display_name": "Python 3",
   "language": "python",
   "name": "python3"
  },
  "language_info": {
   "codemirror_mode": {
    "name": "ipython",
    "version": 3
   },
   "file_extension": ".py",
   "mimetype": "text/x-python",
   "name": "python",
   "nbconvert_exporter": "python",
   "pygments_lexer": "ipython3",
   "version": "3.13.2"
  }
 },
 "nbformat": 4,
 "nbformat_minor": 5
}
