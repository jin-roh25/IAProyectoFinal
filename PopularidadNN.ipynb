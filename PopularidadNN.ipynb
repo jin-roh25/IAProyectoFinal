{
 "cells": [
  {
   "cell_type": "code",
   "execution_count": 827,
   "id": "a05d9d9d",
   "metadata": {},
   "outputs": [],
   "source": [
    "import torch\n",
    "import matplotlib.pyplot as plt\n",
    "import numpy as np\n",
    "import pandas as pd\n",
    "import seaborn as sns\n",
    "\n",
    "from torch import nn\n",
    "from torch.utils.data import DataLoader\n",
    "from torchsummary import summary\n",
    "from tqdm import tqdm\n",
    "\n",
    "from sklearn.preprocessing import OneHotEncoder\n",
    "from sklearn.preprocessing import MultiLabelBinarizer\n",
    "from sklearn.model_selection import train_test_split\n",
    "from sklearn.preprocessing import MinMaxScaler\n",
    "from sklearn.metrics import mean_absolute_error, mean_squared_error, r2_score\n",
    "\n",
    "df = pd.read_parquet('../data/songs_optimized.parquet')"
   ]
  },
  {
   "cell_type": "markdown",
   "id": "0370545f",
   "metadata": {
    "vscode": {
     "languageId": "html"
    }
   },
   "source": [
    "# Pre-procesado del dataframe"
   ]
  },
  {
   "cell_type": "code",
   "execution_count": 828,
   "id": "55d53642",
   "metadata": {},
   "outputs": [
    {
     "data": {
      "text/html": [
       "<div>\n",
       "<style scoped>\n",
       "    .dataframe tbody tr th:only-of-type {\n",
       "        vertical-align: middle;\n",
       "    }\n",
       "\n",
       "    .dataframe tbody tr th {\n",
       "        vertical-align: top;\n",
       "    }\n",
       "\n",
       "    .dataframe thead th {\n",
       "        text-align: right;\n",
       "    }\n",
       "</style>\n",
       "<table border=\"1\" class=\"dataframe\">\n",
       "  <thead>\n",
       "    <tr style=\"text-align: right;\">\n",
       "      <th></th>\n",
       "      <th>Artist(s)</th>\n",
       "      <th>song</th>\n",
       "      <th>text</th>\n",
       "      <th>Length</th>\n",
       "      <th>emotion</th>\n",
       "      <th>Genre</th>\n",
       "      <th>Album</th>\n",
       "      <th>Release Date</th>\n",
       "      <th>Key</th>\n",
       "      <th>Tempo</th>\n",
       "      <th>...</th>\n",
       "      <th>Good for Morning Routine</th>\n",
       "      <th>Similar Artist 1</th>\n",
       "      <th>Similar Song 1</th>\n",
       "      <th>Similarity Score 1</th>\n",
       "      <th>Similar Artist 2</th>\n",
       "      <th>Similar Song 2</th>\n",
       "      <th>Similarity Score 2</th>\n",
       "      <th>Similar Artist 3</th>\n",
       "      <th>Similar Song 3</th>\n",
       "      <th>Similarity Score 3</th>\n",
       "    </tr>\n",
       "  </thead>\n",
       "  <tbody>\n",
       "    <tr>\n",
       "      <th>0</th>\n",
       "      <td>!!!</td>\n",
       "      <td>Even When the Waters Cold</td>\n",
       "      <td>Friends told her she was better off at the bot...</td>\n",
       "      <td>03:47</td>\n",
       "      <td>sadness</td>\n",
       "      <td>hip hop</td>\n",
       "      <td>Thr!!!er</td>\n",
       "      <td>29th April 2013</td>\n",
       "      <td>D min</td>\n",
       "      <td>105</td>\n",
       "      <td>...</td>\n",
       "      <td>False</td>\n",
       "      <td>Corey Smith</td>\n",
       "      <td>If I Could Do It Again</td>\n",
       "      <td>0.986061</td>\n",
       "      <td>Toby Keith</td>\n",
       "      <td>Drinks After Work</td>\n",
       "      <td>0.983719</td>\n",
       "      <td>Space</td>\n",
       "      <td>Neighbourhood</td>\n",
       "      <td>0.983236</td>\n",
       "    </tr>\n",
       "    <tr>\n",
       "      <th>1</th>\n",
       "      <td>!!!</td>\n",
       "      <td>One Girl / One Boy</td>\n",
       "      <td>Well I heard it, playing soft From a drunken b...</td>\n",
       "      <td>04:03</td>\n",
       "      <td>sadness</td>\n",
       "      <td>hip hop</td>\n",
       "      <td>Thr!!!er</td>\n",
       "      <td>29th April 2013</td>\n",
       "      <td>A# min</td>\n",
       "      <td>117</td>\n",
       "      <td>...</td>\n",
       "      <td>False</td>\n",
       "      <td>Hiroyuki Sawano</td>\n",
       "      <td>BRE@TH//LESS</td>\n",
       "      <td>0.995409</td>\n",
       "      <td>When In Rome</td>\n",
       "      <td>Heaven Knows</td>\n",
       "      <td>0.990905</td>\n",
       "      <td>Justice Crew</td>\n",
       "      <td>Everybody</td>\n",
       "      <td>0.984483</td>\n",
       "    </tr>\n",
       "    <tr>\n",
       "      <th>2</th>\n",
       "      <td>!!!</td>\n",
       "      <td>Pardon My Freedom</td>\n",
       "      <td>Oh my god, did I just say that out loud? Shoul...</td>\n",
       "      <td>05:51</td>\n",
       "      <td>joy</td>\n",
       "      <td>hip hop</td>\n",
       "      <td>Louden Up Now</td>\n",
       "      <td>8th June 2004</td>\n",
       "      <td>A Maj</td>\n",
       "      <td>121</td>\n",
       "      <td>...</td>\n",
       "      <td>False</td>\n",
       "      <td>Ricky Dillard</td>\n",
       "      <td>More Abundantly Medley Live</td>\n",
       "      <td>0.993176</td>\n",
       "      <td>Juliet</td>\n",
       "      <td>Avalon</td>\n",
       "      <td>0.965147</td>\n",
       "      <td>The Jacksons</td>\n",
       "      <td>Lovely One</td>\n",
       "      <td>0.956752</td>\n",
       "    </tr>\n",
       "    <tr>\n",
       "      <th>3</th>\n",
       "      <td>!!!</td>\n",
       "      <td>Ooo</td>\n",
       "      <td>[Verse 1] Remember when I called you on the te...</td>\n",
       "      <td>03:44</td>\n",
       "      <td>joy</td>\n",
       "      <td>hip hop</td>\n",
       "      <td>As If</td>\n",
       "      <td>16th October 2015</td>\n",
       "      <td>A min</td>\n",
       "      <td>122</td>\n",
       "      <td>...</td>\n",
       "      <td>False</td>\n",
       "      <td>Eric Clapton</td>\n",
       "      <td>Man Overboard</td>\n",
       "      <td>0.992749</td>\n",
       "      <td>Roxette</td>\n",
       "      <td>Don't Believe In Accidents</td>\n",
       "      <td>0.991494</td>\n",
       "      <td>Tiwa Savage</td>\n",
       "      <td>My Darlin</td>\n",
       "      <td>0.990381</td>\n",
       "    </tr>\n",
       "    <tr>\n",
       "      <th>4</th>\n",
       "      <td>!!!</td>\n",
       "      <td>Freedom 15</td>\n",
       "      <td>[Verse 1] Calling me like I got something to s...</td>\n",
       "      <td>06:00</td>\n",
       "      <td>joy</td>\n",
       "      <td>hip hop</td>\n",
       "      <td>As If</td>\n",
       "      <td>16th October 2015</td>\n",
       "      <td>F min</td>\n",
       "      <td>123</td>\n",
       "      <td>...</td>\n",
       "      <td>False</td>\n",
       "      <td>Cibo Matto</td>\n",
       "      <td>Lint Of Love</td>\n",
       "      <td>0.981610</td>\n",
       "      <td>Barrington Levy</td>\n",
       "      <td>Better Than Gold</td>\n",
       "      <td>0.981524</td>\n",
       "      <td>Freestyle</td>\n",
       "      <td>Its Automatic</td>\n",
       "      <td>0.981415</td>\n",
       "    </tr>\n",
       "  </tbody>\n",
       "</table>\n",
       "<p>5 rows × 39 columns</p>\n",
       "</div>"
      ],
      "text/plain": [
       "  Artist(s)                       song  \\\n",
       "0       !!!  Even When the Waters Cold   \n",
       "1       !!!         One Girl / One Boy   \n",
       "2       !!!          Pardon My Freedom   \n",
       "3       !!!                        Ooo   \n",
       "4       !!!                 Freedom 15   \n",
       "\n",
       "                                                text Length  emotion    Genre  \\\n",
       "0  Friends told her she was better off at the bot...  03:47  sadness  hip hop   \n",
       "1  Well I heard it, playing soft From a drunken b...  04:03  sadness  hip hop   \n",
       "2  Oh my god, did I just say that out loud? Shoul...  05:51      joy  hip hop   \n",
       "3  [Verse 1] Remember when I called you on the te...  03:44      joy  hip hop   \n",
       "4  [Verse 1] Calling me like I got something to s...  06:00      joy  hip hop   \n",
       "\n",
       "           Album       Release Date     Key  Tempo  ...  \\\n",
       "0       Thr!!!er    29th April 2013   D min    105  ...   \n",
       "1       Thr!!!er    29th April 2013  A# min    117  ...   \n",
       "2  Louden Up Now      8th June 2004   A Maj    121  ...   \n",
       "3          As If  16th October 2015   A min    122  ...   \n",
       "4          As If  16th October 2015   F min    123  ...   \n",
       "\n",
       "  Good for Morning Routine Similar Artist 1               Similar Song 1  \\\n",
       "0                    False      Corey Smith       If I Could Do It Again   \n",
       "1                    False  Hiroyuki Sawano                 BRE@TH//LESS   \n",
       "2                    False    Ricky Dillard  More Abundantly Medley Live   \n",
       "3                    False     Eric Clapton                Man Overboard   \n",
       "4                    False       Cibo Matto                 Lint Of Love   \n",
       "\n",
       "   Similarity Score 1  Similar Artist 2              Similar Song 2  \\\n",
       "0            0.986061        Toby Keith           Drinks After Work   \n",
       "1            0.995409      When In Rome                Heaven Knows   \n",
       "2            0.993176            Juliet                      Avalon   \n",
       "3            0.992749           Roxette  Don't Believe In Accidents   \n",
       "4            0.981610   Barrington Levy            Better Than Gold   \n",
       "\n",
       "   Similarity Score 2  Similar Artist 3  Similar Song 3  Similarity Score 3  \n",
       "0            0.983719             Space   Neighbourhood            0.983236  \n",
       "1            0.990905      Justice Crew       Everybody            0.984483  \n",
       "2            0.965147      The Jacksons      Lovely One            0.956752  \n",
       "3            0.991494       Tiwa Savage       My Darlin            0.990381  \n",
       "4            0.981524         Freestyle   Its Automatic            0.981415  \n",
       "\n",
       "[5 rows x 39 columns]"
      ]
     },
     "execution_count": 828,
     "metadata": {},
     "output_type": "execute_result"
    }
   ],
   "source": [
    "df.head()"
   ]
  },
  {
   "cell_type": "code",
   "execution_count": 829,
   "id": "897eba5b",
   "metadata": {},
   "outputs": [
    {
     "data": {
      "text/plain": [
       "Artist(s)                         category\n",
       "song                                object\n",
       "text                                object\n",
       "Length                              object\n",
       "emotion                           category\n",
       "Genre                             category\n",
       "Album                             category\n",
       "Release Date                        object\n",
       "Key                               category\n",
       "Tempo                                int64\n",
       "Loudness (db)                       object\n",
       "Time signature                    category\n",
       "Explicit                              bool\n",
       "Popularity                           uint8\n",
       "Energy                               uint8\n",
       "Danceability                         uint8\n",
       "Positiveness                         uint8\n",
       "Speechiness                          uint8\n",
       "Liveness                             uint8\n",
       "Acousticness                         uint8\n",
       "Instrumentalness                     uint8\n",
       "Good for Party                        bool\n",
       "Good for Work/Study                   bool\n",
       "Good for Relaxation/Meditation        bool\n",
       "Good for Exercise                     bool\n",
       "Good for Running                      bool\n",
       "Good for Yoga/Stretching              bool\n",
       "Good for Driving                      bool\n",
       "Good for Social Gatherings            bool\n",
       "Good for Morning Routine              bool\n",
       "Similar Artist 1                    object\n",
       "Similar Song 1                      object\n",
       "Similarity Score 1                 float64\n",
       "Similar Artist 2                    object\n",
       "Similar Song 2                      object\n",
       "Similarity Score 2                 float64\n",
       "Similar Artist 3                    object\n",
       "Similar Song 3                      object\n",
       "Similarity Score 3                 float64\n",
       "dtype: object"
      ]
     },
     "execution_count": 829,
     "metadata": {},
     "output_type": "execute_result"
    }
   ],
   "source": [
    "df.dtypes"
   ]
  },
  {
   "cell_type": "code",
   "execution_count": 830,
   "id": "0cf0ad27",
   "metadata": {},
   "outputs": [],
   "source": [
    "#guardar nombre de las canciones, para la validación?\n",
    "nameSongs = df['song']"
   ]
  },
  {
   "cell_type": "code",
   "execution_count": 831,
   "id": "8fb04633",
   "metadata": {},
   "outputs": [],
   "source": [
    "#columnas a eliminar que no tienen relevancia para predecir la popularidad\n",
    "columnas_innecesarias = ['Artist(s)', 'text', 'Similar Artist 1', 'Similar Song 1', 'Similar Artist 2', 'Similar Song 2',\n",
    "                         'Similar Artist 3', 'Similar Song 3', 'Similarity Score 1', 'Similarity Score 2', 'Similarity Score 3',\n",
    "                         'song', 'Album']\n",
    "\n",
    "#eliminar release date??"
   ]
  },
  {
   "cell_type": "code",
   "execution_count": 832,
   "id": "a240203b",
   "metadata": {},
   "outputs": [],
   "source": [
    "#eliminar columnas\n",
    "df.drop(columns = columnas_innecesarias, inplace = True)"
   ]
  },
  {
   "cell_type": "code",
   "execution_count": 833,
   "id": "56bb1087",
   "metadata": {},
   "outputs": [
    {
     "data": {
      "text/plain": [
       "Length                              object\n",
       "emotion                           category\n",
       "Genre                             category\n",
       "Release Date                        object\n",
       "Key                               category\n",
       "Tempo                                int64\n",
       "Loudness (db)                       object\n",
       "Time signature                    category\n",
       "Explicit                              bool\n",
       "Popularity                           uint8\n",
       "Energy                               uint8\n",
       "Danceability                         uint8\n",
       "Positiveness                         uint8\n",
       "Speechiness                          uint8\n",
       "Liveness                             uint8\n",
       "Acousticness                         uint8\n",
       "Instrumentalness                     uint8\n",
       "Good for Party                        bool\n",
       "Good for Work/Study                   bool\n",
       "Good for Relaxation/Meditation        bool\n",
       "Good for Exercise                     bool\n",
       "Good for Running                      bool\n",
       "Good for Yoga/Stretching              bool\n",
       "Good for Driving                      bool\n",
       "Good for Social Gatherings            bool\n",
       "Good for Morning Routine              bool\n",
       "dtype: object"
      ]
     },
     "execution_count": 833,
     "metadata": {},
     "output_type": "execute_result"
    }
   ],
   "source": [
    "df.dtypes"
   ]
  },
  {
   "cell_type": "code",
   "execution_count": 834,
   "id": "84166582",
   "metadata": {},
   "outputs": [
    {
     "data": {
      "text/plain": [
       "Length                            0\n",
       "emotion                           0\n",
       "Genre                             0\n",
       "Release Date                      0\n",
       "Key                               0\n",
       "Tempo                             0\n",
       "Loudness (db)                     0\n",
       "Time signature                    8\n",
       "Explicit                          0\n",
       "Popularity                        0\n",
       "Energy                            0\n",
       "Danceability                      0\n",
       "Positiveness                      0\n",
       "Speechiness                       0\n",
       "Liveness                          0\n",
       "Acousticness                      0\n",
       "Instrumentalness                  0\n",
       "Good for Party                    0\n",
       "Good for Work/Study               0\n",
       "Good for Relaxation/Meditation    0\n",
       "Good for Exercise                 0\n",
       "Good for Running                  0\n",
       "Good for Yoga/Stretching          0\n",
       "Good for Driving                  0\n",
       "Good for Social Gatherings        0\n",
       "Good for Morning Routine          0\n",
       "dtype: int64"
      ]
     },
     "execution_count": 834,
     "metadata": {},
     "output_type": "execute_result"
    }
   ],
   "source": [
    "#ver si faltan datos\n",
    "df.isnull().sum()"
   ]
  },
  {
   "cell_type": "code",
   "execution_count": 835,
   "id": "bc5135af",
   "metadata": {},
   "outputs": [],
   "source": [
    "#en las siguientes líneas de código se van a formatear\n",
    "#todas las columnas para que tengan entradas numéricas"
   ]
  },
  {
   "cell_type": "code",
   "execution_count": 836,
   "id": "c6952b69",
   "metadata": {},
   "outputs": [],
   "source": [
    "#convertir duración de la canción a segundos\n",
    "df['Duration_sec'] = df['Length'].str.split(':').apply(lambda x: int(x[0])*60 + int(x[1]))\n",
    "df.drop(columns=['Length'], inplace=True)  # eliminar la columna original"
   ]
  },
  {
   "cell_type": "code",
   "execution_count": 837,
   "id": "ee884694",
   "metadata": {},
   "outputs": [],
   "source": [
    "#convertir Loudness a valor numérico (quitar db y que no sea object)\n",
    "df['Loudness (db)'] = df['Loudness (db)'].str.replace('db', '', regex=False).str.strip()\n",
    "df['Loudness (db)'] = pd.to_numeric(df['Loudness (db)'], errors='coerce')"
   ]
  },
  {
   "cell_type": "code",
   "execution_count": 838,
   "id": "8c268397",
   "metadata": {},
   "outputs": [
    {
     "name": "stdout",
     "output_type": "stream",
     "text": [
      "Valores NaN en Loudness (db): 0\n"
     ]
    }
   ],
   "source": [
    "#confirmar si se hizo bien la conversión\n",
    "print(f\"Valores NaN en Loudness (db): {df['Loudness (db)'].isna().sum()}\")"
   ]
  },
  {
   "cell_type": "code",
   "execution_count": 839,
   "id": "c682e116",
   "metadata": {},
   "outputs": [
    {
     "name": "stdout",
     "output_type": "stream",
     "text": [
      "0   -6.85\n",
      "1   -5.75\n",
      "2   -6.06\n",
      "3   -5.42\n",
      "4   -5.57\n",
      "Name: Loudness (db), dtype: float64\n"
     ]
    }
   ],
   "source": [
    "print(df['Loudness (db)'].head())\n"
   ]
  },
  {
   "cell_type": "code",
   "execution_count": 840,
   "id": "7f9d95e9",
   "metadata": {},
   "outputs": [],
   "source": [
    "#convertir columnas booleanas a valor 0 y 1\n",
    "#identificar las columnas\n",
    "bool_cols = df.select_dtypes(include='bool').columns\n",
    "#hacer conversión\n",
    "df[bool_cols] = df[bool_cols].astype(int)"
   ]
  },
  {
   "cell_type": "code",
   "execution_count": 841,
   "id": "3299ec04",
   "metadata": {},
   "outputs": [
    {
     "name": "stdout",
     "output_type": "stream",
     "text": [
      "   Explicit  Good for Party  Good for Work/Study  \\\n",
      "0         0               0                    0   \n",
      "1         0               0                    0   \n",
      "2         0               0                    0   \n",
      "3         0               0                    0   \n",
      "4         0               0                    0   \n",
      "\n",
      "   Good for Relaxation/Meditation  Good for Exercise  Good for Running  \\\n",
      "0                               0                  0                 0   \n",
      "1                               0                  0                 0   \n",
      "2                               0                  1                 0   \n",
      "3                               0                  1                 0   \n",
      "4                               0                  1                 0   \n",
      "\n",
      "   Good for Yoga/Stretching  Good for Driving  Good for Social Gatherings  \\\n",
      "0                         0                 0                           0   \n",
      "1                         0                 0                           0   \n",
      "2                         0                 0                           0   \n",
      "3                         0                 0                           0   \n",
      "4                         0                 0                           0   \n",
      "\n",
      "   Good for Morning Routine  \n",
      "0                         0  \n",
      "1                         0  \n",
      "2                         0  \n",
      "3                         0  \n",
      "4                         0  \n"
     ]
    }
   ],
   "source": [
    "#ver datos\n",
    "print(df[bool_cols].head())"
   ]
  },
  {
   "cell_type": "code",
   "execution_count": 842,
   "id": "a0273d33",
   "metadata": {},
   "outputs": [
    {
     "data": {
      "text/plain": [
       "emotion                           category\n",
       "Genre                             category\n",
       "Release Date                        object\n",
       "Key                               category\n",
       "Tempo                                int64\n",
       "Loudness (db)                      float64\n",
       "Time signature                    category\n",
       "Explicit                             int64\n",
       "Popularity                           uint8\n",
       "Energy                               uint8\n",
       "Danceability                         uint8\n",
       "Positiveness                         uint8\n",
       "Speechiness                          uint8\n",
       "Liveness                             uint8\n",
       "Acousticness                         uint8\n",
       "Instrumentalness                     uint8\n",
       "Good for Party                       int64\n",
       "Good for Work/Study                  int64\n",
       "Good for Relaxation/Meditation       int64\n",
       "Good for Exercise                    int64\n",
       "Good for Running                     int64\n",
       "Good for Yoga/Stretching             int64\n",
       "Good for Driving                     int64\n",
       "Good for Social Gatherings           int64\n",
       "Good for Morning Routine             int64\n",
       "Duration_sec                         int64\n",
       "dtype: object"
      ]
     },
     "execution_count": 842,
     "metadata": {},
     "output_type": "execute_result"
    }
   ],
   "source": [
    "df.dtypes"
   ]
  },
  {
   "cell_type": "code",
   "execution_count": 843,
   "id": "5dccdc2f",
   "metadata": {},
   "outputs": [
    {
     "data": {
      "text/plain": [
       "(13, 3097)"
      ]
     },
     "execution_count": 843,
     "metadata": {},
     "output_type": "execute_result"
    }
   ],
   "source": [
    "#ver cantidad de valores distintos\n",
    "df['emotion'].nunique(), df['Genre'].nunique()"
   ]
  },
  {
   "cell_type": "code",
   "execution_count": 844,
   "id": "d25b527f",
   "metadata": {},
   "outputs": [
    {
     "data": {
      "text/plain": [
       "emotion\n",
       "joy          209009\n",
       "sadness      171078\n",
       "anger        109678\n",
       "fear          28097\n",
       "love          27963\n",
       "surprise       5592\n",
       "True             17\n",
       "Love              3\n",
       "pink              2\n",
       "confusion         1\n",
       "angry             1\n",
       "interest          1\n",
       "thirst            1\n",
       "Name: count, dtype: int64"
      ]
     },
     "execution_count": 844,
     "metadata": {},
     "output_type": "execute_result"
    }
   ],
   "source": [
    "df['emotion'].value_counts(dropna=False)"
   ]
  },
  {
   "cell_type": "code",
   "execution_count": 845,
   "id": "2a70157b",
   "metadata": {},
   "outputs": [],
   "source": [
    "#convertir amociones a  minúscula y eliminar espacios\n",
    "df['emotion'] = df['emotion'].astype(str).str.lower().str.strip()"
   ]
  },
  {
   "cell_type": "code",
   "execution_count": 846,
   "id": "87d744ff",
   "metadata": {},
   "outputs": [],
   "source": [
    "# mapeo de emociones válidas\n",
    "emotion_map = {\n",
    "    'sadness': 'sadness',\n",
    "    'joy': 'joy',\n",
    "    'love': 'love',\n",
    "    'surprise': 'surprise',\n",
    "    'anger': 'anger',\n",
    "    'angry': 'anger',\n",
    "    'fear': 'fear'\n",
    "}\n",
    "df['emotion'] = df['emotion'].map(emotion_map).fillna('unknown')\n",
    "\n",
    "#como solo hay 22 canciones con valores inválidos se eliminan\n",
    "df = df[df['emotion'] != 'unknown']"
   ]
  },
  {
   "cell_type": "code",
   "execution_count": 847,
   "id": "aa52b61e",
   "metadata": {},
   "outputs": [
    {
     "name": "stdout",
     "output_type": "stream",
     "text": [
      "emotion\n",
      "joy         209009\n",
      "sadness     171078\n",
      "anger       109679\n",
      "fear         28097\n",
      "love         27966\n",
      "surprise      5592\n",
      "Name: count, dtype: int64\n"
     ]
    }
   ],
   "source": [
    "print(df['emotion'].value_counts())"
   ]
  },
  {
   "cell_type": "code",
   "execution_count": 848,
   "id": "9af27b94",
   "metadata": {},
   "outputs": [
    {
     "name": "stdout",
     "output_type": "stream",
     "text": [
      "Cantidad de filas con NaN en time_signature: 8\n"
     ]
    }
   ],
   "source": [
    "#cantidad de filas con valores NaN apra time signature\n",
    "num_nan = df['Time signature'].isna().sum()\n",
    "print(f\"Cantidad de filas con NaN en time_signature: {num_nan}\")"
   ]
  },
  {
   "cell_type": "code",
   "execution_count": 849,
   "id": "7c605776",
   "metadata": {},
   "outputs": [],
   "source": [
    "#liminar filas con valoes NaN como son pocas\n",
    "df = df.dropna(subset=['Time signature'])"
   ]
  },
  {
   "cell_type": "code",
   "execution_count": 850,
   "id": "93c2069c",
   "metadata": {},
   "outputs": [
    {
     "name": "stdout",
     "output_type": "stream",
     "text": [
      "Cantidad de filas con NaN en time_signature: 0\n"
     ]
    }
   ],
   "source": [
    "num_nan = df['Time signature'].isna().sum()\n",
    "print(f\"Cantidad de filas con NaN en time_signature: {num_nan}\")"
   ]
  },
  {
   "cell_type": "code",
   "execution_count": 851,
   "id": "9cdf32ef",
   "metadata": {},
   "outputs": [
    {
     "name": "stdout",
     "output_type": "stream",
     "text": [
      "Cantidad de filas con NaN : 0\n"
     ]
    }
   ],
   "source": [
    "num_nan = df['emotion'].isna().sum()\n",
    "print(f\"Cantidad de filas con NaN : {num_nan}\")"
   ]
  },
  {
   "cell_type": "code",
   "execution_count": 852,
   "id": "329822f9",
   "metadata": {},
   "outputs": [
    {
     "name": "stdout",
     "output_type": "stream",
     "text": [
      "\n",
      "Popularidad promedio por emoción:\n",
      "emotion\n",
      "love        33.024423\n",
      "surprise    32.609800\n",
      "joy         32.442581\n",
      "anger       32.292007\n",
      "fear        31.977044\n",
      "sadness     31.921186\n",
      "Name: Popularity, dtype: float64\n"
     ]
    }
   ],
   "source": [
    "#Popularidad promedio por emoción (antes de OneHot)\n",
    "if 'emotion' in df.columns:                          # por si aún existe la columna original\n",
    "    pop_by_emo = df.groupby('emotion')['Popularity'].mean().sort_values(ascending=False)\n",
    "    print(\"\\nPopularidad promedio por emoción:\")\n",
    "    print(pop_by_emo)"
   ]
  },
  {
   "cell_type": "code",
   "execution_count": 853,
   "id": "28bec7d6",
   "metadata": {},
   "outputs": [],
   "source": [
    "good_for_cols = [\n",
    "    'Good for Party', 'Good for Work/Study', 'Good for Relaxation/Meditation',\n",
    "    'Good for Exercise', 'Good for Running', 'Good for Yoga/Stretching',\n",
    "    'Good for Driving', 'Good for Social Gatherings', 'Good for Morning Routine'\n",
    "]\n",
    "# Agrupar por emoción y luego calcular el promedio para cada good_for\n",
    "resultados = []\n",
    "\n",
    "for contexto in good_for_cols:\n",
    "    subset = df[df[contexto] == 1]\n",
    "    promedio = subset.groupby('emotion')['Popularity'].mean().reset_index()\n",
    "    promedio['contexto'] = contexto\n",
    "    resultados.append(promedio)\n",
    "\n",
    "# Unir datos\n",
    "df_comb = pd.concat(resultados, ignore_index=True)"
   ]
  },
  {
   "cell_type": "code",
   "execution_count": 854,
   "id": "694f90a6",
   "metadata": {},
   "outputs": [
    {
     "data": {
      "image/png": "[encoded data removed]",
      "text/plain": [
       "<Figure size 1200x600 with 2 Axes>"
      ]
     },
     "metadata": {},
     "output_type": "display_data"
    }
   ],
   "source": [
    "# Pivot para formato de matriz, emociones como fila y contextos como columna)\n",
    "pivot_table = df_comb.pivot(index='emotion', columns='contexto', values='Popularity')\n",
    "\n",
    "plt.figure(figsize=(12, 6))\n",
    "sns.heatmap(pivot_table, annot=True, fmt=\".1f\", cmap='coolwarm')\n",
    "plt.title(\"Popularidad promedio por emoción y contexto de uso\")\n",
    "plt.ylabel(\"Emoción\")\n",
    "plt.xlabel(\"Contexto\")\n",
    "plt.tight_layout()\n",
    "plt.show()"
   ]
  },
  {
   "cell_type": "code",
   "execution_count": 855,
   "id": "394b4909",
   "metadata": {},
   "outputs": [
    {
     "name": "stdout",
     "output_type": "stream",
     "text": [
      "Cantidad de filas con NaN: 0\n"
     ]
    }
   ],
   "source": [
    "num_nan = df['Key'].isna().sum()\n",
    "print(f\"Cantidad de filas con NaN: {num_nan}\")"
   ]
  },
  {
   "cell_type": "code",
   "execution_count": 856,
   "id": "1215e985",
   "metadata": {},
   "outputs": [],
   "source": [
    "#hacer one hot encodig para las columnas de tipo category\n",
    "colTypeCategory = ['emotion', 'Key', 'Time signature']\n",
    "encoder = OneHotEncoder(sparse_output = False) #retorne un array denso\n",
    "encoded = encoder.fit_transform(df[colTypeCategory]) #aplicar encoder a las columnas\n",
    "\n",
    "#convertir el array a un dataframe\n",
    "encoded_df = pd.DataFrame(encoded, columns=encoder.get_feature_names_out(colTypeCategory))\n",
    "#eliminar columnas de tipo category\n",
    "df = df.drop(colTypeCategory, axis=1)\n",
    "#añadir columnas de encoded_df al df original\n",
    "df = pd.concat([df.reset_index(drop=True), encoded_df.reset_index(drop=True)], axis=1)\n"
   ]
  },
  {
   "cell_type": "code",
   "execution_count": 857,
   "id": "e897daaa",
   "metadata": {},
   "outputs": [
    {
     "data": {
      "text/plain": [
       "Genre                             category\n",
       "Release Date                        object\n",
       "Tempo                                int64\n",
       "Loudness (db)                      float64\n",
       "Explicit                             int64\n",
       "Popularity                           uint8\n",
       "Energy                               uint8\n",
       "Danceability                         uint8\n",
       "Positiveness                         uint8\n",
       "Speechiness                          uint8\n",
       "Liveness                             uint8\n",
       "Acousticness                         uint8\n",
       "Instrumentalness                     uint8\n",
       "Good for Party                       int64\n",
       "Good for Work/Study                  int64\n",
       "Good for Relaxation/Meditation       int64\n",
       "Good for Exercise                    int64\n",
       "Good for Running                     int64\n",
       "Good for Yoga/Stretching             int64\n",
       "Good for Driving                     int64\n",
       "Good for Social Gatherings           int64\n",
       "Good for Morning Routine             int64\n",
       "Duration_sec                         int64\n",
       "emotion_anger                      float64\n",
       "emotion_fear                       float64\n",
       "emotion_joy                        float64\n",
       "emotion_love                       float64\n",
       "emotion_sadness                    float64\n",
       "emotion_surprise                   float64\n",
       "Key_A Maj                          float64\n",
       "Key_A min                          float64\n",
       "Key_A# Maj                         float64\n",
       "Key_A# min                         float64\n",
       "Key_B Maj                          float64\n",
       "Key_B min                          float64\n",
       "Key_C Maj                          float64\n",
       "Key_C min                          float64\n",
       "Key_C# Maj                         float64\n",
       "Key_C# min                         float64\n",
       "Key_D Maj                          float64\n",
       "Key_D min                          float64\n",
       "Key_D# Maj                         float64\n",
       "Key_D# min                         float64\n",
       "Key_E Maj                          float64\n",
       "Key_E min                          float64\n",
       "Key_F Maj                          float64\n",
       "Key_F min                          float64\n",
       "Key_F# Maj                         float64\n",
       "Key_F# min                         float64\n",
       "Key_G Maj                          float64\n",
       "Key_G min                          float64\n",
       "Key_G# Maj                         float64\n",
       "Key_G# min                         float64\n",
       "Time signature_1/4                 float64\n",
       "Time signature_3/4                 float64\n",
       "Time signature_4/4                 float64\n",
       "Time signature_5/4                 float64\n",
       "dtype: object"
      ]
     },
     "execution_count": 857,
     "metadata": {},
     "output_type": "execute_result"
    }
   ],
   "source": [
    "df.dtypes"
   ]
  },
  {
   "cell_type": "code",
   "execution_count": 858,
   "id": "a8865ecd",
   "metadata": {},
   "outputs": [
    {
     "name": "stdout",
     "output_type": "stream",
     "text": [
      "['Time signature_1/4', 'Time signature_3/4', 'Time signature_4/4', 'Time signature_5/4']\n"
     ]
    }
   ],
   "source": [
    "timeSignature_cols = [col for col in df.columns if col.startswith('Time signature')]\n",
    "print(timeSignature_cols)"
   ]
  },
  {
   "cell_type": "code",
   "execution_count": 859,
   "id": "dae05a98",
   "metadata": {},
   "outputs": [
    {
     "name": "stdout",
     "output_type": "stream",
     "text": [
      "Categorías de key codificadas: ['Key_A Maj', 'Key_A min', 'Key_A# Maj', 'Key_A# min', 'Key_B Maj', 'Key_B min', 'Key_C Maj', 'Key_C min', 'Key_C# Maj', 'Key_C# min', 'Key_D Maj', 'Key_D min', 'Key_D# Maj', 'Key_D# min', 'Key_E Maj', 'Key_E min', 'Key_F Maj', 'Key_F min', 'Key_F# Maj', 'Key_F# min', 'Key_G Maj', 'Key_G min', 'Key_G# Maj', 'Key_G# min']\n"
     ]
    }
   ],
   "source": [
    "key_cols = [col for col in df.columns if col.startswith('Key_')]\n",
    "print(\"Categorías de key codificadas:\", key_cols)"
   ]
  },
  {
   "cell_type": "code",
   "execution_count": 860,
   "id": "305c9733",
   "metadata": {},
   "outputs": [
    {
     "name": "stdout",
     "output_type": "stream",
     "text": [
      "Categorías de emotion codificadas: ['emotion_anger', 'emotion_fear', 'emotion_joy', 'emotion_love', 'emotion_sadness', 'emotion_surprise']\n"
     ]
    }
   ],
   "source": [
    "emotion_cols = [col for col in df.columns if col.startswith('emotion_')]\n",
    "print(\"Categorías de emotion codificadas:\", emotion_cols)"
   ]
  },
  {
   "cell_type": "code",
   "execution_count": 861,
   "id": "cbc058ef",
   "metadata": {},
   "outputs": [],
   "source": [
    "#convertir a valores enteros las columnas generadas por one hot encoding\n",
    "time_signature_columnas = [col for col in df.columns if col.startswith('Time signature_')]\n",
    "df[time_signature_columnas] = df[time_signature_columnas].astype(int)\n",
    "emotion_columnas = [col for col in df.columns if col.startswith('emotion_')]\n",
    "df[emotion_columnas] = df[emotion_columnas].astype(int)\n",
    "key_columnas = [col for col in df.columns if col.startswith('Key_')]\n",
    "df[key_columnas] = df[key_columnas].astype(int)"
   ]
  },
  {
   "cell_type": "code",
   "execution_count": 862,
   "id": "3c75c307",
   "metadata": {},
   "outputs": [
    {
     "name": "stdout",
     "output_type": "stream",
     "text": [
      "<class 'pandas.core.frame.DataFrame'>\n",
      "RangeIndex: 551413 entries, 0 to 551412\n",
      "Data columns (total 57 columns):\n",
      " #   Column                          Non-Null Count   Dtype   \n",
      "---  ------                          --------------   -----   \n",
      " 0   Genre                           551413 non-null  category\n",
      " 1   Release Date                    551413 non-null  object  \n",
      " 2   Tempo                           551413 non-null  int64   \n",
      " 3   Loudness (db)                   551413 non-null  float64 \n",
      " 4   Explicit                        551413 non-null  int64   \n",
      " 5   Popularity                      551413 non-null  uint8   \n",
      " 6   Energy                          551413 non-null  uint8   \n",
      " 7   Danceability                    551413 non-null  uint8   \n",
      " 8   Positiveness                    551413 non-null  uint8   \n",
      " 9   Speechiness                     551413 non-null  uint8   \n",
      " 10  Liveness                        551413 non-null  uint8   \n",
      " 11  Acousticness                    551413 non-null  uint8   \n",
      " 12  Instrumentalness                551413 non-null  uint8   \n",
      " 13  Good for Party                  551413 non-null  int64   \n",
      " 14  Good for Work/Study             551413 non-null  int64   \n",
      " 15  Good for Relaxation/Meditation  551413 non-null  int64   \n",
      " 16  Good for Exercise               551413 non-null  int64   \n",
      " 17  Good for Running                551413 non-null  int64   \n",
      " 18  Good for Yoga/Stretching        551413 non-null  int64   \n",
      " 19  Good for Driving                551413 non-null  int64   \n",
      " 20  Good for Social Gatherings      551413 non-null  int64   \n",
      " 21  Good for Morning Routine        551413 non-null  int64   \n",
      " 22  Duration_sec                    551413 non-null  int64   \n",
      " 23  emotion_anger                   551413 non-null  int64   \n",
      " 24  emotion_fear                    551413 non-null  int64   \n",
      " 25  emotion_joy                     551413 non-null  int64   \n",
      " 26  emotion_love                    551413 non-null  int64   \n",
      " 27  emotion_sadness                 551413 non-null  int64   \n",
      " 28  emotion_surprise                551413 non-null  int64   \n",
      " 29  Key_A Maj                       551413 non-null  int64   \n",
      " 30  Key_A min                       551413 non-null  int64   \n",
      " 31  Key_A# Maj                      551413 non-null  int64   \n",
      " 32  Key_A# min                      551413 non-null  int64   \n",
      " 33  Key_B Maj                       551413 non-null  int64   \n",
      " 34  Key_B min                       551413 non-null  int64   \n",
      " 35  Key_C Maj                       551413 non-null  int64   \n",
      " 36  Key_C min                       551413 non-null  int64   \n",
      " 37  Key_C# Maj                      551413 non-null  int64   \n",
      " 38  Key_C# min                      551413 non-null  int64   \n",
      " 39  Key_D Maj                       551413 non-null  int64   \n",
      " 40  Key_D min                       551413 non-null  int64   \n",
      " 41  Key_D# Maj                      551413 non-null  int64   \n",
      " 42  Key_D# min                      551413 non-null  int64   \n",
      " 43  Key_E Maj                       551413 non-null  int64   \n",
      " 44  Key_E min                       551413 non-null  int64   \n",
      " 45  Key_F Maj                       551413 non-null  int64   \n",
      " 46  Key_F min                       551413 non-null  int64   \n",
      " 47  Key_F# Maj                      551413 non-null  int64   \n",
      " 48  Key_F# min                      551413 non-null  int64   \n",
      " 49  Key_G Maj                       551413 non-null  int64   \n",
      " 50  Key_G min                       551413 non-null  int64   \n",
      " 51  Key_G# Maj                      551413 non-null  int64   \n",
      " 52  Key_G# min                      551413 non-null  int64   \n",
      " 53  Time signature_1/4              551413 non-null  int64   \n",
      " 54  Time signature_3/4              551413 non-null  int64   \n",
      " 55  Time signature_4/4              551413 non-null  int64   \n",
      " 56  Time signature_5/4              551413 non-null  int64   \n",
      "dtypes: category(1), float64(1), int64(46), object(1), uint8(8)\n",
      "memory usage: 207.3+ MB\n"
     ]
    }
   ],
   "source": [
    "df.info()"
   ]
  },
  {
   "cell_type": "code",
   "execution_count": 863,
   "id": "0d8a3c48",
   "metadata": {},
   "outputs": [
    {
     "name": "stdout",
     "output_type": "stream",
     "text": [
      "Cantidad de filas con NaN: 0\n"
     ]
    }
   ],
   "source": [
    "num_nan = df['Genre'].isna().sum()\n",
    "print(f\"Cantidad de filas con NaN: {num_nan}\")"
   ]
  },
  {
   "cell_type": "code",
   "execution_count": 864,
   "id": "4ce1a0ac",
   "metadata": {},
   "outputs": [],
   "source": [
    "#con genre no era conveniente hace One Hot coding, porque creaba una columna por cada\n",
    "#combinación de géneros que tenía una canción, y se quiere una columna por cada género único\n",
    "\n",
    "#crear lista con los géneros presentes en el dataset\n",
    "df['listaGeneros'] = df['Genre'].str.split(',')\n",
    "#apra usar el codificador\n",
    "mlb = MultiLabelBinarizer()\n",
    "#asignación de 0 y 1 por cada lista de géneros en Genre por canción\n",
    "listaGenreBinario = pd.DataFrame(mlb.fit_transform(df['listaGeneros']),\n",
    "                             columns=[f'Genre_{g.strip()}' for g in mlb.classes_],\n",
    "                             index=df.index)\n",
    "#agregar las columnnas por cada género al df\n",
    "df = pd.concat([df, listaGenreBinario], axis=1)\n",
    "\n",
    "#sacar las columnas que no se necesitan\n",
    "df.drop(columns=['Genre', 'listaGeneros'], inplace=True)"
   ]
  },
  {
   "cell_type": "code",
   "execution_count": 865,
   "id": "8a16c659",
   "metadata": {},
   "outputs": [
    {
     "data": {
      "text/plain": [
       "Release Date           object\n",
       "Tempo                   int64\n",
       "Loudness (db)         float64\n",
       "Explicit                int64\n",
       "Popularity              uint8\n",
       "                       ...   \n",
       "Genre_thrash metal      int64\n",
       "Genre_trance            int64\n",
       "Genre_trap              int64\n",
       "Genre_trip-hop          int64\n",
       "Genre_worship           int64\n",
       "Length: 144, dtype: object"
      ]
     },
     "execution_count": 865,
     "metadata": {},
     "output_type": "execute_result"
    }
   ],
   "source": [
    "df.dtypes"
   ]
  },
  {
   "cell_type": "code",
   "execution_count": 866,
   "id": "eabd1aff",
   "metadata": {},
   "outputs": [
    {
     "name": "stdout",
     "output_type": "stream",
     "text": [
      "['Genre_acoustic', 'Genre_alt-country', 'Genre_alternative', 'Genre_alternative rock', 'Genre_ambient', 'Genre_black metal', 'Genre_blues', 'Genre_britpop', 'Genre_chillout', 'Genre_chillwave', 'Genre_christian', 'Genre_classic rock', 'Genre_classical', 'Genre_cloud rap', 'Genre_comedy', 'Genre_country', 'Genre_dance', 'Genre_dancehall', 'Genre_death metal', 'Genre_deathcore', 'Genre_disco', 'Genre_doom metal', 'Genre_dream pop', 'Genre_drum and bass', 'Genre_dub', 'Genre_dubstep', 'Genre_electro', 'Genre_electronic', 'Genre_electropop', 'Genre_emo', 'Genre_emo rap', 'Genre_experimental', 'Genre_folk', 'Genre_funk', 'Genre_garage rock', 'Genre_gospel', 'Genre_grime', 'Genre_grunge', 'Genre_hard rock', 'Genre_hardcore', 'Genre_heavy metal', 'Genre_hip hop', 'Genre_hip-hop', 'Genre_house', 'Genre_indie', 'Genre_indie pop', 'Genre_indie rock', 'Genre_industrial', 'Genre_j-pop', 'Genre_jazz', 'Genre_k-pop', 'Genre_latin', 'Genre_lo-fi', 'Genre_math rock', 'Genre_melodic death metal', 'Genre_metal', 'Genre_metalcore', 'Genre_new wave', 'Genre_nu metal', 'Genre_pop', 'Genre_pop punk', 'Genre_pop rock', 'Genre_post-hardcore', 'Genre_post-punk', 'Genre_power metal', 'Genre_progressive metal', 'Genre_progressive rock', 'Genre_psychedelic', 'Genre_psychedelic rock', 'Genre_punk', 'Genre_punk rock', 'Genre_rap', 'Genre_reggae', 'Genre_reggaeton', 'Genre_rnb', 'Genre_rock', 'Genre_screamo', 'Genre_shoegaze', 'Genre_soul', 'Genre_soundtrack', 'Genre_swing', 'Genre_synthpop', 'Genre_techno', 'Genre_thrash metal', 'Genre_trance', 'Genre_trap', 'Genre_trip-hop', 'Genre_worship']\n"
     ]
    }
   ],
   "source": [
    "genre_cols = [col for col in df.columns if col.startswith('Genre_')]\n",
    "print(genre_cols)"
   ]
  },
  {
   "cell_type": "code",
   "execution_count": 867,
   "id": "39f91137",
   "metadata": {},
   "outputs": [],
   "source": [
    "#unir en una sola columna la columna Genre_hip hop y Genre_hip-hop \n",
    "df['Genre_hip-hop'] = df['Genre_hip hop'] | df['Genre_hip-hop']\n",
    "df['Genre_hip-hop'] = df['Genre_hip-hop'].astype(int)\n",
    "\n",
    "# eliminar columna Genre_hip hop\n",
    "df = df.drop(columns=['Genre_hip hop'])"
   ]
  },
  {
   "cell_type": "code",
   "execution_count": 868,
   "id": "ed74967c",
   "metadata": {},
   "outputs": [
    {
     "name": "stdout",
     "output_type": "stream",
     "text": [
      "Genre_hip-hop             293652\n",
      "Genre_rock                 84108\n",
      "Genre_pop                  64385\n",
      "Genre_alternative rock     40271\n",
      "Genre_indie rock           22743\n",
      "                           ...  \n",
      "Genre_alt-country            602\n",
      "Genre_worship                450\n",
      "Genre_psychedelic            323\n",
      "Genre_chillout               149\n",
      "Genre_reggaeton               34\n",
      "Length: 87, dtype: int64\n"
     ]
    }
   ],
   "source": [
    "genre_cols = [col for col in df.columns if col.startswith('Genre_')]  # todas las columnas de género\n",
    "genre_counts = df[genre_cols].sum().sort_values(ascending=False)  # suma cuántas veces aparece cada género\n",
    "print(genre_counts)"
   ]
  },
  {
   "cell_type": "code",
   "execution_count": 869,
   "id": "7a1349c6",
   "metadata": {},
   "outputs": [
    {
     "name": "stdout",
     "output_type": "stream",
     "text": [
      "['Release Date', 'Tempo', 'Loudness (db)', 'Explicit', 'Popularity', 'Energy', 'Danceability', 'Positiveness', 'Speechiness', 'Liveness', 'Acousticness', 'Instrumentalness', 'Good for Party', 'Good for Work/Study', 'Good for Relaxation/Meditation', 'Good for Exercise', 'Good for Running', 'Good for Yoga/Stretching', 'Good for Driving', 'Good for Social Gatherings', 'Good for Morning Routine', 'Duration_sec', 'emotion_anger', 'emotion_fear', 'emotion_joy', 'emotion_love', 'emotion_sadness', 'emotion_surprise', 'Key_A Maj', 'Key_A min', 'Key_A# Maj', 'Key_A# min', 'Key_B Maj', 'Key_B min', 'Key_C Maj', 'Key_C min', 'Key_C# Maj', 'Key_C# min', 'Key_D Maj', 'Key_D min', 'Key_D# Maj', 'Key_D# min', 'Key_E Maj', 'Key_E min', 'Key_F Maj', 'Key_F min', 'Key_F# Maj', 'Key_F# min', 'Key_G Maj', 'Key_G min', 'Key_G# Maj', 'Key_G# min', 'Time signature_1/4', 'Time signature_3/4', 'Time signature_4/4', 'Time signature_5/4', 'Genre_acoustic', 'Genre_alt-country', 'Genre_alternative', 'Genre_alternative rock', 'Genre_ambient', 'Genre_black metal', 'Genre_blues', 'Genre_britpop', 'Genre_chillout', 'Genre_chillwave', 'Genre_christian', 'Genre_classic rock', 'Genre_classical', 'Genre_cloud rap', 'Genre_comedy', 'Genre_country', 'Genre_dance', 'Genre_dancehall', 'Genre_death metal', 'Genre_deathcore', 'Genre_disco', 'Genre_doom metal', 'Genre_dream pop', 'Genre_drum and bass', 'Genre_dub', 'Genre_dubstep', 'Genre_electro', 'Genre_electronic', 'Genre_electropop', 'Genre_emo', 'Genre_emo rap', 'Genre_experimental', 'Genre_folk', 'Genre_funk', 'Genre_garage rock', 'Genre_gospel', 'Genre_grime', 'Genre_grunge', 'Genre_hard rock', 'Genre_hardcore', 'Genre_heavy metal', 'Genre_hip-hop', 'Genre_house', 'Genre_indie', 'Genre_indie pop', 'Genre_indie rock', 'Genre_industrial', 'Genre_j-pop', 'Genre_jazz', 'Genre_k-pop', 'Genre_latin', 'Genre_lo-fi', 'Genre_math rock', 'Genre_melodic death metal', 'Genre_metal', 'Genre_metalcore', 'Genre_new wave', 'Genre_nu metal', 'Genre_pop', 'Genre_pop punk', 'Genre_pop rock', 'Genre_post-hardcore', 'Genre_post-punk', 'Genre_power metal', 'Genre_progressive metal', 'Genre_progressive rock', 'Genre_psychedelic', 'Genre_psychedelic rock', 'Genre_punk', 'Genre_punk rock', 'Genre_rap', 'Genre_reggae', 'Genre_reggaeton', 'Genre_rnb', 'Genre_rock', 'Genre_screamo', 'Genre_shoegaze', 'Genre_soul', 'Genre_soundtrack', 'Genre_swing', 'Genre_synthpop', 'Genre_techno', 'Genre_thrash metal', 'Genre_trance', 'Genre_trap', 'Genre_trip-hop', 'Genre_worship']\n",
      "<class 'pandas.core.frame.DataFrame'>\n",
      "RangeIndex: 551413 entries, 0 to 551412\n",
      "Columns: 143 entries, Release Date to Genre_worship\n",
      "dtypes: float64(1), int64(133), object(1), uint8(8)\n",
      "memory usage: 572.1+ MB\n",
      "None\n"
     ]
    }
   ],
   "source": [
    "print(df.columns.tolist())\n",
    "print(df.info())"
   ]
  },
  {
   "cell_type": "code",
   "execution_count": 870,
   "id": "931b0fde",
   "metadata": {},
   "outputs": [],
   "source": [
    "df.drop(columns=['Release Date'], inplace=True)\n"
   ]
  },
  {
   "cell_type": "code",
   "execution_count": 871,
   "id": "5eb5fe0c",
   "metadata": {},
   "outputs": [
    {
     "data": {
      "text/html": [
       "<div>\n",
       "<style scoped>\n",
       "    .dataframe tbody tr th:only-of-type {\n",
       "        vertical-align: middle;\n",
       "    }\n",
       "\n",
       "    .dataframe tbody tr th {\n",
       "        vertical-align: top;\n",
       "    }\n",
       "\n",
       "    .dataframe thead th {\n",
       "        text-align: right;\n",
       "    }\n",
       "</style>\n",
       "<table border=\"1\" class=\"dataframe\">\n",
       "  <thead>\n",
       "    <tr style=\"text-align: right;\">\n",
       "      <th></th>\n",
       "      <th>Tempo</th>\n",
       "      <th>Loudness (db)</th>\n",
       "      <th>Explicit</th>\n",
       "      <th>Popularity</th>\n",
       "      <th>Energy</th>\n",
       "      <th>Danceability</th>\n",
       "      <th>Positiveness</th>\n",
       "      <th>Speechiness</th>\n",
       "      <th>Liveness</th>\n",
       "      <th>Acousticness</th>\n",
       "      <th>...</th>\n",
       "      <th>Genre_soul</th>\n",
       "      <th>Genre_soundtrack</th>\n",
       "      <th>Genre_swing</th>\n",
       "      <th>Genre_synthpop</th>\n",
       "      <th>Genre_techno</th>\n",
       "      <th>Genre_thrash metal</th>\n",
       "      <th>Genre_trance</th>\n",
       "      <th>Genre_trap</th>\n",
       "      <th>Genre_trip-hop</th>\n",
       "      <th>Genre_worship</th>\n",
       "    </tr>\n",
       "  </thead>\n",
       "  <tbody>\n",
       "    <tr>\n",
       "      <th>0</th>\n",
       "      <td>105</td>\n",
       "      <td>-6.85</td>\n",
       "      <td>0</td>\n",
       "      <td>40</td>\n",
       "      <td>83</td>\n",
       "      <td>71</td>\n",
       "      <td>87</td>\n",
       "      <td>4</td>\n",
       "      <td>16</td>\n",
       "      <td>11</td>\n",
       "      <td>...</td>\n",
       "      <td>0</td>\n",
       "      <td>0</td>\n",
       "      <td>0</td>\n",
       "      <td>0</td>\n",
       "      <td>0</td>\n",
       "      <td>0</td>\n",
       "      <td>0</td>\n",
       "      <td>0</td>\n",
       "      <td>0</td>\n",
       "      <td>0</td>\n",
       "    </tr>\n",
       "    <tr>\n",
       "      <th>1</th>\n",
       "      <td>117</td>\n",
       "      <td>-5.75</td>\n",
       "      <td>0</td>\n",
       "      <td>42</td>\n",
       "      <td>85</td>\n",
       "      <td>70</td>\n",
       "      <td>87</td>\n",
       "      <td>4</td>\n",
       "      <td>32</td>\n",
       "      <td>0</td>\n",
       "      <td>...</td>\n",
       "      <td>0</td>\n",
       "      <td>0</td>\n",
       "      <td>0</td>\n",
       "      <td>0</td>\n",
       "      <td>0</td>\n",
       "      <td>0</td>\n",
       "      <td>0</td>\n",
       "      <td>0</td>\n",
       "      <td>0</td>\n",
       "      <td>0</td>\n",
       "    </tr>\n",
       "    <tr>\n",
       "      <th>2</th>\n",
       "      <td>121</td>\n",
       "      <td>-6.06</td>\n",
       "      <td>0</td>\n",
       "      <td>29</td>\n",
       "      <td>89</td>\n",
       "      <td>71</td>\n",
       "      <td>63</td>\n",
       "      <td>8</td>\n",
       "      <td>64</td>\n",
       "      <td>0</td>\n",
       "      <td>...</td>\n",
       "      <td>0</td>\n",
       "      <td>0</td>\n",
       "      <td>0</td>\n",
       "      <td>0</td>\n",
       "      <td>0</td>\n",
       "      <td>0</td>\n",
       "      <td>0</td>\n",
       "      <td>0</td>\n",
       "      <td>0</td>\n",
       "      <td>0</td>\n",
       "    </tr>\n",
       "    <tr>\n",
       "      <th>3</th>\n",
       "      <td>122</td>\n",
       "      <td>-5.42</td>\n",
       "      <td>0</td>\n",
       "      <td>24</td>\n",
       "      <td>84</td>\n",
       "      <td>78</td>\n",
       "      <td>97</td>\n",
       "      <td>4</td>\n",
       "      <td>12</td>\n",
       "      <td>12</td>\n",
       "      <td>...</td>\n",
       "      <td>0</td>\n",
       "      <td>0</td>\n",
       "      <td>0</td>\n",
       "      <td>0</td>\n",
       "      <td>0</td>\n",
       "      <td>0</td>\n",
       "      <td>0</td>\n",
       "      <td>0</td>\n",
       "      <td>0</td>\n",
       "      <td>0</td>\n",
       "    </tr>\n",
       "    <tr>\n",
       "      <th>4</th>\n",
       "      <td>123</td>\n",
       "      <td>-5.57</td>\n",
       "      <td>0</td>\n",
       "      <td>30</td>\n",
       "      <td>71</td>\n",
       "      <td>77</td>\n",
       "      <td>70</td>\n",
       "      <td>7</td>\n",
       "      <td>10</td>\n",
       "      <td>4</td>\n",
       "      <td>...</td>\n",
       "      <td>0</td>\n",
       "      <td>0</td>\n",
       "      <td>0</td>\n",
       "      <td>0</td>\n",
       "      <td>0</td>\n",
       "      <td>0</td>\n",
       "      <td>0</td>\n",
       "      <td>0</td>\n",
       "      <td>0</td>\n",
       "      <td>0</td>\n",
       "    </tr>\n",
       "    <tr>\n",
       "      <th>...</th>\n",
       "      <td>...</td>\n",
       "      <td>...</td>\n",
       "      <td>...</td>\n",
       "      <td>...</td>\n",
       "      <td>...</td>\n",
       "      <td>...</td>\n",
       "      <td>...</td>\n",
       "      <td>...</td>\n",
       "      <td>...</td>\n",
       "      <td>...</td>\n",
       "      <td>...</td>\n",
       "      <td>...</td>\n",
       "      <td>...</td>\n",
       "      <td>...</td>\n",
       "      <td>...</td>\n",
       "      <td>...</td>\n",
       "      <td>...</td>\n",
       "      <td>...</td>\n",
       "      <td>...</td>\n",
       "      <td>...</td>\n",
       "      <td>...</td>\n",
       "    </tr>\n",
       "    <tr>\n",
       "      <th>551408</th>\n",
       "      <td>140</td>\n",
       "      <td>-10.00</td>\n",
       "      <td>1</td>\n",
       "      <td>31</td>\n",
       "      <td>82</td>\n",
       "      <td>83</td>\n",
       "      <td>19</td>\n",
       "      <td>16</td>\n",
       "      <td>9</td>\n",
       "      <td>39</td>\n",
       "      <td>...</td>\n",
       "      <td>0</td>\n",
       "      <td>0</td>\n",
       "      <td>0</td>\n",
       "      <td>0</td>\n",
       "      <td>0</td>\n",
       "      <td>0</td>\n",
       "      <td>0</td>\n",
       "      <td>0</td>\n",
       "      <td>0</td>\n",
       "      <td>0</td>\n",
       "    </tr>\n",
       "    <tr>\n",
       "      <th>551409</th>\n",
       "      <td>128</td>\n",
       "      <td>-9.68</td>\n",
       "      <td>0</td>\n",
       "      <td>29</td>\n",
       "      <td>43</td>\n",
       "      <td>39</td>\n",
       "      <td>26</td>\n",
       "      <td>3</td>\n",
       "      <td>10</td>\n",
       "      <td>54</td>\n",
       "      <td>...</td>\n",
       "      <td>0</td>\n",
       "      <td>0</td>\n",
       "      <td>0</td>\n",
       "      <td>0</td>\n",
       "      <td>0</td>\n",
       "      <td>0</td>\n",
       "      <td>0</td>\n",
       "      <td>0</td>\n",
       "      <td>0</td>\n",
       "      <td>0</td>\n",
       "    </tr>\n",
       "    <tr>\n",
       "      <th>551410</th>\n",
       "      <td>75</td>\n",
       "      <td>-4.67</td>\n",
       "      <td>0</td>\n",
       "      <td>21</td>\n",
       "      <td>79</td>\n",
       "      <td>56</td>\n",
       "      <td>41</td>\n",
       "      <td>5</td>\n",
       "      <td>19</td>\n",
       "      <td>0</td>\n",
       "      <td>...</td>\n",
       "      <td>0</td>\n",
       "      <td>0</td>\n",
       "      <td>0</td>\n",
       "      <td>0</td>\n",
       "      <td>0</td>\n",
       "      <td>0</td>\n",
       "      <td>0</td>\n",
       "      <td>0</td>\n",
       "      <td>0</td>\n",
       "      <td>0</td>\n",
       "    </tr>\n",
       "    <tr>\n",
       "      <th>551411</th>\n",
       "      <td>126</td>\n",
       "      <td>-3.93</td>\n",
       "      <td>0</td>\n",
       "      <td>5</td>\n",
       "      <td>90</td>\n",
       "      <td>59</td>\n",
       "      <td>69</td>\n",
       "      <td>4</td>\n",
       "      <td>7</td>\n",
       "      <td>27</td>\n",
       "      <td>...</td>\n",
       "      <td>0</td>\n",
       "      <td>0</td>\n",
       "      <td>0</td>\n",
       "      <td>0</td>\n",
       "      <td>0</td>\n",
       "      <td>0</td>\n",
       "      <td>0</td>\n",
       "      <td>0</td>\n",
       "      <td>0</td>\n",
       "      <td>0</td>\n",
       "    </tr>\n",
       "    <tr>\n",
       "      <th>551412</th>\n",
       "      <td>100</td>\n",
       "      <td>-14.55</td>\n",
       "      <td>0</td>\n",
       "      <td>0</td>\n",
       "      <td>67</td>\n",
       "      <td>77</td>\n",
       "      <td>66</td>\n",
       "      <td>6</td>\n",
       "      <td>7</td>\n",
       "      <td>2</td>\n",
       "      <td>...</td>\n",
       "      <td>0</td>\n",
       "      <td>0</td>\n",
       "      <td>0</td>\n",
       "      <td>0</td>\n",
       "      <td>0</td>\n",
       "      <td>0</td>\n",
       "      <td>0</td>\n",
       "      <td>0</td>\n",
       "      <td>0</td>\n",
       "      <td>0</td>\n",
       "    </tr>\n",
       "  </tbody>\n",
       "</table>\n",
       "<p>551413 rows × 142 columns</p>\n",
       "</div>"
      ],
      "text/plain": [
       "        Tempo  Loudness (db)  Explicit  Popularity  Energy  Danceability  \\\n",
       "0         105          -6.85         0          40      83            71   \n",
       "1         117          -5.75         0          42      85            70   \n",
       "2         121          -6.06         0          29      89            71   \n",
       "3         122          -5.42         0          24      84            78   \n",
       "4         123          -5.57         0          30      71            77   \n",
       "...       ...            ...       ...         ...     ...           ...   \n",
       "551408    140         -10.00         1          31      82            83   \n",
       "551409    128          -9.68         0          29      43            39   \n",
       "551410     75          -4.67         0          21      79            56   \n",
       "551411    126          -3.93         0           5      90            59   \n",
       "551412    100         -14.55         0           0      67            77   \n",
       "\n",
       "        Positiveness  Speechiness  Liveness  Acousticness  ...  Genre_soul  \\\n",
       "0                 87            4        16            11  ...           0   \n",
       "1                 87            4        32             0  ...           0   \n",
       "2                 63            8        64             0  ...           0   \n",
       "3                 97            4        12            12  ...           0   \n",
       "4                 70            7        10             4  ...           0   \n",
       "...              ...          ...       ...           ...  ...         ...   \n",
       "551408            19           16         9            39  ...           0   \n",
       "551409            26            3        10            54  ...           0   \n",
       "551410            41            5        19             0  ...           0   \n",
       "551411            69            4         7            27  ...           0   \n",
       "551412            66            6         7             2  ...           0   \n",
       "\n",
       "        Genre_soundtrack  Genre_swing  Genre_synthpop  Genre_techno  \\\n",
       "0                      0            0               0             0   \n",
       "1                      0            0               0             0   \n",
       "2                      0            0               0             0   \n",
       "3                      0            0               0             0   \n",
       "4                      0            0               0             0   \n",
       "...                  ...          ...             ...           ...   \n",
       "551408                 0            0               0             0   \n",
       "551409                 0            0               0             0   \n",
       "551410                 0            0               0             0   \n",
       "551411                 0            0               0             0   \n",
       "551412                 0            0               0             0   \n",
       "\n",
       "        Genre_thrash metal  Genre_trance  Genre_trap  Genre_trip-hop  \\\n",
       "0                        0             0           0               0   \n",
       "1                        0             0           0               0   \n",
       "2                        0             0           0               0   \n",
       "3                        0             0           0               0   \n",
       "4                        0             0           0               0   \n",
       "...                    ...           ...         ...             ...   \n",
       "551408                   0             0           0               0   \n",
       "551409                   0             0           0               0   \n",
       "551410                   0             0           0               0   \n",
       "551411                   0             0           0               0   \n",
       "551412                   0             0           0               0   \n",
       "\n",
       "        Genre_worship  \n",
       "0                   0  \n",
       "1                   0  \n",
       "2                   0  \n",
       "3                   0  \n",
       "4                   0  \n",
       "...               ...  \n",
       "551408              0  \n",
       "551409              0  \n",
       "551410              0  \n",
       "551411              0  \n",
       "551412              0  \n",
       "\n",
       "[551413 rows x 142 columns]"
      ]
     },
     "execution_count": 871,
     "metadata": {},
     "output_type": "execute_result"
    }
   ],
   "source": [
    "df"
   ]
  },
  {
   "cell_type": "markdown",
   "id": "ab6c5d30",
   "metadata": {},
   "source": [
    "# Análisis exploratorio"
   ]
  },
  {
   "cell_type": "code",
   "execution_count": 872,
   "id": "069e613e",
   "metadata": {},
   "outputs": [
    {
     "data": {
      "text/html": [
       "<div>\n",
       "<style scoped>\n",
       "    .dataframe tbody tr th:only-of-type {\n",
       "        vertical-align: middle;\n",
       "    }\n",
       "\n",
       "    .dataframe tbody tr th {\n",
       "        vertical-align: top;\n",
       "    }\n",
       "\n",
       "    .dataframe thead th {\n",
       "        text-align: right;\n",
       "    }\n",
       "</style>\n",
       "<table border=\"1\" class=\"dataframe\">\n",
       "  <thead>\n",
       "    <tr style=\"text-align: right;\">\n",
       "      <th></th>\n",
       "      <th>Tempo</th>\n",
       "      <th>Loudness (db)</th>\n",
       "      <th>Explicit</th>\n",
       "      <th>Popularity</th>\n",
       "      <th>Energy</th>\n",
       "      <th>Danceability</th>\n",
       "      <th>Positiveness</th>\n",
       "      <th>Speechiness</th>\n",
       "      <th>Liveness</th>\n",
       "      <th>Acousticness</th>\n",
       "      <th>...</th>\n",
       "      <th>Genre_soul</th>\n",
       "      <th>Genre_soundtrack</th>\n",
       "      <th>Genre_swing</th>\n",
       "      <th>Genre_synthpop</th>\n",
       "      <th>Genre_techno</th>\n",
       "      <th>Genre_thrash metal</th>\n",
       "      <th>Genre_trance</th>\n",
       "      <th>Genre_trap</th>\n",
       "      <th>Genre_trip-hop</th>\n",
       "      <th>Genre_worship</th>\n",
       "    </tr>\n",
       "  </thead>\n",
       "  <tbody>\n",
       "    <tr>\n",
       "      <th>Tempo</th>\n",
       "      <td>1.000000</td>\n",
       "      <td>0.127042</td>\n",
       "      <td>-0.012298</td>\n",
       "      <td>0.009248</td>\n",
       "      <td>0.178303</td>\n",
       "      <td>-0.111893</td>\n",
       "      <td>0.027774</td>\n",
       "      <td>0.009046</td>\n",
       "      <td>0.011176</td>\n",
       "      <td>-0.150223</td>\n",
       "      <td>...</td>\n",
       "      <td>-0.024750</td>\n",
       "      <td>0.000273</td>\n",
       "      <td>-0.011896</td>\n",
       "      <td>0.005868</td>\n",
       "      <td>0.008442</td>\n",
       "      <td>0.016559</td>\n",
       "      <td>0.004035</td>\n",
       "      <td>0.031802</td>\n",
       "      <td>0.001681</td>\n",
       "      <td>0.007503</td>\n",
       "    </tr>\n",
       "    <tr>\n",
       "      <th>Loudness (db)</th>\n",
       "      <td>0.127042</td>\n",
       "      <td>1.000000</td>\n",
       "      <td>0.145099</td>\n",
       "      <td>0.088323</td>\n",
       "      <td>0.746677</td>\n",
       "      <td>0.112151</td>\n",
       "      <td>0.173336</td>\n",
       "      <td>0.060385</td>\n",
       "      <td>0.084055</td>\n",
       "      <td>-0.543750</td>\n",
       "      <td>...</td>\n",
       "      <td>-0.037585</td>\n",
       "      <td>-0.025624</td>\n",
       "      <td>-0.046705</td>\n",
       "      <td>-0.000314</td>\n",
       "      <td>0.004478</td>\n",
       "      <td>0.028797</td>\n",
       "      <td>-0.007929</td>\n",
       "      <td>0.030360</td>\n",
       "      <td>-0.006240</td>\n",
       "      <td>0.009916</td>\n",
       "    </tr>\n",
       "    <tr>\n",
       "      <th>Explicit</th>\n",
       "      <td>-0.012298</td>\n",
       "      <td>0.145099</td>\n",
       "      <td>1.000000</td>\n",
       "      <td>0.004827</td>\n",
       "      <td>0.095770</td>\n",
       "      <td>0.324089</td>\n",
       "      <td>0.028230</td>\n",
       "      <td>0.494201</td>\n",
       "      <td>0.031349</td>\n",
       "      <td>-0.161329</td>\n",
       "      <td>...</td>\n",
       "      <td>-0.075702</td>\n",
       "      <td>-0.011215</td>\n",
       "      <td>-0.015167</td>\n",
       "      <td>-0.056466</td>\n",
       "      <td>-0.019528</td>\n",
       "      <td>-0.005829</td>\n",
       "      <td>-0.011793</td>\n",
       "      <td>0.220525</td>\n",
       "      <td>-0.016094</td>\n",
       "      <td>-0.018298</td>\n",
       "    </tr>\n",
       "    <tr>\n",
       "      <th>Popularity</th>\n",
       "      <td>0.009248</td>\n",
       "      <td>0.088323</td>\n",
       "      <td>0.004827</td>\n",
       "      <td>1.000000</td>\n",
       "      <td>0.046767</td>\n",
       "      <td>0.107893</td>\n",
       "      <td>0.080540</td>\n",
       "      <td>-0.080392</td>\n",
       "      <td>-0.055607</td>\n",
       "      <td>-0.061171</td>\n",
       "      <td>...</td>\n",
       "      <td>0.028496</td>\n",
       "      <td>-0.017046</td>\n",
       "      <td>0.005966</td>\n",
       "      <td>0.030037</td>\n",
       "      <td>0.005017</td>\n",
       "      <td>0.003265</td>\n",
       "      <td>-0.010077</td>\n",
       "      <td>0.086715</td>\n",
       "      <td>0.017166</td>\n",
       "      <td>-0.009460</td>\n",
       "    </tr>\n",
       "    <tr>\n",
       "      <th>Energy</th>\n",
       "      <td>0.178303</td>\n",
       "      <td>0.746677</td>\n",
       "      <td>0.095770</td>\n",
       "      <td>0.046767</td>\n",
       "      <td>1.000000</td>\n",
       "      <td>-0.007537</td>\n",
       "      <td>0.258183</td>\n",
       "      <td>0.108398</td>\n",
       "      <td>0.177924</td>\n",
       "      <td>-0.672723</td>\n",
       "      <td>...</td>\n",
       "      <td>-0.063814</td>\n",
       "      <td>-0.021942</td>\n",
       "      <td>-0.065455</td>\n",
       "      <td>0.020060</td>\n",
       "      <td>0.010893</td>\n",
       "      <td>0.086155</td>\n",
       "      <td>0.005672</td>\n",
       "      <td>-0.006106</td>\n",
       "      <td>-0.000005</td>\n",
       "      <td>0.011001</td>\n",
       "    </tr>\n",
       "    <tr>\n",
       "      <th>...</th>\n",
       "      <td>...</td>\n",
       "      <td>...</td>\n",
       "      <td>...</td>\n",
       "      <td>...</td>\n",
       "      <td>...</td>\n",
       "      <td>...</td>\n",
       "      <td>...</td>\n",
       "      <td>...</td>\n",
       "      <td>...</td>\n",
       "      <td>...</td>\n",
       "      <td>...</td>\n",
       "      <td>...</td>\n",
       "      <td>...</td>\n",
       "      <td>...</td>\n",
       "      <td>...</td>\n",
       "      <td>...</td>\n",
       "      <td>...</td>\n",
       "      <td>...</td>\n",
       "      <td>...</td>\n",
       "      <td>...</td>\n",
       "      <td>...</td>\n",
       "    </tr>\n",
       "    <tr>\n",
       "      <th>Genre_thrash metal</th>\n",
       "      <td>0.016559</td>\n",
       "      <td>0.028797</td>\n",
       "      <td>-0.005829</td>\n",
       "      <td>0.003265</td>\n",
       "      <td>0.086155</td>\n",
       "      <td>-0.087435</td>\n",
       "      <td>-0.044834</td>\n",
       "      <td>0.001074</td>\n",
       "      <td>0.003441</td>\n",
       "      <td>-0.056699</td>\n",
       "      <td>...</td>\n",
       "      <td>-0.012537</td>\n",
       "      <td>-0.005813</td>\n",
       "      <td>-0.005654</td>\n",
       "      <td>-0.009471</td>\n",
       "      <td>-0.002888</td>\n",
       "      <td>1.000000</td>\n",
       "      <td>-0.004849</td>\n",
       "      <td>-0.012284</td>\n",
       "      <td>-0.002513</td>\n",
       "      <td>-0.002076</td>\n",
       "    </tr>\n",
       "    <tr>\n",
       "      <th>Genre_trance</th>\n",
       "      <td>0.004035</td>\n",
       "      <td>-0.007929</td>\n",
       "      <td>-0.011793</td>\n",
       "      <td>-0.010077</td>\n",
       "      <td>0.005672</td>\n",
       "      <td>0.007737</td>\n",
       "      <td>-0.000809</td>\n",
       "      <td>-0.008612</td>\n",
       "      <td>0.002200</td>\n",
       "      <td>-0.004392</td>\n",
       "      <td>...</td>\n",
       "      <td>-0.011519</td>\n",
       "      <td>-0.005341</td>\n",
       "      <td>-0.005195</td>\n",
       "      <td>0.017270</td>\n",
       "      <td>0.028975</td>\n",
       "      <td>-0.004849</td>\n",
       "      <td>1.000000</td>\n",
       "      <td>-0.011286</td>\n",
       "      <td>0.010329</td>\n",
       "      <td>-0.001908</td>\n",
       "    </tr>\n",
       "    <tr>\n",
       "      <th>Genre_trap</th>\n",
       "      <td>0.031802</td>\n",
       "      <td>0.030360</td>\n",
       "      <td>0.220525</td>\n",
       "      <td>0.086715</td>\n",
       "      <td>-0.006106</td>\n",
       "      <td>0.115528</td>\n",
       "      <td>-0.029063</td>\n",
       "      <td>0.121741</td>\n",
       "      <td>-0.006244</td>\n",
       "      <td>-0.041963</td>\n",
       "      <td>...</td>\n",
       "      <td>-0.024176</td>\n",
       "      <td>-0.013529</td>\n",
       "      <td>-0.013159</td>\n",
       "      <td>-0.022043</td>\n",
       "      <td>-0.006721</td>\n",
       "      <td>-0.012284</td>\n",
       "      <td>-0.011286</td>\n",
       "      <td>1.000000</td>\n",
       "      <td>-0.005849</td>\n",
       "      <td>-0.004832</td>\n",
       "    </tr>\n",
       "    <tr>\n",
       "      <th>Genre_trip-hop</th>\n",
       "      <td>0.001681</td>\n",
       "      <td>-0.006240</td>\n",
       "      <td>-0.016094</td>\n",
       "      <td>0.017166</td>\n",
       "      <td>-0.000005</td>\n",
       "      <td>-0.000609</td>\n",
       "      <td>-0.006924</td>\n",
       "      <td>-0.011111</td>\n",
       "      <td>0.001478</td>\n",
       "      <td>-0.004143</td>\n",
       "      <td>...</td>\n",
       "      <td>-0.002837</td>\n",
       "      <td>0.026941</td>\n",
       "      <td>-0.002692</td>\n",
       "      <td>-0.004510</td>\n",
       "      <td>-0.001375</td>\n",
       "      <td>-0.002513</td>\n",
       "      <td>0.010329</td>\n",
       "      <td>-0.005849</td>\n",
       "      <td>1.000000</td>\n",
       "      <td>-0.000989</td>\n",
       "    </tr>\n",
       "    <tr>\n",
       "      <th>Genre_worship</th>\n",
       "      <td>0.007503</td>\n",
       "      <td>0.009916</td>\n",
       "      <td>-0.018298</td>\n",
       "      <td>-0.009460</td>\n",
       "      <td>0.011001</td>\n",
       "      <td>-0.024855</td>\n",
       "      <td>-0.018876</td>\n",
       "      <td>-0.014633</td>\n",
       "      <td>0.024948</td>\n",
       "      <td>-0.012037</td>\n",
       "      <td>...</td>\n",
       "      <td>-0.004932</td>\n",
       "      <td>-0.002287</td>\n",
       "      <td>-0.002224</td>\n",
       "      <td>-0.003726</td>\n",
       "      <td>-0.001136</td>\n",
       "      <td>-0.002076</td>\n",
       "      <td>-0.001908</td>\n",
       "      <td>-0.004832</td>\n",
       "      <td>-0.000989</td>\n",
       "      <td>1.000000</td>\n",
       "    </tr>\n",
       "  </tbody>\n",
       "</table>\n",
       "<p>142 rows × 142 columns</p>\n",
       "</div>"
      ],
      "text/plain": [
       "                       Tempo  Loudness (db)  Explicit  Popularity    Energy  \\\n",
       "Tempo               1.000000       0.127042 -0.012298    0.009248  0.178303   \n",
       "Loudness (db)       0.127042       1.000000  0.145099    0.088323  0.746677   \n",
       "Explicit           -0.012298       0.145099  1.000000    0.004827  0.095770   \n",
       "Popularity          0.009248       0.088323  0.004827    1.000000  0.046767   \n",
       "Energy              0.178303       0.746677  0.095770    0.046767  1.000000   \n",
       "...                      ...            ...       ...         ...       ...   \n",
       "Genre_thrash metal  0.016559       0.028797 -0.005829    0.003265  0.086155   \n",
       "Genre_trance        0.004035      -0.007929 -0.011793   -0.010077  0.005672   \n",
       "Genre_trap          0.031802       0.030360  0.220525    0.086715 -0.006106   \n",
       "Genre_trip-hop      0.001681      -0.006240 -0.016094    0.017166 -0.000005   \n",
       "Genre_worship       0.007503       0.009916 -0.018298   -0.009460  0.011001   \n",
       "\n",
       "                    Danceability  Positiveness  Speechiness  Liveness  \\\n",
       "Tempo                  -0.111893      0.027774     0.009046  0.011176   \n",
       "Loudness (db)           0.112151      0.173336     0.060385  0.084055   \n",
       "Explicit                0.324089      0.028230     0.494201  0.031349   \n",
       "Popularity              0.107893      0.080540    -0.080392 -0.055607   \n",
       "Energy                 -0.007537      0.258183     0.108398  0.177924   \n",
       "...                          ...           ...          ...       ...   \n",
       "Genre_thrash metal     -0.087435     -0.044834     0.001074  0.003441   \n",
       "Genre_trance            0.007737     -0.000809    -0.008612  0.002200   \n",
       "Genre_trap              0.115528     -0.029063     0.121741 -0.006244   \n",
       "Genre_trip-hop         -0.000609     -0.006924    -0.011111  0.001478   \n",
       "Genre_worship          -0.024855     -0.018876    -0.014633  0.024948   \n",
       "\n",
       "                    Acousticness  ...  Genre_soul  Genre_soundtrack  \\\n",
       "Tempo                  -0.150223  ...   -0.024750          0.000273   \n",
       "Loudness (db)          -0.543750  ...   -0.037585         -0.025624   \n",
       "Explicit               -0.161329  ...   -0.075702         -0.011215   \n",
       "Popularity             -0.061171  ...    0.028496         -0.017046   \n",
       "Energy                 -0.672723  ...   -0.063814         -0.021942   \n",
       "...                          ...  ...         ...               ...   \n",
       "Genre_thrash metal     -0.056699  ...   -0.012537         -0.005813   \n",
       "Genre_trance           -0.004392  ...   -0.011519         -0.005341   \n",
       "Genre_trap             -0.041963  ...   -0.024176         -0.013529   \n",
       "Genre_trip-hop         -0.004143  ...   -0.002837          0.026941   \n",
       "Genre_worship          -0.012037  ...   -0.004932         -0.002287   \n",
       "\n",
       "                    Genre_swing  Genre_synthpop  Genre_techno  \\\n",
       "Tempo                 -0.011896        0.005868      0.008442   \n",
       "Loudness (db)         -0.046705       -0.000314      0.004478   \n",
       "Explicit              -0.015167       -0.056466     -0.019528   \n",
       "Popularity             0.005966        0.030037      0.005017   \n",
       "Energy                -0.065455        0.020060      0.010893   \n",
       "...                         ...             ...           ...   \n",
       "Genre_thrash metal    -0.005654       -0.009471     -0.002888   \n",
       "Genre_trance          -0.005195        0.017270      0.028975   \n",
       "Genre_trap            -0.013159       -0.022043     -0.006721   \n",
       "Genre_trip-hop        -0.002692       -0.004510     -0.001375   \n",
       "Genre_worship         -0.002224       -0.003726     -0.001136   \n",
       "\n",
       "                    Genre_thrash metal  Genre_trance  Genre_trap  \\\n",
       "Tempo                         0.016559      0.004035    0.031802   \n",
       "Loudness (db)                 0.028797     -0.007929    0.030360   \n",
       "Explicit                     -0.005829     -0.011793    0.220525   \n",
       "Popularity                    0.003265     -0.010077    0.086715   \n",
       "Energy                        0.086155      0.005672   -0.006106   \n",
       "...                                ...           ...         ...   \n",
       "Genre_thrash metal            1.000000     -0.004849   -0.012284   \n",
       "Genre_trance                 -0.004849      1.000000   -0.011286   \n",
       "Genre_trap                   -0.012284     -0.011286    1.000000   \n",
       "Genre_trip-hop               -0.002513      0.010329   -0.005849   \n",
       "Genre_worship                -0.002076     -0.001908   -0.004832   \n",
       "\n",
       "                    Genre_trip-hop  Genre_worship  \n",
       "Tempo                     0.001681       0.007503  \n",
       "Loudness (db)            -0.006240       0.009916  \n",
       "Explicit                 -0.016094      -0.018298  \n",
       "Popularity                0.017166      -0.009460  \n",
       "Energy                   -0.000005       0.011001  \n",
       "...                            ...            ...  \n",
       "Genre_thrash metal       -0.002513      -0.002076  \n",
       "Genre_trance              0.010329      -0.001908  \n",
       "Genre_trap               -0.005849      -0.004832  \n",
       "Genre_trip-hop            1.000000      -0.000989  \n",
       "Genre_worship            -0.000989       1.000000  \n",
       "\n",
       "[142 rows x 142 columns]"
      ]
     },
     "execution_count": 872,
     "metadata": {},
     "output_type": "execute_result"
    }
   ],
   "source": [
    "#Hacer análisis exploratorio\n",
    "df.corr()"
   ]
  },
  {
   "cell_type": "code",
   "execution_count": 873,
   "id": "120815ee",
   "metadata": {},
   "outputs": [
    {
     "data": {
      "text/plain": [
       "Popularity                    1.000000\n",
       "Good for Party                0.342266\n",
       "Good for Social Gatherings    0.201443\n",
       "Genre_pop                     0.108395\n",
       "Danceability                  0.107893\n",
       "                                ...   \n",
       "Time signature_3/4           -0.044810\n",
       "Genre_hip-hop                -0.046509\n",
       "Liveness                     -0.055607\n",
       "Acousticness                 -0.061171\n",
       "Speechiness                  -0.080392\n",
       "Name: Popularity, Length: 142, dtype: float64"
      ]
     },
     "execution_count": 873,
     "metadata": {},
     "output_type": "execute_result"
    }
   ],
   "source": [
    "df.corr()['Popularity'].sort_values(ascending=False)"
   ]
  },
  {
   "cell_type": "code",
   "execution_count": 874,
   "id": "985621e9",
   "metadata": {},
   "outputs": [],
   "source": [
    "df.corr()['Popularity'].sort_values(ascending=False).to_csv('correlaciones_popularity.csv')"
   ]
  },
  {
   "cell_type": "code",
   "execution_count": 875,
   "id": "5594abf0",
   "metadata": {},
   "outputs": [
    {
     "data": {
      "image/png": "[encoded data removed]",
      "text/plain": [
       "<Figure size 1200x600 with 2 Axes>"
      ]
     },
     "metadata": {},
     "output_type": "display_data"
    }
   ],
   "source": [
    "# 1) Matriz de correlaciones numéricas\n",
    "plt.figure(figsize=(12, 6))\n",
    "corr = df.corr(numeric_only=True)          # solo columnas numéricas\n",
    "sns.heatmap(corr, annot=False, cmap=\"coolwarm\")\n",
    "plt.title(\"Matriz de correlaciones\")\n",
    "plt.tight_layout()\n",
    "plt.show()"
   ]
  },
  {
   "cell_type": "code",
   "execution_count": 876,
   "id": "50b04bb0",
   "metadata": {},
   "outputs": [
    {
     "name": "stdout",
     "output_type": "stream",
     "text": [
      "Popularidad promedio cuando Good for Party=1  →  56.31\n",
      "Popularidad promedio cuando Good for Work/Study=1  →  30.16\n",
      "Popularidad promedio cuando Good for Relaxation/Meditation=1  →  29.87\n",
      "Popularidad promedio cuando Good for Exercise=1  →  34.27\n",
      "Popularidad promedio cuando Good for Running=1  →  34.53\n",
      "Popularidad promedio cuando Good for Yoga/Stretching=1  →  30.16\n",
      "Popularidad promedio cuando Good for Driving=1  →  34.41\n",
      "Popularidad promedio cuando Good for Social Gatherings=1  →  64.87\n",
      "Popularidad promedio cuando Good for Morning Routine=1  →  34.84\n"
     ]
    }
   ],
   "source": [
    "#calcular la popularidad promedio por cada columna good_for_*\n",
    "good_for_cols = [c for c in df.columns if c.startswith('Good for')]\n",
    "for col in good_for_cols:\n",
    "    mean_pop = df.loc[df[col] == 1, 'Popularity'].mean()\n",
    "    print(f\"Popularidad promedio cuando {col}=1  →  {mean_pop:.2f}\")"
   ]
  },
  {
   "cell_type": "code",
   "execution_count": 877,
   "id": "2cda183f",
   "metadata": {},
   "outputs": [
    {
     "data": {
      "image/png": "[encoded data removed]",
      "text/plain": [
       "<Figure size 1000x500 with 1 Axes>"
      ]
     },
     "metadata": {},
     "output_type": "display_data"
    }
   ],
   "source": [
    "context_columns = [\n",
    "    'Good for Party', 'Good for Work/Study', 'Good for Relaxation/Meditation',\n",
    "    'Good for Exercise', 'Good for Running', 'Good for Yoga/Stretching',\n",
    "    'Good for Driving', 'Good for Social Gatherings', 'Good for Morning Routine'\n",
    "]\n",
    "\n",
    "promedios = {\n",
    "    col: df[df[col] == 1]['Popularity'].mean()\n",
    "    for col in context_columns\n",
    "}\n",
    "\n",
    "plt.figure(figsize=(10, 5))\n",
    "plt.bar(promedios.keys(), promedios.values())\n",
    "plt.xticks(rotation=45, ha='right')\n",
    "plt.ylabel(\"Popularidad Promedio\")\n",
    "plt.title(\"Popularidad promedio según contexto (good_for_*)\")\n",
    "plt.tight_layout()\n",
    "plt.show()"
   ]
  },
  {
   "cell_type": "markdown",
   "id": "96d76da5",
   "metadata": {},
   "source": [
    "# Modelo de Red Neuronal MLP"
   ]
  },
  {
   "cell_type": "markdown",
   "id": "62ac870f",
   "metadata": {},
   "source": [
    "## División del dataset"
   ]
  },
  {
   "cell_type": "code",
   "execution_count": null,
   "id": "7c609efb",
   "metadata": {},
   "outputs": [],
   "source": [
    "# Dividir el DataFrame en conjuntos de entrenamiento, validación y prueba\n",
    "# Se usa un 70% para entrenamiento, un 15% para validación y 15% de prueba\n",
    "\n",
    "train_df, val_df = train_test_split(df, test_size=0.3, random_state=42, shuffle=False)\n",
    "val_df, test_df = train_test_split(val_df, test_size=0.5, random_state=42, shuffle=False)\n",
    "\n",
    "# Normalizar la columna 'Popularity' entre 0 y 1\n",
    "scaler = MinMaxScaler()\n",
    "train_df['Popularity'] = scaler.fit_transform(train_df[['Popularity']])\n",
    "val_df['Popularity'] = scaler.transform(val_df[['Popularity']])\n",
    "test_df['Popularity'] = scaler.transform(test_df[['Popularity']])"
   ]
  },
  {
   "cell_type": "code",
   "execution_count": 917,
   "id": "3ff50e23",
   "metadata": {},
   "outputs": [
    {
     "name": "stdout",
     "output_type": "stream",
     "text": [
      "Train: (82712, 142),  Val: (82712, 142),  Test: (385989, 142)\n"
     ]
    }
   ],
   "source": [
    "print(f'Train: {val_df.shape},  Val: {test_df.shape},  Test: {train_df.shape}')"
   ]
  },
  {
   "cell_type": "markdown",
   "id": "4c0a973a",
   "metadata": {},
   "source": [
    "## Modelo popularidad general"
   ]
  },
  {
   "cell_type": "markdown",
   "id": "0b9fd4fe",
   "metadata": {},
   "source": [
    "### Pre-procesado de datos"
   ]
  },
  {
   "cell_type": "code",
   "execution_count": 918,
   "id": "f6a46d56",
   "metadata": {},
   "outputs": [],
   "source": [
    "# Convertir el DataFrame a tensores de PyTorch\n",
    "X_train = torch.tensor(train_df.drop(columns=['Popularity']).values, dtype=torch.float32)  \n",
    "X_train = DataLoader(X_train, batch_size=8578, shuffle=False)  # Crear DataLoader para el conjunto de entrenamiento\n",
    "y_train = torch.tensor(train_df['Popularity'].values, dtype=torch.float32).view(-1, 1)  # Asegurarse de que y tenga la forma correcta\n",
    "y_train = DataLoader(y_train, batch_size=8578, shuffle=False)  # Crear DataLoader para las etiquetas de entrenamiento\n",
    "\n",
    "X_val = torch.tensor(val_df.drop(columns=['Popularity']).values, dtype=torch.float32)\n",
    "X_val = DataLoader(X_val, batch_size=3938, shuffle=False)  # Crear DataLoader para el conjunto de validación\n",
    "y_val = torch.tensor(val_df['Popularity'].values, dtype=torch.float32).view(-1, 1)\n",
    "y_val = DataLoader(y_val, batch_size=3938, shuffle=False)  # Crear DataLoader para las etiquetas de validación\n",
    "\n",
    "\n",
    "X_test = torch.tensor(test_df.drop(columns=['Popularity']).values, dtype=torch.float32)\n",
    "X_test = DataLoader(X_test, batch_size=3939, shuffle=False)  # Crear DataLoader para el conjunto de prueba\n",
    "y_test = torch.tensor(test_df['Popularity'].values, dtype=torch.float32).view(-1, 1)\n",
    "y_test = DataLoader(y_test, batch_size=3939, shuffle=False)  # Crear DataLoader para las etiquetas de prueba\n"
   ]
  },
  {
   "cell_type": "code",
   "execution_count": 919,
   "id": "e01a544e",
   "metadata": {},
   "outputs": [
    {
     "data": {
      "text/plain": [
       "(45, 22, 21)"
      ]
     },
     "execution_count": 919,
     "metadata": {},
     "output_type": "execute_result"
    }
   ],
   "source": [
    "len(X_train), len(X_val), len(X_test)"
   ]
  },
  {
   "cell_type": "markdown",
   "id": "312156eb",
   "metadata": {},
   "source": [
    "### Modelo HL 2, LR 0.0005"
   ]
  },
  {
   "cell_type": "markdown",
   "id": "0c9a3c38",
   "metadata": {},
   "source": [
    "#### Modelo"
   ]
  },
  {
   "cell_type": "code",
   "execution_count": 920,
   "id": "664ad0fd",
   "metadata": {},
   "outputs": [],
   "source": [
    "#Modelo de red neuronal\n",
    "class MLP_P(nn.Module):\n",
    "    def __init__(self, hidden_size=10, input_size=141):\n",
    "        super().__init__()\n",
    "        self.hidden_size = hidden_size\n",
    "        self.input_size = input_size\n",
    "        self.h1 = nn.Linear(in_features=input_size,out_features=self.hidden_size)\n",
    "        self.h2 = nn.Linear(in_features=self.hidden_size,out_features=self.hidden_size)\n",
    "        self.out = nn.Linear(in_features=self.hidden_size,out_features=1)\n",
    "\n",
    "        self.act = nn.ReLU()\n",
    "    def forward(self, x):\n",
    "        l1 = self.h1(x)  #de entrada a capa oculta\n",
    "        l2 = self.h2(l1)  #de capa oculta a capa oculta\n",
    "        l2 = self.act(l2)     #activación\n",
    "        output = self.out(l2)   #salida\n",
    "        return output"
   ]
  },
  {
   "cell_type": "markdown",
   "id": "7dafe559",
   "metadata": {},
   "source": [
    "#### Prueba del modelo"
   ]
  },
  {
   "cell_type": "code",
   "execution_count": 921,
   "id": "7287ed13",
   "metadata": {},
   "outputs": [
    {
     "name": "stdout",
     "output_type": "stream",
     "text": [
      "Output shape: torch.Size([1, 1])\n",
      "----------------------------------------------------------------\n",
      "        Layer (type)               Output Shape         Param #\n",
      "================================================================\n",
      "            Linear-1                [-1, 1, 10]           1,420\n",
      "            Linear-2                [-1, 1, 10]             110\n",
      "              ReLU-3                [-1, 1, 10]               0\n",
      "            Linear-4                 [-1, 1, 1]              11\n",
      "================================================================\n",
      "Total params: 1,541\n",
      "Trainable params: 1,541\n",
      "Non-trainable params: 0\n",
      "----------------------------------------------------------------\n",
      "Input size (MB): 0.00\n",
      "Forward/backward pass size (MB): 0.00\n",
      "Params size (MB): 0.01\n",
      "Estimated Total Size (MB): 0.01\n",
      "----------------------------------------------------------------\n"
     ]
    }
   ],
   "source": [
    "# Crear modelo\n",
    "model = MLP_P()\n",
    "\n",
    "# Mover a GPU si está disponible\n",
    "device = torch.device(\"cuda\" if torch.cuda.is_available() else \"cpu\")\n",
    "model.to(device)\n",
    "\n",
    "# Crear entrada simulada \n",
    "x = torch.randn(1, 141).to(device)\n",
    "# Hacer forward pass\n",
    "with torch.no_grad():\n",
    "    output = model.forward(x)\n",
    "\n",
    "print(\"Output shape:\", output.shape)  # Debería ser [1, 1]\n",
    "\n",
    "summary(model, input_size=(1, 141))"
   ]
  },
  {
   "cell_type": "markdown",
   "id": "5f6b9442",
   "metadata": {},
   "source": [
    "#### Inicialización del modelo"
   ]
  },
  {
   "cell_type": "code",
   "execution_count": 922,
   "id": "64bdc09d",
   "metadata": {},
   "outputs": [],
   "source": [
    "#Instanciar el modelo\n",
    "model = MLP_P(hidden_size=10, input_size=len(df.columns)-1)  # -1 porque la última columna es la de popularidad\n",
    "\n",
    "# Usar GPU si está disponible\n",
    "device = torch.device(\"cuda\" if torch.cuda.is_available() else \"cpu\")\n",
    "model = model.to(device)\n",
    "\n",
    "# Definir la función de pérdida y el optimizador\n",
    "criterion = nn.MSELoss()  # Mean Squared Error para regresión \n",
    "optimizer = torch.optim.Adam(model.parameters(), lr=0.005, weight_decay=1e-4)  # Adam optimizer"
   ]
  },
  {
   "cell_type": "markdown",
   "id": "8b7e144f",
   "metadata": {},
   "source": [
    "#### Entrenamiento del modelo"
   ]
  },
  {
   "cell_type": "code",
   "execution_count": null,
   "id": "8123f4d1",
   "metadata": {},
   "outputs": [
    {
     "name": "stderr",
     "output_type": "stream",
     "text": [
      "Epoch 1:   0%|          | 0/45 [00:00<?, ?it/s]"
     ]
    },
    {
     "name": "stderr",
     "output_type": "stream",
     "text": [
      "Epoch 1: 100%|██████████| 45/45 [00:03<00:00, 11.99it/s]\n"
     ]
    },
    {
     "name": "stdout",
     "output_type": "stream",
     "text": [
      "Época 1 | Train Loss: 0.3282 | Val Loss: 0.0413\n",
      "Nuevo mínimo en loss de validación\n"
     ]
    },
    {
     "name": "stderr",
     "output_type": "stream",
     "text": [
      "Epoch 2: 100%|██████████| 45/45 [00:01<00:00, 23.40it/s]\n"
     ]
    },
    {
     "name": "stdout",
     "output_type": "stream",
     "text": [
      "Época 2 | Train Loss: 0.0409 | Val Loss: 0.0329\n",
      "Nuevo mínimo en loss de validación\n"
     ]
    },
    {
     "name": "stderr",
     "output_type": "stream",
     "text": [
      "Epoch 3: 100%|██████████| 45/45 [00:01<00:00, 25.24it/s]\n"
     ]
    },
    {
     "name": "stdout",
     "output_type": "stream",
     "text": [
      "Época 3 | Train Loss: 0.0362 | Val Loss: 0.0310\n",
      "Nuevo mínimo en loss de validación\n"
     ]
    },
    {
     "name": "stderr",
     "output_type": "stream",
     "text": [
      "Epoch 4: 100%|██████████| 45/45 [00:02<00:00, 21.73it/s]"
     ]
    }
   ],
   "source": [
    "#Loop de entrenamiento\n",
    "epoch = 0\n",
    "patience= 10\n",
    "best_epoch = 0\n",
    "best_model = None\n",
    "\n",
    "batchs_per_epoch = 45\n",
    "\n",
    "train_losses = []\n",
    "val_losses = []\n",
    "best_val_loss = float('inf')\n",
    "\n",
    "while True:   \n",
    "    # Entrenamiento \n",
    "    model.train()\n",
    "    running_loss = 0.0\n",
    "    for _ in tqdm(range(batchs_per_epoch), desc=f\"Epoch {epoch+1}\"):\n",
    "        input, labels = next(iter(X_train)), next(iter(y_train))  # Obtener un batch de datos\n",
    "        input, labels = input.to(device), labels.to(device)\n",
    "\n",
    "        optimizer.zero_grad()\n",
    "\n",
    "        # Salidas \n",
    "        output = model(input)\n",
    "\n",
    "        # Pérdida combinada\n",
    "        loss = criterion(output, labels)\n",
    "\n",
    "        loss.backward()\n",
    "        optimizer.step()\n",
    "        running_loss += loss.item()\n",
    "\n",
    "    train_losses.append(running_loss / len(X_train))\n",
    "\n",
    "    # Validación\n",
    "    model.eval()\n",
    "    val_loss = 0.0\n",
    "\n",
    "    with torch.no_grad():\n",
    "        for _ in range(len(X_val)):\n",
    "            input, labels = next(iter(X_val)), next(iter(y_val))\n",
    "            input, labels = input.to(device), labels.to(device)\n",
    "\n",
    "            # Solo predicción principal en validación\n",
    "            outputs = model(input)  \n",
    "            loss = criterion(outputs, labels)\n",
    "            val_loss += loss.item()\n",
    "\n",
    "    val_losses.append(val_loss / len(X_val))\n",
    "    print(f\"Época {epoch+1} | Train Loss: {train_losses[-1]:.4f} | Val Loss: {val_losses[-1]:.4f}\")\n",
    "    \n",
    "    # Early stopping\n",
    "    if best_val_loss > (val_loss / len(X_val)):\n",
    "        patience = 10\n",
    "        best_val_loss = val_loss / len(X_val)\n",
    "        best_epoch = epoch + 1\n",
    "        best_model = model.state_dict()\n",
    "        torch.save(best_model, './MejoresPesos/best_model_MLP_P.pth')\n",
    "        print(f\"Nuevo mínimo en loss de validación\")   \n",
    "    else:\n",
    "        patience -= 1\n",
    "        if patience <= 0:\n",
    "            print(\"Early stopping triggered\")\n",
    "            break\n",
    "    epoch += 1"
   ]
  },
  {
   "cell_type": "code",
   "execution_count": null,
   "id": "3ccdb754",
   "metadata": {},
   "outputs": [
    {
     "data": {
      "image/png": "[encoded data removed]",
      "text/plain": [
       "<Figure size 640x480 with 1 Axes>"
      ]
     },
     "metadata": {},
     "output_type": "display_data"
    }
   ],
   "source": [
    "# Grafica de las curvas de pérdida\n",
    "plt.plot(train_losses, label='Train Loss')\n",
    "plt.plot(val_losses, label='Val Loss')\n",
    "plt.xlabel('Épocas')\n",
    "plt.ylabel('Pérdida')\n",
    "plt.legend()\n",
    "plt.title('Curva de pérdida')\n",
    "plt.ylim(0)\n",
    "plt.show()"
   ]
  },
  {
   "cell_type": "markdown",
   "id": "5aa5ccee",
   "metadata": {},
   "source": [
    "#### Testeo del modelo"
   ]
  },
  {
   "cell_type": "code",
   "execution_count": null,
   "id": "74434326",
   "metadata": {},
   "outputs": [
    {
     "name": "stdout",
     "output_type": "stream",
     "text": [
      "Test Loss: 0.0215\n"
     ]
    }
   ],
   "source": [
    "# Evaluación del modelo en el conjunto de test\n",
    "model.eval()\n",
    "model.load_state_dict(torch.load('./MejoresPesos/best_model_MLP_P.pth'))  # Cargar los mejores pesos del modelo\n",
    "\n",
    "test_loss = 0.0\n",
    "\n",
    "preds = []\n",
    "true = []\n",
    "with torch.no_grad():\n",
    "    for _ in range(len(X_test)):\n",
    "        input, labels = next(iter(X_test)), next(iter(y_test))\n",
    "        input, labels = input.to(device), labels.to(device)\n",
    "\n",
    "        outputs = model(input)  \n",
    "        loss = criterion(outputs, labels)\n",
    "        test_loss += loss.item()\n",
    "\n",
    "        preds.append(outputs.cpu().numpy())\n",
    "        true.append(labels.cpu().numpy())\n",
    "    \n",
    "test_loss /= len(X_test)\n",
    "print(f\"Test Loss: {test_loss:.4f}\")\n"
   ]
  },
  {
   "cell_type": "code",
   "execution_count": null,
   "id": "9b046115",
   "metadata": {},
   "outputs": [
    {
     "name": "stdout",
     "output_type": "stream",
     "text": [
      "MAE: 0.11\n",
      "MSE: 0.02\n",
      "RMSE: 0.15\n",
      "R²: 0.13\n"
     ]
    }
   ],
   "source": [
    "# Metricas de evaluación\n",
    "y_pred = np.concatenate(preds).reshape(-1, 1)\n",
    "y_true = np.concatenate(true).reshape(-1, 1)\n",
    "\n",
    "mae = mean_absolute_error(y_true, y_pred)\n",
    "mse = mean_squared_error(y_true, y_pred)\n",
    "rmse = np.sqrt(mse)\n",
    "r2 = r2_score(y_true, y_pred)\n",
    "\n",
    "print(f\"MAE: {mae:.2f}\")\n",
    "print(f\"MSE: {mse:.2f}\")\n",
    "print(f\"RMSE: {rmse:.2f}\")\n",
    "print(f\"R²: {r2:.2f}\")"
   ]
  },
  {
   "cell_type": "markdown",
   "id": "14614892",
   "metadata": {},
   "source": [
    "### Modelo HL 3, LR 0.0005"
   ]
  },
  {
   "cell_type": "markdown",
   "id": "168780ef",
   "metadata": {},
   "source": [
    "#### Modelo"
   ]
  },
  {
   "cell_type": "code",
   "execution_count": null,
   "id": "6d74bb3d",
   "metadata": {},
   "outputs": [],
   "source": [
    "#Modelo de red neuronal\n",
    "class MLP_P3(nn.Module):\n",
    "    def __init__(self, hidden_size=10, input_size=141):\n",
    "        super().__init__()\n",
    "        self.hidden_size = hidden_size\n",
    "        self.input_size = input_size\n",
    "        self.h1 = nn.Linear(in_features=input_size,out_features=self.hidden_size)\n",
    "        self.h2 = nn.Linear(in_features=self.hidden_size,out_features=self.hidden_size)\n",
    "        self.h3 = nn.Linear(in_features=self.hidden_size,out_features=self.hidden_size)\n",
    "        self.out = nn.Linear(in_features=self.hidden_size,out_features=1)\n",
    "\n",
    "        self.act = nn.ReLU()\n",
    "    def forward(self, x):\n",
    "        l1 = self.h1(x)  #de entrada a capa oculta\n",
    "        l2 = self.h2(l1)  #de capa oculta a capa oculta\n",
    "        l3 = self.h2(l2)  #de capa oculta a capa oculta\n",
    "        l3 = self.act(l3)     #activación\n",
    "        output = self.out(l3)   #salida\n",
    "        return output"
   ]
  },
  {
   "cell_type": "markdown",
   "id": "7f4c3d4d",
   "metadata": {},
   "source": [
    "#### Prueba del modelo"
   ]
  },
  {
   "cell_type": "code",
   "execution_count": null,
   "id": "85e0ff2b",
   "metadata": {},
   "outputs": [
    {
     "name": "stdout",
     "output_type": "stream",
     "text": [
      "Output shape: torch.Size([1, 1])\n",
      "----------------------------------------------------------------\n",
      "        Layer (type)               Output Shape         Param #\n",
      "================================================================\n",
      "            Linear-1                [-1, 1, 10]           1,430\n",
      "            Linear-2                [-1, 1, 10]             110\n",
      "            Linear-3                [-1, 1, 10]             110\n",
      "              ReLU-4                [-1, 1, 10]               0\n",
      "            Linear-5                 [-1, 1, 1]              11\n",
      "================================================================\n",
      "Total params: 1,661\n",
      "Trainable params: 1,661\n",
      "Non-trainable params: 0\n",
      "----------------------------------------------------------------\n",
      "Input size (MB): 0.00\n",
      "Forward/backward pass size (MB): 0.00\n",
      "Params size (MB): 0.01\n",
      "Estimated Total Size (MB): 0.01\n",
      "----------------------------------------------------------------\n"
     ]
    }
   ],
   "source": [
    "# Crear modelo\n",
    "model = MLP_P3()\n",
    "\n",
    "# Mover a GPU si está disponible\n",
    "device = torch.device(\"cuda\" if torch.cuda.is_available() else \"cpu\")\n",
    "model.to(device)\n",
    "\n",
    "# Crear entrada simulada \n",
    "x = torch.randn(1, 141).to(device)\n",
    "# Hacer forward pass\n",
    "with torch.no_grad():\n",
    "    output = model.forward(x)\n",
    "\n",
    "print(\"Output shape:\", output.shape)  # Debería ser [1, 1]\n",
    "\n",
    "summary(model, input_size=(1, 141))"
   ]
  },
  {
   "cell_type": "markdown",
   "id": "046718ae",
   "metadata": {},
   "source": [
    "#### Inicialización del modelo"
   ]
  },
  {
   "cell_type": "code",
   "execution_count": null,
   "id": "8672c651",
   "metadata": {},
   "outputs": [],
   "source": [
    "# Instanciar el modelo\n",
    "model = MLP_P3(hidden_size=10, input_size=len(df.columns)-1)  # -1 porque la última columna es la de popularidad\n",
    "\n",
    "# Usar GPU si está disponible\n",
    "device = torch.device(\"cuda\" if torch.cuda.is_available() else \"cpu\")\n",
    "model = model.to(device)\n",
    "\n",
    "# Definir la función de pérdida y el optimizador\n",
    "criterion = nn.MSELoss()  # Mean Squared Error para regresión \n",
    "optimizer = torch.optim.Adam(model.parameters(), lr=0.005, weight_decay=1e-4)  # Adam optimizer\n"
   ]
  },
  {
   "cell_type": "markdown",
   "id": "c74dbded",
   "metadata": {},
   "source": [
    "#### Entrenamiento del modelo"
   ]
  },
  {
   "cell_type": "code",
   "execution_count": null,
   "id": "5351d2dc",
   "metadata": {},
   "outputs": [
    {
     "name": "stderr",
     "output_type": "stream",
     "text": [
      "Epoch 1: 100%|██████████| 45/45 [00:06<00:00,  6.91it/s]\n"
     ]
    },
    {
     "name": "stdout",
     "output_type": "stream",
     "text": [
      "Época 1 | Train Loss: 0.1367 | Val Loss: 0.0380\n",
      "Nuevo mínimo en loss de validación\n"
     ]
    },
    {
     "name": "stderr",
     "output_type": "stream",
     "text": [
      "Epoch 2: 100%|██████████| 45/45 [00:06<00:00,  7.20it/s]\n"
     ]
    },
    {
     "name": "stdout",
     "output_type": "stream",
     "text": [
      "Época 2 | Train Loss: 0.0404 | Val Loss: 0.0327\n",
      "Nuevo mínimo en loss de validación\n"
     ]
    },
    {
     "name": "stderr",
     "output_type": "stream",
     "text": [
      "Epoch 3: 100%|██████████| 45/45 [00:06<00:00,  7.37it/s]\n"
     ]
    },
    {
     "name": "stdout",
     "output_type": "stream",
     "text": [
      "Época 3 | Train Loss: 0.0365 | Val Loss: 0.0321\n",
      "Nuevo mínimo en loss de validación\n"
     ]
    },
    {
     "name": "stderr",
     "output_type": "stream",
     "text": [
      "Epoch 4: 100%|██████████| 45/45 [00:06<00:00,  6.91it/s]\n"
     ]
    },
    {
     "name": "stdout",
     "output_type": "stream",
     "text": [
      "Época 4 | Train Loss: 0.0339 | Val Loss: 0.0317\n",
      "Nuevo mínimo en loss de validación\n"
     ]
    },
    {
     "name": "stderr",
     "output_type": "stream",
     "text": [
      "Epoch 5: 100%|██████████| 45/45 [00:07<00:00,  6.38it/s]\n"
     ]
    },
    {
     "name": "stdout",
     "output_type": "stream",
     "text": [
      "Época 5 | Train Loss: 0.0320 | Val Loss: 0.0310\n",
      "Nuevo mínimo en loss de validación\n"
     ]
    },
    {
     "name": "stderr",
     "output_type": "stream",
     "text": [
      "Epoch 6: 100%|██████████| 45/45 [00:06<00:00,  7.06it/s]\n"
     ]
    },
    {
     "name": "stdout",
     "output_type": "stream",
     "text": [
      "Época 6 | Train Loss: 0.0304 | Val Loss: 0.0301\n",
      "Nuevo mínimo en loss de validación\n"
     ]
    },
    {
     "name": "stderr",
     "output_type": "stream",
     "text": [
      "Epoch 7: 100%|██████████| 45/45 [00:06<00:00,  6.93it/s]\n"
     ]
    },
    {
     "name": "stdout",
     "output_type": "stream",
     "text": [
      "Época 7 | Train Loss: 0.0289 | Val Loss: 0.0293\n",
      "Nuevo mínimo en loss de validación\n"
     ]
    },
    {
     "name": "stderr",
     "output_type": "stream",
     "text": [
      "Epoch 8: 100%|██████████| 45/45 [00:06<00:00,  7.31it/s]\n"
     ]
    },
    {
     "name": "stdout",
     "output_type": "stream",
     "text": [
      "Época 8 | Train Loss: 0.0277 | Val Loss: 0.0287\n",
      "Nuevo mínimo en loss de validación\n"
     ]
    },
    {
     "name": "stderr",
     "output_type": "stream",
     "text": [
      "Epoch 9: 100%|██████████| 45/45 [00:06<00:00,  7.15it/s]\n"
     ]
    },
    {
     "name": "stdout",
     "output_type": "stream",
     "text": [
      "Época 9 | Train Loss: 0.0268 | Val Loss: 0.0284\n",
      "Nuevo mínimo en loss de validación\n"
     ]
    },
    {
     "name": "stderr",
     "output_type": "stream",
     "text": [
      "Epoch 10: 100%|██████████| 45/45 [00:06<00:00,  6.79it/s]\n"
     ]
    },
    {
     "name": "stdout",
     "output_type": "stream",
     "text": [
      "Época 10 | Train Loss: 0.0262 | Val Loss: 0.0283\n",
      "Nuevo mínimo en loss de validación\n"
     ]
    },
    {
     "name": "stderr",
     "output_type": "stream",
     "text": [
      "Epoch 11: 100%|██████████| 45/45 [00:06<00:00,  6.85it/s]\n"
     ]
    },
    {
     "name": "stdout",
     "output_type": "stream",
     "text": [
      "Época 11 | Train Loss: 0.0257 | Val Loss: 0.0284\n"
     ]
    },
    {
     "name": "stderr",
     "output_type": "stream",
     "text": [
      "Epoch 12: 100%|██████████| 45/45 [00:06<00:00,  6.94it/s]\n"
     ]
    },
    {
     "name": "stdout",
     "output_type": "stream",
     "text": [
      "Época 12 | Train Loss: 0.0255 | Val Loss: 0.0285\n"
     ]
    },
    {
     "name": "stderr",
     "output_type": "stream",
     "text": [
      "Epoch 13: 100%|██████████| 45/45 [00:06<00:00,  6.85it/s]\n"
     ]
    },
    {
     "name": "stdout",
     "output_type": "stream",
     "text": [
      "Época 13 | Train Loss: 0.0253 | Val Loss: 0.0286\n"
     ]
    },
    {
     "name": "stderr",
     "output_type": "stream",
     "text": [
      "Epoch 14: 100%|██████████| 45/45 [00:06<00:00,  7.33it/s]\n"
     ]
    },
    {
     "name": "stdout",
     "output_type": "stream",
     "text": [
      "Época 14 | Train Loss: 0.0252 | Val Loss: 0.0320\n"
     ]
    },
    {
     "name": "stderr",
     "output_type": "stream",
     "text": [
      "Epoch 15: 100%|██████████| 45/45 [00:05<00:00,  7.60it/s]\n"
     ]
    },
    {
     "name": "stdout",
     "output_type": "stream",
     "text": [
      "Época 15 | Train Loss: 0.0284 | Val Loss: 0.0285\n"
     ]
    },
    {
     "name": "stderr",
     "output_type": "stream",
     "text": [
      "Epoch 16: 100%|██████████| 45/45 [00:06<00:00,  6.96it/s]\n"
     ]
    },
    {
     "name": "stdout",
     "output_type": "stream",
     "text": [
      "Época 16 | Train Loss: 0.0252 | Val Loss: 0.0285\n"
     ]
    },
    {
     "name": "stderr",
     "output_type": "stream",
     "text": [
      "Epoch 17: 100%|██████████| 45/45 [00:05<00:00,  7.88it/s]\n"
     ]
    },
    {
     "name": "stdout",
     "output_type": "stream",
     "text": [
      "Época 17 | Train Loss: 0.0250 | Val Loss: 0.0286\n"
     ]
    },
    {
     "name": "stderr",
     "output_type": "stream",
     "text": [
      "Epoch 18: 100%|██████████| 45/45 [00:06<00:00,  7.12it/s]\n"
     ]
    },
    {
     "name": "stdout",
     "output_type": "stream",
     "text": [
      "Época 18 | Train Loss: 0.0250 | Val Loss: 0.0286\n"
     ]
    },
    {
     "name": "stderr",
     "output_type": "stream",
     "text": [
      "Epoch 19: 100%|██████████| 45/45 [00:06<00:00,  6.69it/s]\n"
     ]
    },
    {
     "name": "stdout",
     "output_type": "stream",
     "text": [
      "Época 19 | Train Loss: 0.0290 | Val Loss: 0.0430\n"
     ]
    },
    {
     "name": "stderr",
     "output_type": "stream",
     "text": [
      "Epoch 20: 100%|██████████| 45/45 [00:06<00:00,  7.22it/s]\n"
     ]
    },
    {
     "name": "stdout",
     "output_type": "stream",
     "text": [
      "Época 20 | Train Loss: 0.0266 | Val Loss: 0.0284\n",
      "Early stopping triggered\n"
     ]
    }
   ],
   "source": [
    "#Loop de entrenamiento\n",
    "epoch = 0\n",
    "patience=10\n",
    "best_epoch = 0\n",
    "best_model = None\n",
    "\n",
    "batchs_per_epoch = 45\n",
    "\n",
    "train_losses = []\n",
    "val_losses = []\n",
    "best_val_loss = float('inf')\n",
    "\n",
    "while True:\n",
    "    # Entrenamiento    \n",
    "    model.train()\n",
    "    running_loss = 0.0\n",
    "    for _ in tqdm(range(batchs_per_epoch), desc=f\"Epoch {epoch+1}\"):\n",
    "        input, labels = next(iter(X_train)), next(iter(y_train))  # Obtener un batch de datos\n",
    "        input, labels = input.to(device), labels.to(device)\n",
    "\n",
    "        optimizer.zero_grad()\n",
    "\n",
    "        # Salidas \n",
    "        output = model(input)\n",
    "\n",
    "        # Pérdida combinada\n",
    "        loss = criterion(output, labels)\n",
    "\n",
    "        loss.backward()\n",
    "        optimizer.step()\n",
    "        running_loss += loss.item()\n",
    "\n",
    "    train_losses.append(running_loss / len(X_train))\n",
    "\n",
    "    # Validación\n",
    "    model.eval()\n",
    "    val_loss = 0.0\n",
    "\n",
    "    with torch.no_grad():\n",
    "        for _ in range(len(X_val)):\n",
    "            input, labels = next(iter(X_val)), next(iter(y_val))\n",
    "            input, labels = input.to(device), labels.to(device)\n",
    "\n",
    "            # Solo predicción principal en validación\n",
    "            outputs = model(input)  \n",
    "            loss = criterion(outputs, labels)\n",
    "            val_loss += loss.item()\n",
    "\n",
    "    val_losses.append(val_loss / len(X_val))\n",
    "    print(f\"Época {epoch+1} | Train Loss: {train_losses[-1]:.4f} | Val Loss: {val_losses[-1]:.4f}\")\n",
    "    \n",
    "    # Early stopping\n",
    "    if best_val_loss > (val_loss / len(X_val)):\n",
    "        patience = 10\n",
    "        best_val_loss = val_loss / len(X_val)\n",
    "        best_epoch = epoch + 1\n",
    "        best_model = model.state_dict()\n",
    "        torch.save(best_model, './MejoresPesos/best_model_MLP_P3.pth')\n",
    "        print(f\"Nuevo mínimo en loss de validación\")   \n",
    "    else:\n",
    "        patience -= 1\n",
    "        if patience <= 0:\n",
    "            print(\"Early stopping triggered\")\n",
    "            break\n",
    "    epoch += 1"
   ]
  },
  {
   "cell_type": "code",
   "execution_count": null,
   "id": "e8dbe792",
   "metadata": {},
   "outputs": [
    {
     "data": {
      "image/png": "[encoded data removed]",
      "text/plain": [
       "<Figure size 640x480 with 1 Axes>"
      ]
     },
     "metadata": {},
     "output_type": "display_data"
    }
   ],
   "source": [
    "# Grafica de las curvas de pérdida\n",
    "plt.plot(train_losses, label='Train Loss')\n",
    "plt.plot(val_losses, label='Val Loss')\n",
    "plt.xlabel('Épocas')\n",
    "plt.ylabel('Pérdida')\n",
    "plt.legend()\n",
    "plt.title('Curva de pérdida')\n",
    "plt.ylim(0)\n",
    "plt.show()"
   ]
  },
  {
   "cell_type": "markdown",
   "id": "1f202c93",
   "metadata": {},
   "source": [
    "#### Testeo del modelo"
   ]
  },
  {
   "cell_type": "code",
   "execution_count": null,
   "id": "e6b2c2bf",
   "metadata": {},
   "outputs": [
    {
     "name": "stdout",
     "output_type": "stream",
     "text": [
      "Test Loss: 0.0217\n"
     ]
    }
   ],
   "source": [
    "# Evaluación del modelo en el conjunto de test\n",
    "model.eval()\n",
    "model.load_state_dict(torch.load('./MejoresPesos/best_model_MLP_P3.pth'))  # Cargar los mejores pesos del modelo\n",
    "\n",
    "test_loss = 0.0\n",
    "\n",
    "preds = []\n",
    "true = []\n",
    "with torch.no_grad():\n",
    "    for _ in range(len(X_test)):\n",
    "        input, labels = next(iter(X_test)), next(iter(y_test))\n",
    "        input, labels = input.to(device), labels.to(device)\n",
    "\n",
    "        outputs = model(input)  \n",
    "        loss = criterion(outputs, labels)\n",
    "        test_loss += loss.item()\n",
    "\n",
    "        preds.append(outputs.cpu().numpy())\n",
    "        true.append(labels.cpu().numpy())\n",
    "    \n",
    "test_loss /= len(X_test)\n",
    "print(f\"Test Loss: {test_loss:.4f}\")"
   ]
  },
  {
   "cell_type": "code",
   "execution_count": null,
   "id": "1f20ceaf",
   "metadata": {},
   "outputs": [
    {
     "name": "stdout",
     "output_type": "stream",
     "text": [
      "MAE: 0.11\n",
      "MSE: 0.02\n",
      "RMSE: 0.15\n",
      "R²: 0.12\n"
     ]
    }
   ],
   "source": [
    "# Metricas de evaluación\n",
    "y_pred = np.concatenate(preds).reshape(-1, 1)\n",
    "y_true = np.concatenate(true).reshape(-1, 1)\n",
    "\n",
    "mae = mean_absolute_error(y_true, y_pred)\n",
    "mse = mean_squared_error(y_true, y_pred)\n",
    "rmse = np.sqrt(mse)\n",
    "r2 = r2_score(y_true, y_pred)\n",
    "\n",
    "print(f\"MAE: {mae:.2f}\")\n",
    "print(f\"MSE: {mse:.2f}\")\n",
    "print(f\"RMSE: {rmse:.2f}\")\n",
    "print(f\"R²: {r2:.2f}\")"
   ]
  },
  {
   "cell_type": "markdown",
   "id": "f33249ee",
   "metadata": {},
   "source": [
    "### Modelo HL 4, LR 0.0001"
   ]
  },
  {
   "cell_type": "markdown",
   "id": "b4fc0189",
   "metadata": {},
   "source": [
    "#### Model"
   ]
  },
  {
   "cell_type": "code",
   "execution_count": null,
   "id": "f8a38327",
   "metadata": {},
   "outputs": [],
   "source": [
    "#Modelo de red neuronal\n",
    "class MLP_P4(nn.Module):\n",
    "    def __init__(self, hidden_size=10, input_size=141):\n",
    "        super().__init__()\n",
    "        self.hidden_size = hidden_size\n",
    "        self.input_size = input_size\n",
    "        self.h1 = nn.Linear(in_features=input_size,out_features=self.hidden_size)\n",
    "        self.h2 = nn.Linear(in_features=self.hidden_size,out_features=self.hidden_size)\n",
    "        self.h3 = nn.Linear(in_features=self.hidden_size,out_features=self.hidden_size)\n",
    "        self.h4 = nn.Linear(in_features=self.hidden_size,out_features=self.hidden_size)\n",
    "        self.out = nn.Linear(in_features=self.hidden_size,out_features=1)\n",
    "\n",
    "        self.act = nn.ReLU()\n",
    "    def forward(self, x):\n",
    "        l1 = self.h1(x)  #de entrada a capa oculta\n",
    "        l2 = self.h2(l1)  #de capa oculta a capa oculta\n",
    "        l3 = self.h2(l2)\n",
    "        l4 = self.h2(l3)  #de capa oculta a capa oculta\n",
    "        l4 = self.act(l4)     #activación\n",
    "        output = self.out(l4)   #salida\n",
    "        return output"
   ]
  },
  {
   "cell_type": "markdown",
   "id": "fb05463f",
   "metadata": {},
   "source": [
    "#### Prueba del modelo"
   ]
  },
  {
   "cell_type": "code",
   "execution_count": null,
   "id": "cbb3a424",
   "metadata": {},
   "outputs": [
    {
     "name": "stdout",
     "output_type": "stream",
     "text": [
      "Output shape: torch.Size([1, 1])\n",
      "----------------------------------------------------------------\n",
      "        Layer (type)               Output Shape         Param #\n",
      "================================================================\n",
      "            Linear-1                [-1, 1, 10]           1,430\n",
      "            Linear-2                [-1, 1, 10]             110\n",
      "            Linear-3                [-1, 1, 10]             110\n",
      "            Linear-4                [-1, 1, 10]             110\n",
      "              ReLU-5                [-1, 1, 10]               0\n",
      "            Linear-6                 [-1, 1, 1]              11\n",
      "================================================================\n",
      "Total params: 1,771\n",
      "Trainable params: 1,771\n",
      "Non-trainable params: 0\n",
      "----------------------------------------------------------------\n",
      "Input size (MB): 0.00\n",
      "Forward/backward pass size (MB): 0.00\n",
      "Params size (MB): 0.01\n",
      "Estimated Total Size (MB): 0.01\n",
      "----------------------------------------------------------------\n"
     ]
    }
   ],
   "source": [
    "# Crear modelo\n",
    "model = MLP_P4()\n",
    "\n",
    "# Mover a GPU si está disponible\n",
    "device = torch.device(\"cuda\" if torch.cuda.is_available() else \"cpu\")\n",
    "model.to(device)\n",
    "\n",
    "# Crear entrada simulada \n",
    "x = torch.randn(1, 141).to(device)\n",
    "# Hacer forward pass\n",
    "with torch.no_grad():\n",
    "    output = model.forward(x)\n",
    "\n",
    "print(\"Output shape:\", output.shape)  # Debería ser [1, 1]\n",
    "\n",
    "summary(model, input_size=(1, 141))"
   ]
  },
  {
   "cell_type": "markdown",
   "id": "aa3e141a",
   "metadata": {},
   "source": [
    "#### Inicialización del modelo"
   ]
  },
  {
   "cell_type": "code",
   "execution_count": null,
   "id": "5dd0bf55",
   "metadata": {},
   "outputs": [],
   "source": [
    "# Instanciar el modelo\n",
    "model = MLP_P4(hidden_size=10, input_size=len(df.columns)-1)  # -1 porque la última columna es la de popularidad\n",
    "\n",
    "# Usar GPU si está disponible\n",
    "device = torch.device(\"cuda\" if torch.cuda.is_available() else \"cpu\")\n",
    "model = model.to(device)\n",
    "\n",
    "# Definir la función de pérdida y el optimizador\n",
    "criterion = nn.MSELoss()  # Mean Squared Error para regresión \n",
    "optimizer = torch.optim.Adam(model.parameters(), lr=0.005, weight_decay=1e-4)  # Adam optimizer"
   ]
  },
  {
   "cell_type": "markdown",
   "id": "f836b865",
   "metadata": {},
   "source": [
    "#### Entrenamiento del modelo"
   ]
  },
  {
   "cell_type": "code",
   "execution_count": null,
   "id": "36c64688",
   "metadata": {},
   "outputs": [
    {
     "name": "stderr",
     "output_type": "stream",
     "text": [
      "Epoch 1: 100%|██████████| 45/45 [00:06<00:00,  6.87it/s]\n"
     ]
    },
    {
     "name": "stdout",
     "output_type": "stream",
     "text": [
      "Época 1 | Train Loss: 0.2053 | Val Loss: 0.0334\n",
      "Nuevo mínimo en loss de validación\n"
     ]
    },
    {
     "name": "stderr",
     "output_type": "stream",
     "text": [
      "Epoch 2: 100%|██████████| 45/45 [00:06<00:00,  7.35it/s]\n"
     ]
    },
    {
     "name": "stdout",
     "output_type": "stream",
     "text": [
      "Época 2 | Train Loss: 0.0444 | Val Loss: 0.0349\n"
     ]
    },
    {
     "name": "stderr",
     "output_type": "stream",
     "text": [
      "Epoch 3: 100%|██████████| 45/45 [00:05<00:00,  7.84it/s]\n"
     ]
    },
    {
     "name": "stdout",
     "output_type": "stream",
     "text": [
      "Época 3 | Train Loss: 0.0423 | Val Loss: 0.0343\n"
     ]
    },
    {
     "name": "stderr",
     "output_type": "stream",
     "text": [
      "Epoch 4: 100%|██████████| 45/45 [00:06<00:00,  6.63it/s]\n"
     ]
    },
    {
     "name": "stdout",
     "output_type": "stream",
     "text": [
      "Época 4 | Train Loss: 0.0410 | Val Loss: 0.0333\n",
      "Nuevo mínimo en loss de validación\n"
     ]
    },
    {
     "name": "stderr",
     "output_type": "stream",
     "text": [
      "Epoch 5: 100%|██████████| 45/45 [00:06<00:00,  6.88it/s]\n"
     ]
    },
    {
     "name": "stdout",
     "output_type": "stream",
     "text": [
      "Época 5 | Train Loss: 0.0397 | Val Loss: 0.0324\n",
      "Nuevo mínimo en loss de validación\n"
     ]
    },
    {
     "name": "stderr",
     "output_type": "stream",
     "text": [
      "Epoch 6: 100%|██████████| 45/45 [00:06<00:00,  7.14it/s]\n"
     ]
    },
    {
     "name": "stdout",
     "output_type": "stream",
     "text": [
      "Época 6 | Train Loss: 0.0383 | Val Loss: 0.0315\n",
      "Nuevo mínimo en loss de validación\n"
     ]
    },
    {
     "name": "stderr",
     "output_type": "stream",
     "text": [
      "Epoch 7: 100%|██████████| 45/45 [00:06<00:00,  7.09it/s]\n"
     ]
    },
    {
     "name": "stdout",
     "output_type": "stream",
     "text": [
      "Época 7 | Train Loss: 0.0369 | Val Loss: 0.0307\n",
      "Nuevo mínimo en loss de validación\n"
     ]
    },
    {
     "name": "stderr",
     "output_type": "stream",
     "text": [
      "Epoch 8: 100%|██████████| 45/45 [00:05<00:00,  7.60it/s]\n"
     ]
    },
    {
     "name": "stdout",
     "output_type": "stream",
     "text": [
      "Época 8 | Train Loss: 0.0353 | Val Loss: 0.0302\n",
      "Nuevo mínimo en loss de validación\n"
     ]
    },
    {
     "name": "stderr",
     "output_type": "stream",
     "text": [
      "Epoch 9: 100%|██████████| 45/45 [00:06<00:00,  7.24it/s]\n"
     ]
    },
    {
     "name": "stdout",
     "output_type": "stream",
     "text": [
      "Época 9 | Train Loss: 0.0337 | Val Loss: 0.0299\n",
      "Nuevo mínimo en loss de validación\n"
     ]
    },
    {
     "name": "stderr",
     "output_type": "stream",
     "text": [
      "Epoch 10: 100%|██████████| 45/45 [00:06<00:00,  6.90it/s]\n"
     ]
    },
    {
     "name": "stdout",
     "output_type": "stream",
     "text": [
      "Época 10 | Train Loss: 0.0323 | Val Loss: 0.0298\n",
      "Nuevo mínimo en loss de validación\n"
     ]
    },
    {
     "name": "stderr",
     "output_type": "stream",
     "text": [
      "Epoch 11: 100%|██████████| 45/45 [00:06<00:00,  6.98it/s]\n"
     ]
    },
    {
     "name": "stdout",
     "output_type": "stream",
     "text": [
      "Época 11 | Train Loss: 0.0311 | Val Loss: 0.0295\n",
      "Nuevo mínimo en loss de validación\n"
     ]
    },
    {
     "name": "stderr",
     "output_type": "stream",
     "text": [
      "Epoch 12: 100%|██████████| 45/45 [00:06<00:00,  7.36it/s]\n"
     ]
    },
    {
     "name": "stdout",
     "output_type": "stream",
     "text": [
      "Época 12 | Train Loss: 0.0300 | Val Loss: 0.0291\n",
      "Nuevo mínimo en loss de validación\n"
     ]
    },
    {
     "name": "stderr",
     "output_type": "stream",
     "text": [
      "Epoch 13: 100%|██████████| 45/45 [00:06<00:00,  6.65it/s]\n"
     ]
    },
    {
     "name": "stdout",
     "output_type": "stream",
     "text": [
      "Época 13 | Train Loss: 0.0289 | Val Loss: 0.0285\n",
      "Nuevo mínimo en loss de validación\n"
     ]
    },
    {
     "name": "stderr",
     "output_type": "stream",
     "text": [
      "Epoch 14: 100%|██████████| 45/45 [00:06<00:00,  7.32it/s]\n"
     ]
    },
    {
     "name": "stdout",
     "output_type": "stream",
     "text": [
      "Época 14 | Train Loss: 0.0279 | Val Loss: 0.0280\n",
      "Nuevo mínimo en loss de validación\n"
     ]
    },
    {
     "name": "stderr",
     "output_type": "stream",
     "text": [
      "Epoch 15: 100%|██████████| 45/45 [00:06<00:00,  7.21it/s]\n"
     ]
    },
    {
     "name": "stdout",
     "output_type": "stream",
     "text": [
      "Época 15 | Train Loss: 0.0271 | Val Loss: 0.0275\n",
      "Nuevo mínimo en loss de validación\n"
     ]
    },
    {
     "name": "stderr",
     "output_type": "stream",
     "text": [
      "Epoch 16: 100%|██████████| 45/45 [00:06<00:00,  7.23it/s]\n"
     ]
    },
    {
     "name": "stdout",
     "output_type": "stream",
     "text": [
      "Época 16 | Train Loss: 0.0264 | Val Loss: 0.0273\n",
      "Nuevo mínimo en loss de validación\n"
     ]
    },
    {
     "name": "stderr",
     "output_type": "stream",
     "text": [
      "Epoch 17: 100%|██████████| 45/45 [00:05<00:00,  7.59it/s]\n"
     ]
    },
    {
     "name": "stdout",
     "output_type": "stream",
     "text": [
      "Época 17 | Train Loss: 0.0259 | Val Loss: 0.0272\n",
      "Nuevo mínimo en loss de validación\n"
     ]
    },
    {
     "name": "stderr",
     "output_type": "stream",
     "text": [
      "Epoch 18: 100%|██████████| 45/45 [00:06<00:00,  7.23it/s]\n"
     ]
    },
    {
     "name": "stdout",
     "output_type": "stream",
     "text": [
      "Época 18 | Train Loss: 0.0256 | Val Loss: 0.0272\n"
     ]
    },
    {
     "name": "stderr",
     "output_type": "stream",
     "text": [
      "Epoch 19: 100%|██████████| 45/45 [00:06<00:00,  6.49it/s]\n"
     ]
    },
    {
     "name": "stdout",
     "output_type": "stream",
     "text": [
      "Época 19 | Train Loss: 0.0253 | Val Loss: 0.0273\n"
     ]
    },
    {
     "name": "stderr",
     "output_type": "stream",
     "text": [
      "Epoch 20: 100%|██████████| 45/45 [00:05<00:00,  7.51it/s]\n"
     ]
    },
    {
     "name": "stdout",
     "output_type": "stream",
     "text": [
      "Época 20 | Train Loss: 0.0252 | Val Loss: 0.0275\n"
     ]
    },
    {
     "name": "stderr",
     "output_type": "stream",
     "text": [
      "Epoch 21: 100%|██████████| 45/45 [00:05<00:00,  8.14it/s]\n"
     ]
    },
    {
     "name": "stdout",
     "output_type": "stream",
     "text": [
      "Época 21 | Train Loss: 0.0251 | Val Loss: 0.0276\n"
     ]
    },
    {
     "name": "stderr",
     "output_type": "stream",
     "text": [
      "Epoch 22: 100%|██████████| 45/45 [00:06<00:00,  7.40it/s]\n"
     ]
    },
    {
     "name": "stdout",
     "output_type": "stream",
     "text": [
      "Época 22 | Train Loss: 0.0284 | Val Loss: 0.0273\n"
     ]
    },
    {
     "name": "stderr",
     "output_type": "stream",
     "text": [
      "Epoch 23: 100%|██████████| 45/45 [00:06<00:00,  7.47it/s]\n"
     ]
    },
    {
     "name": "stdout",
     "output_type": "stream",
     "text": [
      "Época 23 | Train Loss: 0.0261 | Val Loss: 0.0275\n"
     ]
    },
    {
     "name": "stderr",
     "output_type": "stream",
     "text": [
      "Epoch 24: 100%|██████████| 45/45 [00:06<00:00,  7.04it/s]\n"
     ]
    },
    {
     "name": "stdout",
     "output_type": "stream",
     "text": [
      "Época 24 | Train Loss: 0.0250 | Val Loss: 0.0275\n"
     ]
    },
    {
     "name": "stderr",
     "output_type": "stream",
     "text": [
      "Epoch 25: 100%|██████████| 45/45 [00:07<00:00,  6.30it/s]\n"
     ]
    },
    {
     "name": "stdout",
     "output_type": "stream",
     "text": [
      "Época 25 | Train Loss: 0.0250 | Val Loss: 0.0277\n"
     ]
    },
    {
     "name": "stderr",
     "output_type": "stream",
     "text": [
      "Epoch 26: 100%|██████████| 45/45 [00:06<00:00,  7.46it/s]\n"
     ]
    },
    {
     "name": "stdout",
     "output_type": "stream",
     "text": [
      "Época 26 | Train Loss: 0.0249 | Val Loss: 0.0278\n"
     ]
    },
    {
     "name": "stderr",
     "output_type": "stream",
     "text": [
      "Epoch 27: 100%|██████████| 45/45 [00:06<00:00,  7.49it/s]\n"
     ]
    },
    {
     "name": "stdout",
     "output_type": "stream",
     "text": [
      "Época 27 | Train Loss: 0.0249 | Val Loss: 0.0278\n",
      "Early stopping triggered\n"
     ]
    }
   ],
   "source": [
    "#Loop de entrenamiento\n",
    "epoch = 0\n",
    "patience= 10\n",
    "best_epoch = 0\n",
    "best_model = None\n",
    "\n",
    "batchs_per_epoch = 45\n",
    "\n",
    "train_losses = []\n",
    "val_losses = []\n",
    "best_val_loss = float('inf')\n",
    "\n",
    "while True:\n",
    "    # Entrenamiento    \n",
    "    model.train()\n",
    "    running_loss = 0.0\n",
    "    for _ in tqdm(range(batchs_per_epoch), desc=f\"Epoch {epoch+1}\"):\n",
    "        input, labels = next(iter(X_train)), next(iter(y_train))  # Obtener un batch de datos\n",
    "        input, labels = input.to(device), labels.to(device)\n",
    "\n",
    "        optimizer.zero_grad()\n",
    "\n",
    "        # Salidas \n",
    "        output = model(input)\n",
    "\n",
    "        # Pérdida combinada\n",
    "        loss = criterion(output, labels)\n",
    "\n",
    "        loss.backward()\n",
    "        optimizer.step()\n",
    "        running_loss += loss.item()\n",
    "\n",
    "    train_losses.append(running_loss / len(X_train))\n",
    "\n",
    "    # Validación\n",
    "    model.eval()\n",
    "    val_loss = 0.0\n",
    "\n",
    "    with torch.no_grad():\n",
    "        for _ in range(len(X_val)):\n",
    "            input, labels = next(iter(X_val)), next(iter(y_val))\n",
    "            input, labels = input.to(device), labels.to(device)\n",
    "\n",
    "            # Solo predicción principal en validación\n",
    "            outputs = model(input)  \n",
    "            loss = criterion(outputs, labels)\n",
    "            val_loss += loss.item()\n",
    "\n",
    "    val_losses.append(val_loss / len(X_val))\n",
    "    print(f\"Época {epoch+1} | Train Loss: {train_losses[-1]:.4f} | Val Loss: {val_losses[-1]:.4f}\")\n",
    "    \n",
    "    # Early stopping\n",
    "    if best_val_loss > (val_loss / len(X_val)):\n",
    "        patience = 10\n",
    "        best_val_loss = val_loss / len(X_val)\n",
    "        best_epoch = epoch + 1\n",
    "        best_model = model.state_dict()\n",
    "        torch.save(best_model, './MejoresPesos/best_model_MLP_P4.pth')\n",
    "        \n",
    "        print(f\"Nuevo mínimo en loss de validación\")   \n",
    "    else:\n",
    "        patience -= 1\n",
    "        if patience <= 0:\n",
    "            print(\"Early stopping triggered\")\n",
    "            break\n",
    "    epoch += 1"
   ]
  },
  {
   "cell_type": "code",
   "execution_count": null,
   "id": "df2f50d0",
   "metadata": {},
   "outputs": [
    {
     "data": {
      "image/png": "[encoded data removed]",
      "text/plain": [
       "<Figure size 640x480 with 1 Axes>"
      ]
     },
     "metadata": {},
     "output_type": "display_data"
    }
   ],
   "source": [
    "# Grafica de las curvas de pérdida\n",
    "plt.plot(train_losses, label='Train Loss')\n",
    "plt.plot(val_losses, label='Val Loss')\n",
    "plt.xlabel('Épocas')\n",
    "plt.ylabel('Pérdida')\n",
    "plt.legend()\n",
    "plt.title('Curva de pérdida')\n",
    "plt.ylim(0, 1)\n",
    "plt.show()"
   ]
  },
  {
   "cell_type": "markdown",
   "id": "6ec6b078",
   "metadata": {},
   "source": [
    "#### Testeo del modelo"
   ]
  },
  {
   "cell_type": "code",
   "execution_count": null,
   "id": "7b9ae5fc",
   "metadata": {},
   "outputs": [
    {
     "name": "stdout",
     "output_type": "stream",
     "text": [
      "Test Loss: 0.0210\n"
     ]
    }
   ],
   "source": [
    "# Evaluación del modelo en el conjunto de test\n",
    "model.eval()\n",
    "model.load_state_dict(torch.load('./MejoresPesos/best_model_MLP_P4.pth'))  # Cargar los mejores pesos del modelo\n",
    "\n",
    "test_loss = 0.0\n",
    "\n",
    "preds = []\n",
    "true = []\n",
    "with torch.no_grad():\n",
    "    for _ in range(len(X_test)):\n",
    "        input, labels = next(iter(X_test)), next(iter(y_test))\n",
    "        input, labels = input.to(device), labels.to(device)\n",
    "\n",
    "        outputs = model(input)  \n",
    "        loss = criterion(outputs, labels)\n",
    "        test_loss += loss.item()\n",
    "\n",
    "        preds.append(outputs.cpu().numpy())\n",
    "        true.append(labels.cpu().numpy())\n",
    "    \n",
    "test_loss /= len(X_test)\n",
    "print(f\"Test Loss: {test_loss:.4f}\")\n"
   ]
  },
  {
   "cell_type": "code",
   "execution_count": null,
   "id": "1105ca59",
   "metadata": {},
   "outputs": [
    {
     "name": "stdout",
     "output_type": "stream",
     "text": [
      "MAE: 0.11\n",
      "MSE: 0.02\n",
      "RMSE: 0.15\n",
      "R²: 0.15\n"
     ]
    }
   ],
   "source": [
    "# Metricas de evaluación\n",
    "y_pred = np.concatenate(preds).reshape(-1, 1)\n",
    "y_true = np.concatenate(true).reshape(-1, 1)\n",
    "\n",
    "mae = mean_absolute_error(y_true, y_pred)\n",
    "mse = mean_squared_error(y_true, y_pred)\n",
    "rmse = np.sqrt(mse)\n",
    "r2 = r2_score(y_true, y_pred)\n",
    "\n",
    "print(f\"MAE: {mae:.2f}\")\n",
    "print(f\"MSE: {mse:.2f}\")\n",
    "print(f\"RMSE: {rmse:.2f}\")\n",
    "print(f\"R²: {r2:.2f}\")"
   ]
  },
  {
   "cell_type": "markdown",
   "id": "b688b8b3",
   "metadata": {},
   "source": [
    "## Modelo popularidad segmentada"
   ]
  },
  {
   "cell_type": "markdown",
   "id": "ce02ada4",
   "metadata": {},
   "source": [
    "### Pre-procesado de datos"
   ]
  },
  {
   "cell_type": "code",
   "execution_count": 903,
   "id": "cc2f1adf",
   "metadata": {},
   "outputs": [],
   "source": [
    "# Eliminar las columnas de contexto de uso y Popularity del DataFrame\n",
    "temp_train = train_df.drop(columns=['Good for Party', 'Good for Work/Study', 'Good for Relaxation/Meditation',\n",
    "                                    'Good for Exercise', 'Good for Running', 'Good for Yoga/Stretching',\n",
    "                                    'Good for Driving', 'Good for Social Gatherings', 'Good for Morning Routine','Popularity'])\n",
    "temp_val = val_df.drop(columns=['Good for Party', 'Good for Work/Study', 'Good for Relaxation/Meditation',\n",
    "                                'Good for Exercise', 'Good for Running', 'Good for Yoga/Stretching',\n",
    "                                'Good for Driving', 'Good for Social Gatherings', 'Good for Morning Routine','Popularity'])\n",
    "temp_test = test_df.drop(columns=['Good for Party', 'Good for Work/Study','Good for Relaxation/Meditation',\n",
    "                                  'Good for Exercise', 'Good for Running','Good for Yoga/Stretching',\n",
    "                                  'Good for Driving', 'Good for Social Gatherings','Good for Morning Routine','Popularity'])\n",
    "\n",
    "# Convertir el DataFrame a tensores de PyTorch\n",
    "X_train = torch.tensor(temp_train.values, dtype=torch.float32)  \n",
    "X_train = DataLoader(X_train, batch_size=8578, shuffle=False)  # Crear DataLoader para el conjunto de entrenamiento\n",
    "y_train = torch.tensor(train_df['Popularity'].values, dtype=torch.float32).view(-1, 1)  # Asegurarse de que y tenga la forma correcta\n",
    "y_train = DataLoader(y_train, batch_size=8578, shuffle=False)  # Crear DataLoader para las etiquetas de entrenamiento\n",
    "\n",
    "X_val = torch.tensor(temp_val.values, dtype=torch.float32)\n",
    "X_val = DataLoader(X_val, batch_size=3938, shuffle=False)  # Crear DataLoader para el conjunto de validación\n",
    "y_val = torch.tensor(val_df['Popularity'].values, dtype=torch.float32).view(-1, 1)\n",
    "y_val = DataLoader(y_val, batch_size=3938, shuffle=False)  # Crear DataLoader para las etiquetas de validación\n",
    "\n",
    "\n",
    "X_test = torch.tensor(temp_test.values, dtype=torch.float32)\n",
    "X_test = DataLoader(X_test, batch_size=3939, shuffle=False)  # Crear DataLoader para el conjunto de prueba\n",
    "y_test = torch.tensor(test_df['Popularity'].values, dtype=torch.float32).view(-1, 1)\n",
    "y_test = DataLoader(y_test, batch_size=3939, shuffle=False)  # Crear DataLoader para las etiquetas de prueba\n"
   ]
  },
  {
   "cell_type": "code",
   "execution_count": 904,
   "id": "4a1eeff9",
   "metadata": {},
   "outputs": [
    {
     "data": {
      "text/plain": [
       "(45, 22, 21)"
      ]
     },
     "execution_count": 904,
     "metadata": {},
     "output_type": "execute_result"
    }
   ],
   "source": [
    "len(X_train), len(X_val), len(X_test)"
   ]
  },
  {
   "cell_type": "markdown",
   "id": "a155ebdc",
   "metadata": {},
   "source": [
    "### Modelo HL 2, LR 0.0005"
   ]
  },
  {
   "cell_type": "markdown",
   "id": "39bfe571",
   "metadata": {},
   "source": [
    "#### Modelo"
   ]
  },
  {
   "cell_type": "code",
   "execution_count": 905,
   "id": "38b96cea",
   "metadata": {},
   "outputs": [],
   "source": [
    "#Modelo de red neuronal\n",
    "class MLP_P(nn.Module):\n",
    "    def __init__(self, hidden_size=10, input_size=133):\n",
    "        super().__init__()\n",
    "        self.hidden_size = hidden_size\n",
    "        self.input_size = input_size\n",
    "        self.h1 = nn.Linear(in_features=input_size,out_features=self.hidden_size)\n",
    "        self.h2 = nn.Linear(in_features=self.hidden_size,out_features=self.hidden_size)\n",
    "        self.out = nn.Linear(in_features=self.hidden_size,out_features=1)\n",
    "\n",
    "        self.act = nn.ReLU()\n",
    "    def forward(self, x):\n",
    "        l1 = self.h1(x)  #de entrada a capa oculta\n",
    "        l2 = self.h2(l1)  #de capa oculta a capa oculta\n",
    "        l2 = self.act(l2)     #activación\n",
    "        output = self.out(l2)   #salida\n",
    "        return output"
   ]
  },
  {
   "cell_type": "markdown",
   "id": "8b79835c",
   "metadata": {},
   "source": [
    "#### Prueba del modelo"
   ]
  },
  {
   "cell_type": "code",
   "execution_count": 906,
   "id": "136d8a8d",
   "metadata": {},
   "outputs": [
    {
     "name": "stdout",
     "output_type": "stream",
     "text": [
      "Output shape: torch.Size([1, 1])\n",
      "----------------------------------------------------------------\n",
      "        Layer (type)               Output Shape         Param #\n",
      "================================================================\n",
      "            Linear-1                [-1, 1, 10]           1,340\n",
      "            Linear-2                [-1, 1, 10]             110\n",
      "              ReLU-3                [-1, 1, 10]               0\n",
      "            Linear-4                 [-1, 1, 1]              11\n",
      "================================================================\n",
      "Total params: 1,461\n",
      "Trainable params: 1,461\n",
      "Non-trainable params: 0\n",
      "----------------------------------------------------------------\n",
      "Input size (MB): 0.00\n",
      "Forward/backward pass size (MB): 0.00\n",
      "Params size (MB): 0.01\n",
      "Estimated Total Size (MB): 0.01\n",
      "----------------------------------------------------------------\n"
     ]
    }
   ],
   "source": [
    "# Crear modelo\n",
    "model = MLP_P()\n",
    "\n",
    "# Mover a GPU si está disponible\n",
    "device = torch.device(\"cuda\" if torch.cuda.is_available() else \"cpu\")\n",
    "model.to(device)\n",
    "\n",
    "# Crear entrada simulada \n",
    "x = torch.randn(1, 133).to(device)\n",
    "# Hacer forward pass\n",
    "with torch.no_grad():\n",
    "    output = model.forward(x)\n",
    "\n",
    "print(\"Output shape:\", output.shape)  # Debería ser [1, 1]\n",
    "\n",
    "summary(model, input_size=(1, 133))"
   ]
  },
  {
   "cell_type": "markdown",
   "id": "a02f2271",
   "metadata": {},
   "source": [
    "#### Inicialización del modelo"
   ]
  },
  {
   "cell_type": "code",
   "execution_count": 907,
   "id": "92636e11",
   "metadata": {},
   "outputs": [],
   "source": [
    "#Instanciar el modelo\n",
    "model = MLP_P(hidden_size=10, input_size=len(df.columns)-10)  # -1 porque la última columna es la de popularidad\n",
    "\n",
    "# Usar GPU si está disponible\n",
    "device = torch.device(\"cuda\" if torch.cuda.is_available() else \"cpu\")\n",
    "model = model.to(device)\n",
    "\n",
    "# Definir la función de pérdida y el optimizador\n",
    "criterion = nn.MSELoss()  # Mean Squared Error para regresión \n",
    "optimizer = torch.optim.Adam(model.parameters(), lr=0.005, weight_decay=1e-4)  # Adam optimizer"
   ]
  },
  {
   "cell_type": "markdown",
   "id": "0b4bceb3",
   "metadata": {},
   "source": [
    "#### Entrenamiento del modelo"
   ]
  },
  {
   "cell_type": "code",
   "execution_count": 908,
   "id": "de786741",
   "metadata": {},
   "outputs": [
    {
     "name": "stderr",
     "output_type": "stream",
     "text": [
      "Epoch 1: 100%|██████████| 45/45 [00:06<00:00,  6.99it/s]\n"
     ]
    },
    {
     "name": "stdout",
     "output_type": "stream",
     "text": [
      "Época 1 | Train Loss: 0.9907 | Val Loss: 0.0914\n",
      "Nuevo mínimo en loss de validación\n"
     ]
    },
    {
     "name": "stderr",
     "output_type": "stream",
     "text": [
      "Epoch 2: 100%|██████████| 45/45 [00:06<00:00,  7.21it/s]\n"
     ]
    },
    {
     "name": "stdout",
     "output_type": "stream",
     "text": [
      "Época 2 | Train Loss: 0.0574 | Val Loss: 0.0421\n",
      "Nuevo mínimo en loss de validación\n"
     ]
    },
    {
     "name": "stderr",
     "output_type": "stream",
     "text": [
      "Epoch 3: 100%|██████████| 45/45 [00:06<00:00,  7.47it/s]\n"
     ]
    },
    {
     "name": "stdout",
     "output_type": "stream",
     "text": [
      "Época 3 | Train Loss: 0.0501 | Val Loss: 0.0402\n",
      "Nuevo mínimo en loss de validación\n"
     ]
    },
    {
     "name": "stderr",
     "output_type": "stream",
     "text": [
      "Epoch 4: 100%|██████████| 45/45 [00:06<00:00,  7.36it/s]\n"
     ]
    },
    {
     "name": "stdout",
     "output_type": "stream",
     "text": [
      "Época 4 | Train Loss: 0.0473 | Val Loss: 0.0381\n",
      "Nuevo mínimo en loss de validación\n"
     ]
    },
    {
     "name": "stderr",
     "output_type": "stream",
     "text": [
      "Epoch 5: 100%|██████████| 45/45 [00:06<00:00,  7.37it/s]\n"
     ]
    },
    {
     "name": "stdout",
     "output_type": "stream",
     "text": [
      "Época 5 | Train Loss: 0.0451 | Val Loss: 0.0366\n",
      "Nuevo mínimo en loss de validación\n"
     ]
    },
    {
     "name": "stderr",
     "output_type": "stream",
     "text": [
      "Epoch 6: 100%|██████████| 45/45 [00:06<00:00,  7.14it/s]\n"
     ]
    },
    {
     "name": "stdout",
     "output_type": "stream",
     "text": [
      "Época 6 | Train Loss: 0.0434 | Val Loss: 0.0355\n",
      "Nuevo mínimo en loss de validación\n"
     ]
    },
    {
     "name": "stderr",
     "output_type": "stream",
     "text": [
      "Epoch 7: 100%|██████████| 45/45 [00:06<00:00,  7.10it/s]\n"
     ]
    },
    {
     "name": "stdout",
     "output_type": "stream",
     "text": [
      "Época 7 | Train Loss: 0.0420 | Val Loss: 0.0348\n",
      "Nuevo mínimo en loss de validación\n"
     ]
    },
    {
     "name": "stderr",
     "output_type": "stream",
     "text": [
      "Epoch 8: 100%|██████████| 45/45 [00:06<00:00,  7.44it/s]\n"
     ]
    },
    {
     "name": "stdout",
     "output_type": "stream",
     "text": [
      "Época 8 | Train Loss: 0.0410 | Val Loss: 0.0343\n",
      "Nuevo mínimo en loss de validación\n"
     ]
    },
    {
     "name": "stderr",
     "output_type": "stream",
     "text": [
      "Epoch 9: 100%|██████████| 45/45 [00:06<00:00,  6.53it/s]\n"
     ]
    },
    {
     "name": "stdout",
     "output_type": "stream",
     "text": [
      "Época 9 | Train Loss: 0.0401 | Val Loss: 0.0339\n",
      "Nuevo mínimo en loss de validación\n"
     ]
    },
    {
     "name": "stderr",
     "output_type": "stream",
     "text": [
      "Epoch 10: 100%|██████████| 45/45 [00:06<00:00,  6.97it/s]\n"
     ]
    },
    {
     "name": "stdout",
     "output_type": "stream",
     "text": [
      "Época 10 | Train Loss: 0.0394 | Val Loss: 0.0336\n",
      "Nuevo mínimo en loss de validación\n"
     ]
    },
    {
     "name": "stderr",
     "output_type": "stream",
     "text": [
      "Epoch 11: 100%|██████████| 45/45 [00:06<00:00,  7.19it/s]\n"
     ]
    },
    {
     "name": "stdout",
     "output_type": "stream",
     "text": [
      "Época 11 | Train Loss: 0.0388 | Val Loss: 0.0334\n",
      "Nuevo mínimo en loss de validación\n"
     ]
    },
    {
     "name": "stderr",
     "output_type": "stream",
     "text": [
      "Epoch 12: 100%|██████████| 45/45 [00:06<00:00,  6.73it/s]\n"
     ]
    },
    {
     "name": "stdout",
     "output_type": "stream",
     "text": [
      "Época 12 | Train Loss: 0.0382 | Val Loss: 0.0333\n",
      "Nuevo mínimo en loss de validación\n"
     ]
    },
    {
     "name": "stderr",
     "output_type": "stream",
     "text": [
      "Epoch 13: 100%|██████████| 45/45 [00:06<00:00,  7.11it/s]\n"
     ]
    },
    {
     "name": "stdout",
     "output_type": "stream",
     "text": [
      "Época 13 | Train Loss: 0.0376 | Val Loss: 0.0332\n",
      "Nuevo mínimo en loss de validación\n"
     ]
    },
    {
     "name": "stderr",
     "output_type": "stream",
     "text": [
      "Epoch 14: 100%|██████████| 45/45 [00:06<00:00,  7.33it/s]\n"
     ]
    },
    {
     "name": "stdout",
     "output_type": "stream",
     "text": [
      "Época 14 | Train Loss: 0.0372 | Val Loss: 0.0332\n",
      "Nuevo mínimo en loss de validación\n"
     ]
    },
    {
     "name": "stderr",
     "output_type": "stream",
     "text": [
      "Epoch 15: 100%|██████████| 45/45 [00:06<00:00,  7.46it/s]\n"
     ]
    },
    {
     "name": "stdout",
     "output_type": "stream",
     "text": [
      "Época 15 | Train Loss: 0.0368 | Val Loss: 0.0332\n"
     ]
    },
    {
     "name": "stderr",
     "output_type": "stream",
     "text": [
      "Epoch 16: 100%|██████████| 45/45 [00:06<00:00,  7.08it/s]\n"
     ]
    },
    {
     "name": "stdout",
     "output_type": "stream",
     "text": [
      "Época 16 | Train Loss: 0.0364 | Val Loss: 0.0332\n"
     ]
    },
    {
     "name": "stderr",
     "output_type": "stream",
     "text": [
      "Epoch 17: 100%|██████████| 45/45 [00:06<00:00,  6.89it/s]\n"
     ]
    },
    {
     "name": "stdout",
     "output_type": "stream",
     "text": [
      "Época 17 | Train Loss: 0.0361 | Val Loss: 0.0333\n"
     ]
    },
    {
     "name": "stderr",
     "output_type": "stream",
     "text": [
      "Epoch 18: 100%|██████████| 45/45 [00:06<00:00,  6.94it/s]\n"
     ]
    },
    {
     "name": "stdout",
     "output_type": "stream",
     "text": [
      "Época 18 | Train Loss: 0.0358 | Val Loss: 0.0333\n"
     ]
    },
    {
     "name": "stderr",
     "output_type": "stream",
     "text": [
      "Epoch 19: 100%|██████████| 45/45 [00:06<00:00,  7.19it/s]\n"
     ]
    },
    {
     "name": "stdout",
     "output_type": "stream",
     "text": [
      "Época 19 | Train Loss: 0.0355 | Val Loss: 0.0333\n"
     ]
    },
    {
     "name": "stderr",
     "output_type": "stream",
     "text": [
      "Epoch 20: 100%|██████████| 45/45 [00:06<00:00,  7.31it/s]\n"
     ]
    },
    {
     "name": "stdout",
     "output_type": "stream",
     "text": [
      "Época 20 | Train Loss: 0.0352 | Val Loss: 0.0333\n"
     ]
    },
    {
     "name": "stderr",
     "output_type": "stream",
     "text": [
      "Epoch 21: 100%|██████████| 45/45 [00:06<00:00,  7.01it/s]\n"
     ]
    },
    {
     "name": "stdout",
     "output_type": "stream",
     "text": [
      "Época 21 | Train Loss: 0.0350 | Val Loss: 0.0332\n"
     ]
    },
    {
     "name": "stderr",
     "output_type": "stream",
     "text": [
      "Epoch 22: 100%|██████████| 45/45 [00:06<00:00,  6.95it/s]\n"
     ]
    },
    {
     "name": "stdout",
     "output_type": "stream",
     "text": [
      "Época 22 | Train Loss: 0.0348 | Val Loss: 0.0332\n",
      "Nuevo mínimo en loss de validación\n"
     ]
    },
    {
     "name": "stderr",
     "output_type": "stream",
     "text": [
      "Epoch 23: 100%|██████████| 45/45 [00:06<00:00,  7.04it/s]\n"
     ]
    },
    {
     "name": "stdout",
     "output_type": "stream",
     "text": [
      "Época 23 | Train Loss: 0.0345 | Val Loss: 0.0331\n",
      "Nuevo mínimo en loss de validación\n"
     ]
    },
    {
     "name": "stderr",
     "output_type": "stream",
     "text": [
      "Epoch 24: 100%|██████████| 45/45 [00:06<00:00,  7.18it/s]\n"
     ]
    },
    {
     "name": "stdout",
     "output_type": "stream",
     "text": [
      "Época 24 | Train Loss: 0.0343 | Val Loss: 0.0330\n",
      "Nuevo mínimo en loss de validación\n"
     ]
    },
    {
     "name": "stderr",
     "output_type": "stream",
     "text": [
      "Epoch 25: 100%|██████████| 45/45 [00:06<00:00,  6.80it/s]\n"
     ]
    },
    {
     "name": "stdout",
     "output_type": "stream",
     "text": [
      "Época 25 | Train Loss: 0.0341 | Val Loss: 0.0329\n",
      "Nuevo mínimo en loss de validación\n"
     ]
    },
    {
     "name": "stderr",
     "output_type": "stream",
     "text": [
      "Epoch 26: 100%|██████████| 45/45 [00:06<00:00,  7.25it/s]\n"
     ]
    },
    {
     "name": "stdout",
     "output_type": "stream",
     "text": [
      "Época 26 | Train Loss: 0.0339 | Val Loss: 0.0328\n",
      "Nuevo mínimo en loss de validación\n"
     ]
    },
    {
     "name": "stderr",
     "output_type": "stream",
     "text": [
      "Epoch 27: 100%|██████████| 45/45 [00:06<00:00,  7.11it/s]\n"
     ]
    },
    {
     "name": "stdout",
     "output_type": "stream",
     "text": [
      "Época 27 | Train Loss: 0.0337 | Val Loss: 0.0327\n",
      "Nuevo mínimo en loss de validación\n"
     ]
    },
    {
     "name": "stderr",
     "output_type": "stream",
     "text": [
      "Epoch 28: 100%|██████████| 45/45 [00:06<00:00,  6.78it/s]\n"
     ]
    },
    {
     "name": "stdout",
     "output_type": "stream",
     "text": [
      "Época 28 | Train Loss: 0.0335 | Val Loss: 0.0326\n",
      "Nuevo mínimo en loss de validación\n"
     ]
    },
    {
     "name": "stderr",
     "output_type": "stream",
     "text": [
      "Epoch 29: 100%|██████████| 45/45 [00:06<00:00,  7.36it/s]\n"
     ]
    },
    {
     "name": "stdout",
     "output_type": "stream",
     "text": [
      "Época 29 | Train Loss: 0.0333 | Val Loss: 0.0325\n",
      "Nuevo mínimo en loss de validación\n"
     ]
    },
    {
     "name": "stderr",
     "output_type": "stream",
     "text": [
      "Epoch 30: 100%|██████████| 45/45 [00:06<00:00,  7.08it/s]\n"
     ]
    },
    {
     "name": "stdout",
     "output_type": "stream",
     "text": [
      "Época 30 | Train Loss: 0.0331 | Val Loss: 0.0325\n",
      "Nuevo mínimo en loss de validación\n"
     ]
    },
    {
     "name": "stderr",
     "output_type": "stream",
     "text": [
      "Epoch 31: 100%|██████████| 45/45 [00:06<00:00,  6.63it/s]\n"
     ]
    },
    {
     "name": "stdout",
     "output_type": "stream",
     "text": [
      "Época 31 | Train Loss: 0.0330 | Val Loss: 0.0324\n",
      "Nuevo mínimo en loss de validación\n"
     ]
    },
    {
     "name": "stderr",
     "output_type": "stream",
     "text": [
      "Epoch 32: 100%|██████████| 45/45 [00:06<00:00,  7.30it/s]\n"
     ]
    },
    {
     "name": "stdout",
     "output_type": "stream",
     "text": [
      "Época 32 | Train Loss: 0.0328 | Val Loss: 0.0323\n",
      "Nuevo mínimo en loss de validación\n"
     ]
    },
    {
     "name": "stderr",
     "output_type": "stream",
     "text": [
      "Epoch 33: 100%|██████████| 45/45 [00:05<00:00,  7.64it/s]\n"
     ]
    },
    {
     "name": "stdout",
     "output_type": "stream",
     "text": [
      "Época 33 | Train Loss: 0.0327 | Val Loss: 0.0322\n",
      "Nuevo mínimo en loss de validación\n"
     ]
    },
    {
     "name": "stderr",
     "output_type": "stream",
     "text": [
      "Epoch 34: 100%|██████████| 45/45 [00:06<00:00,  6.79it/s]\n"
     ]
    },
    {
     "name": "stdout",
     "output_type": "stream",
     "text": [
      "Época 34 | Train Loss: 0.0326 | Val Loss: 0.0322\n",
      "Nuevo mínimo en loss de validación\n"
     ]
    },
    {
     "name": "stderr",
     "output_type": "stream",
     "text": [
      "Epoch 35: 100%|██████████| 45/45 [00:06<00:00,  6.75it/s]\n"
     ]
    },
    {
     "name": "stdout",
     "output_type": "stream",
     "text": [
      "Época 35 | Train Loss: 0.0324 | Val Loss: 0.0321\n",
      "Nuevo mínimo en loss de validación\n"
     ]
    },
    {
     "name": "stderr",
     "output_type": "stream",
     "text": [
      "Epoch 36: 100%|██████████| 45/45 [00:07<00:00,  6.33it/s]\n"
     ]
    },
    {
     "name": "stdout",
     "output_type": "stream",
     "text": [
      "Época 36 | Train Loss: 0.0323 | Val Loss: 0.0321\n",
      "Nuevo mínimo en loss de validación\n"
     ]
    },
    {
     "name": "stderr",
     "output_type": "stream",
     "text": [
      "Epoch 37: 100%|██████████| 45/45 [00:07<00:00,  6.29it/s]\n"
     ]
    },
    {
     "name": "stdout",
     "output_type": "stream",
     "text": [
      "Época 37 | Train Loss: 0.0322 | Val Loss: 0.0320\n",
      "Nuevo mínimo en loss de validación\n"
     ]
    },
    {
     "name": "stderr",
     "output_type": "stream",
     "text": [
      "Epoch 38: 100%|██████████| 45/45 [00:07<00:00,  6.20it/s]\n"
     ]
    },
    {
     "name": "stdout",
     "output_type": "stream",
     "text": [
      "Época 38 | Train Loss: 0.0321 | Val Loss: 0.0320\n",
      "Nuevo mínimo en loss de validación\n"
     ]
    },
    {
     "name": "stderr",
     "output_type": "stream",
     "text": [
      "Epoch 39: 100%|██████████| 45/45 [00:06<00:00,  6.47it/s]\n"
     ]
    },
    {
     "name": "stdout",
     "output_type": "stream",
     "text": [
      "Época 39 | Train Loss: 0.0320 | Val Loss: 0.0320\n",
      "Nuevo mínimo en loss de validación\n"
     ]
    },
    {
     "name": "stderr",
     "output_type": "stream",
     "text": [
      "Epoch 40: 100%|██████████| 45/45 [00:07<00:00,  5.95it/s]\n"
     ]
    },
    {
     "name": "stdout",
     "output_type": "stream",
     "text": [
      "Época 40 | Train Loss: 0.0320 | Val Loss: 0.0320\n",
      "Nuevo mínimo en loss de validación\n"
     ]
    },
    {
     "name": "stderr",
     "output_type": "stream",
     "text": [
      "Epoch 41: 100%|██████████| 45/45 [00:06<00:00,  6.44it/s]\n"
     ]
    },
    {
     "name": "stdout",
     "output_type": "stream",
     "text": [
      "Época 41 | Train Loss: 0.0319 | Val Loss: 0.0320\n",
      "Nuevo mínimo en loss de validación\n"
     ]
    },
    {
     "name": "stderr",
     "output_type": "stream",
     "text": [
      "Epoch 42: 100%|██████████| 45/45 [00:06<00:00,  6.54it/s]\n"
     ]
    },
    {
     "name": "stdout",
     "output_type": "stream",
     "text": [
      "Época 42 | Train Loss: 0.0318 | Val Loss: 0.0320\n"
     ]
    },
    {
     "name": "stderr",
     "output_type": "stream",
     "text": [
      "Epoch 43: 100%|██████████| 45/45 [00:07<00:00,  6.13it/s]\n"
     ]
    },
    {
     "name": "stdout",
     "output_type": "stream",
     "text": [
      "Época 43 | Train Loss: 0.0317 | Val Loss: 0.0320\n"
     ]
    },
    {
     "name": "stderr",
     "output_type": "stream",
     "text": [
      "Epoch 44: 100%|██████████| 45/45 [00:07<00:00,  5.68it/s]\n"
     ]
    },
    {
     "name": "stdout",
     "output_type": "stream",
     "text": [
      "Época 44 | Train Loss: 0.0317 | Val Loss: 0.0320\n"
     ]
    },
    {
     "name": "stderr",
     "output_type": "stream",
     "text": [
      "Epoch 45: 100%|██████████| 45/45 [00:07<00:00,  6.10it/s]\n"
     ]
    },
    {
     "name": "stdout",
     "output_type": "stream",
     "text": [
      "Época 45 | Train Loss: 0.0316 | Val Loss: 0.0320\n"
     ]
    },
    {
     "name": "stderr",
     "output_type": "stream",
     "text": [
      "Epoch 46: 100%|██████████| 45/45 [00:07<00:00,  5.83it/s]\n"
     ]
    },
    {
     "name": "stdout",
     "output_type": "stream",
     "text": [
      "Época 46 | Train Loss: 0.0315 | Val Loss: 0.0321\n"
     ]
    },
    {
     "name": "stderr",
     "output_type": "stream",
     "text": [
      "Epoch 47: 100%|██████████| 45/45 [00:08<00:00,  5.56it/s]\n"
     ]
    },
    {
     "name": "stdout",
     "output_type": "stream",
     "text": [
      "Época 47 | Train Loss: 0.0315 | Val Loss: 0.0321\n"
     ]
    },
    {
     "name": "stderr",
     "output_type": "stream",
     "text": [
      "Epoch 48: 100%|██████████| 45/45 [00:07<00:00,  6.07it/s]\n"
     ]
    },
    {
     "name": "stdout",
     "output_type": "stream",
     "text": [
      "Época 48 | Train Loss: 0.0314 | Val Loss: 0.0321\n"
     ]
    },
    {
     "name": "stderr",
     "output_type": "stream",
     "text": [
      "Epoch 49: 100%|██████████| 45/45 [00:07<00:00,  6.24it/s]\n"
     ]
    },
    {
     "name": "stdout",
     "output_type": "stream",
     "text": [
      "Época 49 | Train Loss: 0.0313 | Val Loss: 0.0321\n"
     ]
    },
    {
     "name": "stderr",
     "output_type": "stream",
     "text": [
      "Epoch 50: 100%|██████████| 45/45 [00:07<00:00,  5.80it/s]\n"
     ]
    },
    {
     "name": "stdout",
     "output_type": "stream",
     "text": [
      "Época 50 | Train Loss: 0.0313 | Val Loss: 0.0322\n"
     ]
    },
    {
     "name": "stderr",
     "output_type": "stream",
     "text": [
      "Epoch 51: 100%|██████████| 45/45 [00:06<00:00,  6.54it/s]\n"
     ]
    },
    {
     "name": "stdout",
     "output_type": "stream",
     "text": [
      "Época 51 | Train Loss: 0.0312 | Val Loss: 0.0322\n",
      "Early stopping triggered\n"
     ]
    }
   ],
   "source": [
    "#Loop de entrenamiento\n",
    "epoch = 0\n",
    "patience= 10\n",
    "best_epoch = 0\n",
    "best_model = None\n",
    "\n",
    "batchs_per_epoch = 45\n",
    "\n",
    "train_losses = []\n",
    "val_losses = []\n",
    "best_val_loss = float('inf')\n",
    "\n",
    "while True:   \n",
    "    # Entrenamiento \n",
    "    model.train()\n",
    "    running_loss = 0.0\n",
    "    for _ in tqdm(range(batchs_per_epoch), desc=f\"Epoch {epoch+1}\"):\n",
    "        input, labels = next(iter(X_train)), next(iter(y_train))  # Obtener un batch de datos\n",
    "        input, labels = input.to(device), labels.to(device)\n",
    "\n",
    "        optimizer.zero_grad()\n",
    "\n",
    "        # Salidas \n",
    "        output = model(input)\n",
    "\n",
    "        # Pérdida combinada\n",
    "        loss = criterion(output, labels)\n",
    "\n",
    "        loss.backward()\n",
    "        optimizer.step()\n",
    "        running_loss += loss.item()\n",
    "\n",
    "    train_losses.append(running_loss / len(X_train))\n",
    "\n",
    "    # Validación\n",
    "    model.eval()\n",
    "    val_loss = 0.0\n",
    "\n",
    "    with torch.no_grad():\n",
    "        for _ in range(len(X_val)):\n",
    "            input, labels = next(iter(X_val)), next(iter(y_val))\n",
    "            input, labels = input.to(device), labels.to(device)\n",
    "\n",
    "            # Solo predicción principal en validación\n",
    "            outputs = model(input)  \n",
    "            loss = criterion(outputs, labels)\n",
    "            val_loss += loss.item()\n",
    "\n",
    "    val_losses.append(val_loss / len(X_val))\n",
    "    print(f\"Época {epoch+1} | Train Loss: {train_losses[-1]:.4f} | Val Loss: {val_losses[-1]:.4f}\")\n",
    "    \n",
    "    # Early stopping\n",
    "    if best_val_loss > (val_loss / len(X_val)):\n",
    "        patience = 10\n",
    "        best_val_loss = val_loss / len(X_val)\n",
    "        best_epoch = epoch + 1\n",
    "        best_model = model.state_dict()\n",
    "        torch.save(best_model, './MejoresPesos/best_model_MLP_P.pth')\n",
    "        print(f\"Nuevo mínimo en loss de validación\")   \n",
    "    else:\n",
    "        patience -= 1\n",
    "        if patience <= 0:\n",
    "            print(\"Early stopping triggered\")\n",
    "            break\n",
    "    epoch += 1"
   ]
  },
  {
   "cell_type": "code",
   "execution_count": 909,
   "id": "dc8f0de8",
   "metadata": {},
   "outputs": [
    {
     "data": {
      "image/png": "[encoded data removed]",
      "text/plain": [
       "<Figure size 640x480 with 1 Axes>"
      ]
     },
     "metadata": {},
     "output_type": "display_data"
    }
   ],
   "source": [
    "# Grafica de las curvas de pérdida\n",
    "plt.plot(train_losses, label='Train Loss')\n",
    "plt.plot(val_losses, label='Val Loss')\n",
    "plt.xlabel('Épocas')\n",
    "plt.ylabel('Pérdida')\n",
    "plt.legend()\n",
    "plt.title('Curva de pérdida')\n",
    "plt.ylim(0, 1)\n",
    "plt.show()"
   ]
  },
  {
   "cell_type": "markdown",
   "id": "05be23e8",
   "metadata": {},
   "source": [
    "#### Testeo del modelo"
   ]
  },
  {
   "cell_type": "code",
   "execution_count": 910,
   "id": "fbd02d7e",
   "metadata": {},
   "outputs": [
    {
     "name": "stdout",
     "output_type": "stream",
     "text": [
      "Test Loss: 0.0246\n"
     ]
    }
   ],
   "source": [
    "# Evaluación del modelo en el conjunto de test\n",
    "model.eval()\n",
    "model.load_state_dict(torch.load('./MejoresPesos/best_model_MLP_P.pth'))  # Cargar los mejores pesos del modelo\n",
    "\n",
    "test_loss = 0.0\n",
    "\n",
    "preds = []\n",
    "true = []\n",
    "with torch.no_grad():\n",
    "    for _ in range(len(X_test)):\n",
    "        input, labels = next(iter(X_test)), next(iter(y_test))\n",
    "        input, labels = input.to(device), labels.to(device)\n",
    "\n",
    "        outputs = model(input)  \n",
    "        loss = criterion(outputs, labels)\n",
    "        test_loss += loss.item()\n",
    "\n",
    "        preds.append(outputs.cpu().numpy())\n",
    "        true.append(labels.cpu().numpy())\n",
    "    \n",
    "test_loss /= len(X_test)\n",
    "print(f\"Test Loss: {test_loss:.4f}\")\n"
   ]
  },
  {
   "cell_type": "code",
   "execution_count": 911,
   "id": "d921b092",
   "metadata": {},
   "outputs": [
    {
     "name": "stdout",
     "output_type": "stream",
     "text": [
      "MAE: 0.12\n",
      "MSE: 0.02\n",
      "RMSE: 0.16\n",
      "R²: 0.00\n"
     ]
    }
   ],
   "source": [
    "# Metricas de evaluación\n",
    "y_pred = np.concatenate(preds).reshape(-1, 1)\n",
    "y_true = np.concatenate(true).reshape(-1, 1)\n",
    "\n",
    "mae = mean_absolute_error(y_true, y_pred)\n",
    "mse = mean_squared_error(y_true, y_pred)\n",
    "rmse = np.sqrt(mse)\n",
    "r2 = r2_score(y_true, y_pred)\n",
    "\n",
    "print(f\"MAE: {mae:.2f}\")\n",
    "print(f\"MSE: {mse:.2f}\")\n",
    "print(f\"RMSE: {rmse:.2f}\")\n",
    "print(f\"R²: {r2:.2f}\")"
   ]
  },
  {
   "cell_type": "markdown",
   "id": "33019e43",
   "metadata": {},
   "source": [
    "### Modelo HL 3, LR 0.0005"
   ]
  },
  {
   "cell_type": "markdown",
   "id": "29ae143d",
   "metadata": {},
   "source": [
    "#### Modelo"
   ]
  },
  {
   "cell_type": "code",
   "execution_count": 912,
   "id": "1f5ff57c",
   "metadata": {},
   "outputs": [],
   "source": [
    "#Modelo de red neuronal\n",
    "class MLP_P3(nn.Module):\n",
    "    def __init__(self, hidden_size=10, input_size=133):\n",
    "        super().__init__()\n",
    "        self.hidden_size = hidden_size\n",
    "        self.input_size = input_size\n",
    "        self.h1 = nn.Linear(in_features=input_size,out_features=self.hidden_size)\n",
    "        self.h2 = nn.Linear(in_features=self.hidden_size,out_features=self.hidden_size)\n",
    "        self.h3 = nn.Linear(in_features=self.hidden_size,out_features=self.hidden_size)\n",
    "        self.out = nn.Linear(in_features=self.hidden_size,out_features=1)\n",
    "\n",
    "        self.act = nn.ReLU()\n",
    "    def forward(self, x):\n",
    "        l1 = self.h1(x)  #de entrada a capa oculta\n",
    "        l2 = self.h2(l1)  #de capa oculta a capa oculta\n",
    "        l3 = self.h2(l2)  #de capa oculta a capa oculta\n",
    "        l3 = self.act(l3)     #activación\n",
    "        output = self.out(l3)   #salida\n",
    "        return output"
   ]
  },
  {
   "cell_type": "markdown",
   "id": "786344a6",
   "metadata": {},
   "source": [
    "#### Prueba del modelo"
   ]
  },
  {
   "cell_type": "code",
   "execution_count": 913,
   "id": "60e37d3f",
   "metadata": {},
   "outputs": [
    {
     "name": "stdout",
     "output_type": "stream",
     "text": [
      "Output shape: torch.Size([1, 1])\n",
      "----------------------------------------------------------------\n",
      "        Layer (type)               Output Shape         Param #\n",
      "================================================================\n",
      "            Linear-1                [-1, 1, 10]           1,340\n",
      "            Linear-2                [-1, 1, 10]             110\n",
      "            Linear-3                [-1, 1, 10]             110\n",
      "              ReLU-4                [-1, 1, 10]               0\n",
      "            Linear-5                 [-1, 1, 1]              11\n",
      "================================================================\n",
      "Total params: 1,571\n",
      "Trainable params: 1,571\n",
      "Non-trainable params: 0\n",
      "----------------------------------------------------------------\n",
      "Input size (MB): 0.00\n",
      "Forward/backward pass size (MB): 0.00\n",
      "Params size (MB): 0.01\n",
      "Estimated Total Size (MB): 0.01\n",
      "----------------------------------------------------------------\n"
     ]
    }
   ],
   "source": [
    "# Crear modelo\n",
    "model = MLP_P3()\n",
    "\n",
    "# Mover a GPU si está disponible\n",
    "device = torch.device(\"cuda\" if torch.cuda.is_available() else \"cpu\")\n",
    "model.to(device)\n",
    "\n",
    "# Crear entrada simulada \n",
    "x = torch.randn(1, 133).to(device)\n",
    "# Hacer forward pass\n",
    "with torch.no_grad():\n",
    "    output = model.forward(x)\n",
    "\n",
    "print(\"Output shape:\", output.shape)  # Debería ser [1, 1]\n",
    "\n",
    "summary(model, input_size=(1, 133))"
   ]
  },
  {
   "cell_type": "markdown",
   "id": "800d94ec",
   "metadata": {},
   "source": [
    "#### Inicialización del modelo"
   ]
  },
  {
   "cell_type": "code",
   "execution_count": 914,
   "id": "f6d913b3",
   "metadata": {},
   "outputs": [],
   "source": [
    "# Instanciar el modelo\n",
    "model = MLP_P3(hidden_size=7, input_size=len(df.columns)-1)  # -1 porque la última columna es la de popularidad\n",
    "\n",
    "# Usar GPU si está disponible\n",
    "device = torch.device(\"cuda\" if torch.cuda.is_available() else \"cpu\")\n",
    "model = model.to(device)\n",
    "\n",
    "# Definir la función de pérdida y el optimizador\n",
    "criterion = nn.MSELoss()  # Mean Squared Error para regresión \n",
    "optimizer = torch.optim.Adam(model.parameters(), lr=0.005, weight_decay=1e-4)  # Adam optimizer\n"
   ]
  },
  {
   "cell_type": "markdown",
   "id": "24a9281c",
   "metadata": {},
   "source": [
    "#### Entrenamiento del modelo"
   ]
  },
  {
   "cell_type": "code",
   "execution_count": 915,
   "id": "e3572717",
   "metadata": {},
   "outputs": [
    {
     "name": "stderr",
     "output_type": "stream",
     "text": [
      "Epoch 1:   0%|          | 0/45 [00:00<?, ?it/s]\n"
     ]
    },
    {
     "ename": "RuntimeError",
     "evalue": "mat1 and mat2 shapes cannot be multiplied (8578x132 and 141x7)",
     "output_type": "error",
     "traceback": [
      "\u001b[31m---------------------------------------------------------------------------\u001b[39m",
      "\u001b[31mRuntimeError\u001b[39m                              Traceback (most recent call last)",
      "\u001b[36mCell\u001b[39m\u001b[36m \u001b[39m\u001b[32mIn[915]\u001b[39m\u001b[32m, line 24\u001b[39m\n\u001b[32m     21\u001b[39m optimizer.zero_grad()\n\u001b[32m     23\u001b[39m \u001b[38;5;66;03m# Salidas \u001b[39;00m\n\u001b[32m---> \u001b[39m\u001b[32m24\u001b[39m output = \u001b[43mmodel\u001b[49m\u001b[43m(\u001b[49m\u001b[38;5;28;43minput\u001b[39;49m\u001b[43m)\u001b[49m\n\u001b[32m     26\u001b[39m \u001b[38;5;66;03m# Pérdida combinada\u001b[39;00m\n\u001b[32m     27\u001b[39m loss = criterion(output, labels)\n",
      "\u001b[36mFile \u001b[39m\u001b[32mc:\\Users\\sebag\\AppData\\Local\\Programs\\Python\\Python313\\Lib\\site-packages\\torch\\nn\\modules\\module.py:1739\u001b[39m, in \u001b[36mModule._wrapped_call_impl\u001b[39m\u001b[34m(self, *args, **kwargs)\u001b[39m\n\u001b[32m   1737\u001b[39m     \u001b[38;5;28;01mreturn\u001b[39;00m \u001b[38;5;28mself\u001b[39m._compiled_call_impl(*args, **kwargs)  \u001b[38;5;66;03m# type: ignore[misc]\u001b[39;00m\n\u001b[32m   1738\u001b[39m \u001b[38;5;28;01melse\u001b[39;00m:\n\u001b[32m-> \u001b[39m\u001b[32m1739\u001b[39m     \u001b[38;5;28;01mreturn\u001b[39;00m \u001b[38;5;28;43mself\u001b[39;49m\u001b[43m.\u001b[49m\u001b[43m_call_impl\u001b[49m\u001b[43m(\u001b[49m\u001b[43m*\u001b[49m\u001b[43margs\u001b[49m\u001b[43m,\u001b[49m\u001b[43m \u001b[49m\u001b[43m*\u001b[49m\u001b[43m*\u001b[49m\u001b[43mkwargs\u001b[49m\u001b[43m)\u001b[49m\n",
      "\u001b[36mFile \u001b[39m\u001b[32mc:\\Users\\sebag\\AppData\\Local\\Programs\\Python\\Python313\\Lib\\site-packages\\torch\\nn\\modules\\module.py:1750\u001b[39m, in \u001b[36mModule._call_impl\u001b[39m\u001b[34m(self, *args, **kwargs)\u001b[39m\n\u001b[32m   1745\u001b[39m \u001b[38;5;66;03m# If we don't have any hooks, we want to skip the rest of the logic in\u001b[39;00m\n\u001b[32m   1746\u001b[39m \u001b[38;5;66;03m# this function, and just call forward.\u001b[39;00m\n\u001b[32m   1747\u001b[39m \u001b[38;5;28;01mif\u001b[39;00m \u001b[38;5;129;01mnot\u001b[39;00m (\u001b[38;5;28mself\u001b[39m._backward_hooks \u001b[38;5;129;01mor\u001b[39;00m \u001b[38;5;28mself\u001b[39m._backward_pre_hooks \u001b[38;5;129;01mor\u001b[39;00m \u001b[38;5;28mself\u001b[39m._forward_hooks \u001b[38;5;129;01mor\u001b[39;00m \u001b[38;5;28mself\u001b[39m._forward_pre_hooks\n\u001b[32m   1748\u001b[39m         \u001b[38;5;129;01mor\u001b[39;00m _global_backward_pre_hooks \u001b[38;5;129;01mor\u001b[39;00m _global_backward_hooks\n\u001b[32m   1749\u001b[39m         \u001b[38;5;129;01mor\u001b[39;00m _global_forward_hooks \u001b[38;5;129;01mor\u001b[39;00m _global_forward_pre_hooks):\n\u001b[32m-> \u001b[39m\u001b[32m1750\u001b[39m     \u001b[38;5;28;01mreturn\u001b[39;00m \u001b[43mforward_call\u001b[49m\u001b[43m(\u001b[49m\u001b[43m*\u001b[49m\u001b[43margs\u001b[49m\u001b[43m,\u001b[49m\u001b[43m \u001b[49m\u001b[43m*\u001b[49m\u001b[43m*\u001b[49m\u001b[43mkwargs\u001b[49m\u001b[43m)\u001b[49m\n\u001b[32m   1752\u001b[39m result = \u001b[38;5;28;01mNone\u001b[39;00m\n\u001b[32m   1753\u001b[39m called_always_called_hooks = \u001b[38;5;28mset\u001b[39m()\n",
      "\u001b[36mCell\u001b[39m\u001b[36m \u001b[39m\u001b[32mIn[912]\u001b[39m\u001b[32m, line 14\u001b[39m, in \u001b[36mMLP_P3.forward\u001b[39m\u001b[34m(self, x)\u001b[39m\n\u001b[32m     13\u001b[39m \u001b[38;5;28;01mdef\u001b[39;00m\u001b[38;5;250m \u001b[39m\u001b[34mforward\u001b[39m(\u001b[38;5;28mself\u001b[39m, x):\n\u001b[32m---> \u001b[39m\u001b[32m14\u001b[39m     l1 = \u001b[38;5;28;43mself\u001b[39;49m\u001b[43m.\u001b[49m\u001b[43mh1\u001b[49m\u001b[43m(\u001b[49m\u001b[43mx\u001b[49m\u001b[43m)\u001b[49m  \u001b[38;5;66;03m#de entrada a capa oculta\u001b[39;00m\n\u001b[32m     15\u001b[39m     l2 = \u001b[38;5;28mself\u001b[39m.h2(l1)  \u001b[38;5;66;03m#de capa oculta a capa oculta\u001b[39;00m\n\u001b[32m     16\u001b[39m     l3 = \u001b[38;5;28mself\u001b[39m.h2(l2)  \u001b[38;5;66;03m#de capa oculta a capa oculta\u001b[39;00m\n",
      "\u001b[36mFile \u001b[39m\u001b[32mc:\\Users\\sebag\\AppData\\Local\\Programs\\Python\\Python313\\Lib\\site-packages\\torch\\nn\\modules\\module.py:1739\u001b[39m, in \u001b[36mModule._wrapped_call_impl\u001b[39m\u001b[34m(self, *args, **kwargs)\u001b[39m\n\u001b[32m   1737\u001b[39m     \u001b[38;5;28;01mreturn\u001b[39;00m \u001b[38;5;28mself\u001b[39m._compiled_call_impl(*args, **kwargs)  \u001b[38;5;66;03m# type: ignore[misc]\u001b[39;00m\n\u001b[32m   1738\u001b[39m \u001b[38;5;28;01melse\u001b[39;00m:\n\u001b[32m-> \u001b[39m\u001b[32m1739\u001b[39m     \u001b[38;5;28;01mreturn\u001b[39;00m \u001b[38;5;28;43mself\u001b[39;49m\u001b[43m.\u001b[49m\u001b[43m_call_impl\u001b[49m\u001b[43m(\u001b[49m\u001b[43m*\u001b[49m\u001b[43margs\u001b[49m\u001b[43m,\u001b[49m\u001b[43m \u001b[49m\u001b[43m*\u001b[49m\u001b[43m*\u001b[49m\u001b[43mkwargs\u001b[49m\u001b[43m)\u001b[49m\n",
      "\u001b[36mFile \u001b[39m\u001b[32mc:\\Users\\sebag\\AppData\\Local\\Programs\\Python\\Python313\\Lib\\site-packages\\torch\\nn\\modules\\module.py:1750\u001b[39m, in \u001b[36mModule._call_impl\u001b[39m\u001b[34m(self, *args, **kwargs)\u001b[39m\n\u001b[32m   1745\u001b[39m \u001b[38;5;66;03m# If we don't have any hooks, we want to skip the rest of the logic in\u001b[39;00m\n\u001b[32m   1746\u001b[39m \u001b[38;5;66;03m# this function, and just call forward.\u001b[39;00m\n\u001b[32m   1747\u001b[39m \u001b[38;5;28;01mif\u001b[39;00m \u001b[38;5;129;01mnot\u001b[39;00m (\u001b[38;5;28mself\u001b[39m._backward_hooks \u001b[38;5;129;01mor\u001b[39;00m \u001b[38;5;28mself\u001b[39m._backward_pre_hooks \u001b[38;5;129;01mor\u001b[39;00m \u001b[38;5;28mself\u001b[39m._forward_hooks \u001b[38;5;129;01mor\u001b[39;00m \u001b[38;5;28mself\u001b[39m._forward_pre_hooks\n\u001b[32m   1748\u001b[39m         \u001b[38;5;129;01mor\u001b[39;00m _global_backward_pre_hooks \u001b[38;5;129;01mor\u001b[39;00m _global_backward_hooks\n\u001b[32m   1749\u001b[39m         \u001b[38;5;129;01mor\u001b[39;00m _global_forward_hooks \u001b[38;5;129;01mor\u001b[39;00m _global_forward_pre_hooks):\n\u001b[32m-> \u001b[39m\u001b[32m1750\u001b[39m     \u001b[38;5;28;01mreturn\u001b[39;00m \u001b[43mforward_call\u001b[49m\u001b[43m(\u001b[49m\u001b[43m*\u001b[49m\u001b[43margs\u001b[49m\u001b[43m,\u001b[49m\u001b[43m \u001b[49m\u001b[43m*\u001b[49m\u001b[43m*\u001b[49m\u001b[43mkwargs\u001b[49m\u001b[43m)\u001b[49m\n\u001b[32m   1752\u001b[39m result = \u001b[38;5;28;01mNone\u001b[39;00m\n\u001b[32m   1753\u001b[39m called_always_called_hooks = \u001b[38;5;28mset\u001b[39m()\n",
      "\u001b[36mFile \u001b[39m\u001b[32mc:\\Users\\sebag\\AppData\\Local\\Programs\\Python\\Python313\\Lib\\site-packages\\torch\\nn\\modules\\linear.py:125\u001b[39m, in \u001b[36mLinear.forward\u001b[39m\u001b[34m(self, input)\u001b[39m\n\u001b[32m    124\u001b[39m \u001b[38;5;28;01mdef\u001b[39;00m\u001b[38;5;250m \u001b[39m\u001b[34mforward\u001b[39m(\u001b[38;5;28mself\u001b[39m, \u001b[38;5;28minput\u001b[39m: Tensor) -> Tensor:\n\u001b[32m--> \u001b[39m\u001b[32m125\u001b[39m     \u001b[38;5;28;01mreturn\u001b[39;00m \u001b[43mF\u001b[49m\u001b[43m.\u001b[49m\u001b[43mlinear\u001b[49m\u001b[43m(\u001b[49m\u001b[38;5;28;43minput\u001b[39;49m\u001b[43m,\u001b[49m\u001b[43m \u001b[49m\u001b[38;5;28;43mself\u001b[39;49m\u001b[43m.\u001b[49m\u001b[43mweight\u001b[49m\u001b[43m,\u001b[49m\u001b[43m \u001b[49m\u001b[38;5;28;43mself\u001b[39;49m\u001b[43m.\u001b[49m\u001b[43mbias\u001b[49m\u001b[43m)\u001b[49m\n",
      "\u001b[31mRuntimeError\u001b[39m: mat1 and mat2 shapes cannot be multiplied (8578x132 and 141x7)"
     ]
    }
   ],
   "source": [
    "#Loop de entrenamiento\n",
    "epoch = 0\n",
    "patience=10\n",
    "best_epoch = 0\n",
    "best_model = None\n",
    "\n",
    "batchs_per_epoch = 45\n",
    "\n",
    "train_losses = []\n",
    "val_losses = []\n",
    "best_val_loss = float('inf')\n",
    "\n",
    "while True:\n",
    "    # Entrenamiento    \n",
    "    model.train()\n",
    "    running_loss = 0.0\n",
    "    for _ in tqdm(range(batchs_per_epoch), desc=f\"Epoch {epoch+1}\"):\n",
    "        input, labels = next(iter(X_train)), next(iter(y_train))  # Obtener un batch de datos\n",
    "        input, labels = input.to(device), labels.to(device)\n",
    "\n",
    "        optimizer.zero_grad()\n",
    "\n",
    "        # Salidas \n",
    "        output = model(input)\n",
    "\n",
    "        # Pérdida combinada\n",
    "        loss = criterion(output, labels)\n",
    "\n",
    "        loss.backward()\n",
    "        optimizer.step()\n",
    "        running_loss += loss.item()\n",
    "\n",
    "    train_losses.append(running_loss / len(X_train))\n",
    "\n",
    "    # Validación\n",
    "    model.eval()\n",
    "    val_loss = 0.0\n",
    "\n",
    "    with torch.no_grad():\n",
    "        for _ in range(len(X_val)):\n",
    "            input, labels = next(iter(X_val)), next(iter(y_val))\n",
    "            input, labels = input.to(device), labels.to(device)\n",
    "\n",
    "            # Solo predicción principal en validación\n",
    "            outputs = model(input)  \n",
    "            loss = criterion(outputs, labels)\n",
    "            val_loss += loss.item()\n",
    "\n",
    "    val_losses.append(val_loss / len(X_val))\n",
    "    print(f\"Época {epoch+1} | Train Loss: {train_losses[-1]:.4f} | Val Loss: {val_losses[-1]:.4f}\")\n",
    "    \n",
    "    # Early stopping\n",
    "    if best_val_loss > (val_loss / len(X_val)):\n",
    "        patience = 10\n",
    "        best_val_loss = val_loss / len(X_val)\n",
    "        best_epoch = epoch + 1\n",
    "        best_model = model.state_dict()\n",
    "        torch.save(best_model, './MejoresPesos/best_model_MLP_P3.pth')\n",
    "        print(f\"Nuevo mínimo en loss de validación\")   \n",
    "    else:\n",
    "        patience -= 1\n",
    "        if patience <= 0:\n",
    "            print(\"Early stopping triggered\")\n",
    "            break\n",
    "    epoch += 1"
   ]
  },
  {
   "cell_type": "code",
   "execution_count": null,
   "id": "687393fa",
   "metadata": {},
   "outputs": [],
   "source": [
    "# Grafica de las curvas de pérdida\n",
    "plt.plot(train_losses, label='Train Loss')\n",
    "plt.plot(val_losses, label='Val Loss')\n",
    "plt.xlabel('Épocas')\n",
    "plt.ylabel('Pérdida')\n",
    "plt.legend()\n",
    "plt.title('Curva de pérdida')\n",
    "plt.ylim(0, 1)\n",
    "plt.show()"
   ]
  },
  {
   "cell_type": "markdown",
   "id": "c94024bc",
   "metadata": {},
   "source": [
    "#### Testeo del modelo"
   ]
  },
  {
   "cell_type": "code",
   "execution_count": null,
   "id": "0bb0a809",
   "metadata": {},
   "outputs": [],
   "source": [
    "# Evaluación del modelo en el conjunto de test\n",
    "model.eval()\n",
    "model.load_state_dict(torch.load('./MejoresPesos/best_model_MLP_P3.pth'))  # Cargar los mejores pesos del modelo\n",
    "\n",
    "test_loss = 0.0\n",
    "\n",
    "preds = []\n",
    "true = []\n",
    "with torch.no_grad():\n",
    "    for _ in range(len(X_test)):\n",
    "        input, labels = next(iter(X_test)), next(iter(y_test))\n",
    "        input, labels = input.to(device), labels.to(device)\n",
    "\n",
    "        outputs = model(input)  \n",
    "        loss = criterion(outputs, labels)\n",
    "        test_loss += loss.item()\n",
    "\n",
    "        preds.append(outputs.cpu().numpy())\n",
    "        true.append(labels.cpu().numpy())\n",
    "    \n",
    "test_loss /= len(X_test)\n",
    "print(f\"Test Loss: {test_loss:.4f}\")"
   ]
  },
  {
   "cell_type": "code",
   "execution_count": null,
   "id": "658d692d",
   "metadata": {},
   "outputs": [],
   "source": [
    "# Metricas de evaluación\n",
    "y_pred = np.concatenate(preds).reshape(-1, 1)\n",
    "y_true = np.concatenate(true).reshape(-1, 1)\n",
    "\n",
    "mae = mean_absolute_error(y_true, y_pred)\n",
    "mse = mean_squared_error(y_true, y_pred)\n",
    "rmse = np.sqrt(mse)\n",
    "r2 = r2_score(y_true, y_pred)\n",
    "\n",
    "print(f\"MAE: {mae:.2f}\")\n",
    "print(f\"MSE: {mse:.2f}\")\n",
    "print(f\"RMSE: {rmse:.2f}\")\n",
    "print(f\"R²: {r2:.2f}\")"
   ]
  },
  {
   "cell_type": "markdown",
   "id": "0d874587",
   "metadata": {},
   "source": [
    "### Modelo HL 4, LR 0.0001"
   ]
  },
  {
   "cell_type": "markdown",
   "id": "0df55e7f",
   "metadata": {},
   "source": [
    "#### Model"
   ]
  },
  {
   "cell_type": "code",
   "execution_count": null,
   "id": "3ec85da3",
   "metadata": {},
   "outputs": [],
   "source": [
    "#Modelo de red neuronal\n",
    "class MLP_P4(nn.Module):\n",
    "    def __init__(self, hidden_size=10, input_size=133):\n",
    "        super().__init__()\n",
    "        self.hidden_size = hidden_size\n",
    "        self.input_size = input_size\n",
    "        self.h1 = nn.Linear(in_features=input_size,out_features=self.hidden_size)\n",
    "        self.h2 = nn.Linear(in_features=self.hidden_size,out_features=self.hidden_size)\n",
    "        self.h3 = nn.Linear(in_features=self.hidden_size,out_features=self.hidden_size)\n",
    "        self.h4 = nn.Linear(in_features=self.hidden_size,out_features=self.hidden_size)\n",
    "        self.out = nn.Linear(in_features=self.hidden_size,out_features=1)\n",
    "\n",
    "        self.act = nn.ReLU()\n",
    "    def forward(self, x):\n",
    "        l1 = self.h1(x)  #de entrada a capa oculta\n",
    "        l2 = self.h2(l1)  #de capa oculta a capa oculta\n",
    "        l3 = self.h2(l2)\n",
    "        l4 = self.h2(l3)  #de capa oculta a capa oculta\n",
    "        l4 = self.act(l4)     #activación\n",
    "        output = self.out(l4)   #salida\n",
    "        return output"
   ]
  },
  {
   "cell_type": "markdown",
   "id": "e73376ba",
   "metadata": {},
   "source": [
    "#### Prueba del modelo"
   ]
  },
  {
   "cell_type": "code",
   "execution_count": null,
   "id": "7b7b154d",
   "metadata": {},
   "outputs": [],
   "source": [
    "# Crear modelo\n",
    "model = MLP_P4()\n",
    "\n",
    "# Mover a GPU si está disponible\n",
    "device = torch.device(\"cuda\" if torch.cuda.is_available() else \"cpu\")\n",
    "model.to(device)\n",
    "\n",
    "# Crear entrada simulada \n",
    "x = torch.randn(1, 133).to(device)\n",
    "# Hacer forward pass\n",
    "with torch.no_grad():\n",
    "    output = model.forward(x)\n",
    "\n",
    "print(\"Output shape:\", output.shape)  # Debería ser [1, 1]\n",
    "\n",
    "summary(model, input_size=(1, 133))"
   ]
  },
  {
   "cell_type": "markdown",
   "id": "4fadc5c8",
   "metadata": {},
   "source": [
    "#### Inicialización del modelo"
   ]
  },
  {
   "cell_type": "code",
   "execution_count": null,
   "id": "74a125c3",
   "metadata": {},
   "outputs": [],
   "source": [
    "# Instanciar el modelo\n",
    "model = MLP_P4(hidden_size=7, input_size=len(df.columns)-1)  # -1 porque la última columna es la de popularidad\n",
    "\n",
    "# Usar GPU si está disponible\n",
    "device = torch.device(\"cuda\" if torch.cuda.is_available() else \"cpu\")\n",
    "model = model.to(device)\n",
    "\n",
    "# Definir la función de pérdida y el optimizador\n",
    "criterion = nn.MSELoss()  # Mean Squared Error para regresión \n",
    "optimizer = torch.optim.Adam(model.parameters(), lr=0.005, weight_decay=1e-4)  # Adam optimizer"
   ]
  },
  {
   "cell_type": "markdown",
   "id": "8b904fda",
   "metadata": {},
   "source": [
    "#### Entrenamiento del modelo"
   ]
  },
  {
   "cell_type": "code",
   "execution_count": null,
   "id": "60206ffc",
   "metadata": {},
   "outputs": [],
   "source": [
    "#Loop de entrenamiento\n",
    "epoch = 0\n",
    "patience= 10\n",
    "best_epoch = 0\n",
    "best_model = None\n",
    "\n",
    "batchs_per_epoch = 45\n",
    "\n",
    "train_losses = []\n",
    "val_losses = []\n",
    "best_val_loss = float('inf')\n",
    "\n",
    "while True:\n",
    "    # Entrenamiento    \n",
    "    model.train()\n",
    "    running_loss = 0.0\n",
    "    for _ in tqdm(range(batchs_per_epoch), desc=f\"Epoch {epoch+1}\"):\n",
    "        input, labels = next(iter(X_train)), next(iter(y_train))  # Obtener un batch de datos\n",
    "        input, labels = input.to(device), labels.to(device)\n",
    "\n",
    "        optimizer.zero_grad()\n",
    "\n",
    "        # Salidas \n",
    "        output = model(input)\n",
    "\n",
    "        # Pérdida combinada\n",
    "        loss = criterion(output, labels)\n",
    "\n",
    "        loss.backward()\n",
    "        optimizer.step()\n",
    "        running_loss += loss.item()\n",
    "\n",
    "    train_losses.append(running_loss / len(X_train))\n",
    "\n",
    "    # Validación\n",
    "    model.eval()\n",
    "    val_loss = 0.0\n",
    "\n",
    "    with torch.no_grad():\n",
    "        for _ in range(len(X_val)):\n",
    "            input, labels = next(iter(X_val)), next(iter(y_val))\n",
    "            input, labels = input.to(device), labels.to(device)\n",
    "\n",
    "            # Solo predicción principal en validación\n",
    "            outputs = model(input)  \n",
    "            loss = criterion(outputs, labels)\n",
    "            val_loss += loss.item()\n",
    "\n",
    "    val_losses.append(val_loss / len(X_val))\n",
    "    print(f\"Época {epoch+1} | Train Loss: {train_losses[-1]:.4f} | Val Loss: {val_losses[-1]:.4f}\")\n",
    "    \n",
    "    # Early stopping\n",
    "    if best_val_loss > (val_loss / len(X_val)):\n",
    "        patience = 10\n",
    "        best_val_loss = val_loss / len(X_val)\n",
    "        best_epoch = epoch + 1\n",
    "        best_model = model.state_dict()\n",
    "        torch.save(best_model, './MejoresPesos/best_model_MLP_P4.pth')\n",
    "        \n",
    "        print(f\"Nuevo mínimo en loss de validación\")   \n",
    "    else:\n",
    "        patience -= 1\n",
    "        if patience <= 0:\n",
    "            print(\"Early stopping triggered\")\n",
    "            break\n",
    "    epoch += 1"
   ]
  },
  {
   "cell_type": "code",
   "execution_count": null,
   "id": "b1d104a8",
   "metadata": {},
   "outputs": [],
   "source": [
    "# Grafica de las curvas de pérdida\n",
    "plt.plot(train_losses, label='Train Loss')\n",
    "plt.plot(val_losses, label='Val Loss')\n",
    "plt.xlabel('Épocas')\n",
    "plt.ylabel('Pérdida')\n",
    "plt.legend()\n",
    "plt.title('Curva de pérdida')\n",
    "plt.ylim(0, 1)\n",
    "plt.show()"
   ]
  },
  {
   "cell_type": "markdown",
   "id": "b306890e",
   "metadata": {},
   "source": [
    "#### Testeo del modelo"
   ]
  },
  {
   "cell_type": "code",
   "execution_count": null,
   "id": "c12b7750",
   "metadata": {},
   "outputs": [],
   "source": [
    "# Evaluación del modelo en el conjunto de test\n",
    "model.eval()\n",
    "model.load_state_dict(torch.load('./MejoresPesos/best_model_MLP_P4.pth'))  # Cargar los mejores pesos del modelo\n",
    "\n",
    "test_loss = 0.0\n",
    "\n",
    "preds = []\n",
    "true = []\n",
    "with torch.no_grad():\n",
    "    for _ in range(len(X_test)):\n",
    "        input, labels = next(iter(X_test)), next(iter(y_test))\n",
    "        input, labels = input.to(device), labels.to(device)\n",
    "\n",
    "        outputs = model(input)  \n",
    "        loss = criterion(outputs, labels)\n",
    "        test_loss += loss.item()\n",
    "\n",
    "        preds.append(outputs.cpu().numpy())\n",
    "        true.append(labels.cpu().numpy())\n",
    "    \n",
    "test_loss /= len(X_test)\n",
    "print(f\"Test Loss: {test_loss:.4f}\")\n"
   ]
  },
  {
   "cell_type": "code",
   "execution_count": null,
   "id": "15b754ba",
   "metadata": {},
   "outputs": [],
   "source": [
    "# Metricas de evaluación\n",
    "y_pred = np.concatenate(preds).reshape(-1, 1)\n",
    "y_true = np.concatenate(true).reshape(-1, 1)\n",
    "\n",
    "mae = mean_absolute_error(y_true, y_pred)\n",
    "mse = mean_squared_error(y_true, y_pred)\n",
    "rmse = np.sqrt(mse)\n",
    "r2 = r2_score(y_true, y_pred)\n",
    "\n",
    "print(f\"MAE: {mae:.2f}\")\n",
    "print(f\"MSE: {mse:.2f}\")\n",
    "print(f\"RMSE: {rmse:.2f}\")\n",
    "print(f\"R²: {r2:.2f}\")"
   ]
  }
 ],
 "metadata": {
  "kernelspec": {
   "display_name": "Python 3",
   "language": "python",
   "name": "python3"
  },
  "language_info": {
   "codemirror_mode": {
    "name": "ipython",
    "version": 3
   },
   "file_extension": ".py",
   "mimetype": "text/x-python",
   "name": "python",
   "nbconvert_exporter": "python",
   "pygments_lexer": "ipython3",
   "version": "3.13.2"
  }
 },
 "nbformat": 4,
 "nbformat_minor": 5
}
