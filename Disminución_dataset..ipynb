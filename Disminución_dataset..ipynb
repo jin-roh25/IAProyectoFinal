{
 "cells": [
  {
   "cell_type": "code",
   "execution_count": null,
   "id": "404b3aeb",
   "metadata": {
    "vscode": {
     "languageId": "plaintext"
    }
   },
   "outputs": [],
   "source": [
    "import pandas as pd\n",
    "\n",
    "# Cargar datos\n",
    "df = pd.read_csv('spotify_dataset.csv')\n",
    "\n",
    "# Optimizar tipos numéricos\n",
    "numeric_cols = ['Popularity', 'Energy', 'Danceability', 'Positiveness', \n",
    "                'Speechiness', 'Liveness', 'Acousticness', 'Instrumentalness']\n",
    "for col in numeric_cols:\n",
    "    df[col] = pd.to_numeric(df[col], downcast='unsigned')  # uint8\n",
    "\n",
    "# Optimizar booleanos\n",
    "binary_cols = [col for col in df.columns if 'Good for' in col] + ['Explicit']\n",
    "df[binary_cols] = df[binary_cols].replace({'No': 0, 'Yes': 1}).astype('bool')\n",
    "\n",
    "# Optimizar categorías\n",
    "categorical_cols = ['Genre', 'Key', 'Time signature', 'emotion', 'Artist(s)', 'Album']\n",
    "for col in categorical_cols:\n",
    "    df[col] = df[col].astype('category')\n",
    "\n",
    "# Guardar en Parquet (comprimido)\n",
    "df.to_parquet('songs_optimized.parquet', compression='snappy')"
   ]
  }
 ],
 "metadata": {
  "language_info": {
   "name": "python"
  }
 },
 "nbformat": 4,
 "nbformat_minor": 5
}
